{
 "cells": [
  {
   "cell_type": "markdown",
   "metadata": {},
   "source": [
    "## Прект модуля 18 - «Рекомендательные системы»\n",
    "### Разработка рекомендательной системы для аптек."
   ]
  },
  {
   "cell_type": "code",
   "execution_count": 1,
   "metadata": {},
   "outputs": [],
   "source": [
    "import pickle\n",
    "import string\n",
    "import annoy\n",
    "\n",
    "import pandas as pd\n",
    "import numpy as np\n",
    "\n",
    "from sklearn.model_selection import train_test_split\n",
    "from pymorphy2 import MorphAnalyzer\n",
    "from stop_words import get_stop_words\n",
    "from gensim.models import FastText\n",
    "from tqdm import notebook\n",
    "from tqdm import tqdm \n",
    "from gensim.models import Word2Vec\n",
    "\n",
    "import operator"
   ]
  },
  {
   "cell_type": "code",
   "execution_count": 2,
   "metadata": {},
   "outputs": [],
   "source": [
    "with open(\"Product_dict.pkl\",\"rb\") as f:\n",
    "    product_dict = pickle.load(f)"
   ]
  },
  {
   "cell_type": "code",
   "execution_count": 3,
   "metadata": {},
   "outputs": [
    {
     "name": "stderr",
     "output_type": "stream",
     "text": [
      "C:\\Users\\fadee\\anaconda3\\lib\\site-packages\\IPython\\core\\interactiveshell.py:3172: DtypeWarning: Columns (1) have mixed types.Specify dtype option on import or set low_memory=False.\n",
      "  has_raised = await self.run_ast_nodes(code_ast.body, cell_name,\n"
     ]
    }
   ],
   "source": [
    "# checks = pd.read_csv(\"data.csv\",encoding = \"ISO-8859-1\", engine='python')\n",
    "checks = pd.read_csv(\"data.csv\")"
   ]
  },
  {
   "cell_type": "code",
   "execution_count": 4,
   "metadata": {},
   "outputs": [
    {
     "data": {
      "text/html": [
       "<div>\n",
       "<style scoped>\n",
       "    .dataframe tbody tr th:only-of-type {\n",
       "        vertical-align: middle;\n",
       "    }\n",
       "\n",
       "    .dataframe tbody tr th {\n",
       "        vertical-align: top;\n",
       "    }\n",
       "\n",
       "    .dataframe thead th {\n",
       "        text-align: right;\n",
       "    }\n",
       "</style>\n",
       "<table border=\"1\" class=\"dataframe\">\n",
       "  <thead>\n",
       "    <tr style=\"text-align: right;\">\n",
       "      <th></th>\n",
       "      <th>sale_date_date</th>\n",
       "      <th>contact_id</th>\n",
       "      <th>shop_id</th>\n",
       "      <th>product_id</th>\n",
       "      <th>product_sub_category_id</th>\n",
       "      <th>product_category_id</th>\n",
       "      <th>brand_id</th>\n",
       "      <th>quantity</th>\n",
       "    </tr>\n",
       "  </thead>\n",
       "  <tbody>\n",
       "    <tr>\n",
       "      <th>0</th>\n",
       "      <td>2018-12-07</td>\n",
       "      <td>1260627</td>\n",
       "      <td>1455.0</td>\n",
       "      <td>168308.0</td>\n",
       "      <td>906.0</td>\n",
       "      <td>205.0</td>\n",
       "      <td>-1.0</td>\n",
       "      <td>1,00</td>\n",
       "    </tr>\n",
       "    <tr>\n",
       "      <th>1</th>\n",
       "      <td>2018-12-07</td>\n",
       "      <td>198287</td>\n",
       "      <td>279.0</td>\n",
       "      <td>134832.0</td>\n",
       "      <td>404.0</td>\n",
       "      <td>93.0</td>\n",
       "      <td>-1.0</td>\n",
       "      <td>1,00</td>\n",
       "    </tr>\n",
       "    <tr>\n",
       "      <th>2</th>\n",
       "      <td>2018-12-07</td>\n",
       "      <td>2418385</td>\n",
       "      <td>848.0</td>\n",
       "      <td>101384.0</td>\n",
       "      <td>404.0</td>\n",
       "      <td>93.0</td>\n",
       "      <td>-1.0</td>\n",
       "      <td>1,00</td>\n",
       "    </tr>\n",
       "    <tr>\n",
       "      <th>3</th>\n",
       "      <td>2018-12-07</td>\n",
       "      <td>1285774</td>\n",
       "      <td>1511.0</td>\n",
       "      <td>168570.0</td>\n",
       "      <td>906.0</td>\n",
       "      <td>205.0</td>\n",
       "      <td>-1.0</td>\n",
       "      <td>1,00</td>\n",
       "    </tr>\n",
       "    <tr>\n",
       "      <th>4</th>\n",
       "      <td>2018-12-07</td>\n",
       "      <td>1810323</td>\n",
       "      <td>1501.0</td>\n",
       "      <td>168319.0</td>\n",
       "      <td>906.0</td>\n",
       "      <td>205.0</td>\n",
       "      <td>-1.0</td>\n",
       "      <td>1,00</td>\n",
       "    </tr>\n",
       "  </tbody>\n",
       "</table>\n",
       "</div>"
      ],
      "text/plain": [
       "  sale_date_date contact_id  shop_id  product_id  product_sub_category_id  \\\n",
       "0     2018-12-07    1260627   1455.0    168308.0                    906.0   \n",
       "1     2018-12-07     198287    279.0    134832.0                    404.0   \n",
       "2     2018-12-07    2418385    848.0    101384.0                    404.0   \n",
       "3     2018-12-07    1285774   1511.0    168570.0                    906.0   \n",
       "4     2018-12-07    1810323   1501.0    168319.0                    906.0   \n",
       "\n",
       "   product_category_id  brand_id quantity  \n",
       "0                205.0      -1.0     1,00  \n",
       "1                 93.0      -1.0     1,00  \n",
       "2                 93.0      -1.0     1,00  \n",
       "3                205.0      -1.0     1,00  \n",
       "4                205.0      -1.0     1,00  "
      ]
     },
     "execution_count": 4,
     "metadata": {},
     "output_type": "execute_result"
    }
   ],
   "source": [
    "checks.drop(['name'], axis=1, inplace=True)\n",
    "checks.head()"
   ]
  },
  {
   "cell_type": "code",
   "execution_count": 5,
   "metadata": {},
   "outputs": [
    {
     "data": {
      "text/html": [
       "<div>\n",
       "<style scoped>\n",
       "    .dataframe tbody tr th:only-of-type {\n",
       "        vertical-align: middle;\n",
       "    }\n",
       "\n",
       "    .dataframe tbody tr th {\n",
       "        vertical-align: top;\n",
       "    }\n",
       "\n",
       "    .dataframe thead th {\n",
       "        text-align: right;\n",
       "    }\n",
       "</style>\n",
       "<table border=\"1\" class=\"dataframe\">\n",
       "  <thead>\n",
       "    <tr style=\"text-align: right;\">\n",
       "      <th></th>\n",
       "      <th>sale_date_date</th>\n",
       "      <th>contact_id</th>\n",
       "      <th>shop_id</th>\n",
       "      <th>product_id</th>\n",
       "      <th>product_sub_category_id</th>\n",
       "      <th>product_category_id</th>\n",
       "      <th>brand_id</th>\n",
       "      <th>quantity</th>\n",
       "      <th>key_col</th>\n",
       "    </tr>\n",
       "  </thead>\n",
       "  <tbody>\n",
       "    <tr>\n",
       "      <th>0</th>\n",
       "      <td>2018-12-07</td>\n",
       "      <td>1260627</td>\n",
       "      <td>1455.0</td>\n",
       "      <td>168308.0</td>\n",
       "      <td>906.0</td>\n",
       "      <td>205.0</td>\n",
       "      <td>-1.0</td>\n",
       "      <td>1,00</td>\n",
       "      <td>2018-12-07_1260627_1455.0</td>\n",
       "    </tr>\n",
       "    <tr>\n",
       "      <th>1</th>\n",
       "      <td>2018-12-07</td>\n",
       "      <td>198287</td>\n",
       "      <td>279.0</td>\n",
       "      <td>134832.0</td>\n",
       "      <td>404.0</td>\n",
       "      <td>93.0</td>\n",
       "      <td>-1.0</td>\n",
       "      <td>1,00</td>\n",
       "      <td>2018-12-07_198287_279.0</td>\n",
       "    </tr>\n",
       "    <tr>\n",
       "      <th>2</th>\n",
       "      <td>2018-12-07</td>\n",
       "      <td>2418385</td>\n",
       "      <td>848.0</td>\n",
       "      <td>101384.0</td>\n",
       "      <td>404.0</td>\n",
       "      <td>93.0</td>\n",
       "      <td>-1.0</td>\n",
       "      <td>1,00</td>\n",
       "      <td>2018-12-07_2418385_848.0</td>\n",
       "    </tr>\n",
       "    <tr>\n",
       "      <th>3</th>\n",
       "      <td>2018-12-07</td>\n",
       "      <td>1285774</td>\n",
       "      <td>1511.0</td>\n",
       "      <td>168570.0</td>\n",
       "      <td>906.0</td>\n",
       "      <td>205.0</td>\n",
       "      <td>-1.0</td>\n",
       "      <td>1,00</td>\n",
       "      <td>2018-12-07_1285774_1511.0</td>\n",
       "    </tr>\n",
       "    <tr>\n",
       "      <th>4</th>\n",
       "      <td>2018-12-07</td>\n",
       "      <td>1810323</td>\n",
       "      <td>1501.0</td>\n",
       "      <td>168319.0</td>\n",
       "      <td>906.0</td>\n",
       "      <td>205.0</td>\n",
       "      <td>-1.0</td>\n",
       "      <td>1,00</td>\n",
       "      <td>2018-12-07_1810323_1501.0</td>\n",
       "    </tr>\n",
       "  </tbody>\n",
       "</table>\n",
       "</div>"
      ],
      "text/plain": [
       "  sale_date_date contact_id  shop_id  product_id  product_sub_category_id  \\\n",
       "0     2018-12-07    1260627   1455.0    168308.0                    906.0   \n",
       "1     2018-12-07     198287    279.0    134832.0                    404.0   \n",
       "2     2018-12-07    2418385    848.0    101384.0                    404.0   \n",
       "3     2018-12-07    1285774   1511.0    168570.0                    906.0   \n",
       "4     2018-12-07    1810323   1501.0    168319.0                    906.0   \n",
       "\n",
       "   product_category_id  brand_id quantity                    key_col  \n",
       "0                205.0      -1.0     1,00  2018-12-07_1260627_1455.0  \n",
       "1                 93.0      -1.0     1,00    2018-12-07_198287_279.0  \n",
       "2                 93.0      -1.0     1,00   2018-12-07_2418385_848.0  \n",
       "3                205.0      -1.0     1,00  2018-12-07_1285774_1511.0  \n",
       "4                205.0      -1.0     1,00  2018-12-07_1810323_1501.0  "
      ]
     },
     "execution_count": 5,
     "metadata": {},
     "output_type": "execute_result"
    }
   ],
   "source": [
    "# Создадим ключевую колонку: время + касса + магазин\n",
    "checks['key_col'] = checks['sale_date_date'].apply(str) + \"_\" + checks['contact_id'].apply(str) + \"_\" + checks['shop_id'].apply(str)\n",
    "checks.head()"
   ]
  },
  {
   "cell_type": "markdown",
   "metadata": {},
   "source": [
    "#### ОБработаем датасет, удалим нулевые значения, заменим индексы и отсортируем по дате"
   ]
  },
  {
   "cell_type": "code",
   "execution_count": 6,
   "metadata": {},
   "outputs": [
    {
     "data": {
      "text/html": [
       "<div>\n",
       "<style scoped>\n",
       "    .dataframe tbody tr th:only-of-type {\n",
       "        vertical-align: middle;\n",
       "    }\n",
       "\n",
       "    .dataframe tbody tr th {\n",
       "        vertical-align: top;\n",
       "    }\n",
       "\n",
       "    .dataframe thead th {\n",
       "        text-align: right;\n",
       "    }\n",
       "</style>\n",
       "<table border=\"1\" class=\"dataframe\">\n",
       "  <thead>\n",
       "    <tr style=\"text-align: right;\">\n",
       "      <th></th>\n",
       "      <th>sale_date_date</th>\n",
       "      <th>contact_id</th>\n",
       "      <th>shop_id</th>\n",
       "      <th>product_id</th>\n",
       "      <th>product_sub_category_id</th>\n",
       "      <th>product_category_id</th>\n",
       "      <th>brand_id</th>\n",
       "      <th>quantity</th>\n",
       "      <th>key_col</th>\n",
       "    </tr>\n",
       "  </thead>\n",
       "  <tbody>\n",
       "    <tr>\n",
       "      <th>306263</th>\n",
       "      <td>2018-12-06</td>\n",
       "      <td>823777</td>\n",
       "      <td>312.0</td>\n",
       "      <td>28232.0</td>\n",
       "      <td>735.0</td>\n",
       "      <td>170.0</td>\n",
       "      <td>-1.0</td>\n",
       "      <td>1,00</td>\n",
       "      <td>2018-12-06_823777_312.0</td>\n",
       "    </tr>\n",
       "    <tr>\n",
       "      <th>3634992</th>\n",
       "      <td>2018-11-14</td>\n",
       "      <td>553757</td>\n",
       "      <td>308.0</td>\n",
       "      <td>69241.0</td>\n",
       "      <td>718.0</td>\n",
       "      <td>166.0</td>\n",
       "      <td>3016.0</td>\n",
       "      <td>1,00</td>\n",
       "      <td>2018-11-14_553757_308.0</td>\n",
       "    </tr>\n",
       "    <tr>\n",
       "      <th>7891288</th>\n",
       "      <td>2018-03-07</td>\n",
       "      <td>102448</td>\n",
       "      <td>311.0</td>\n",
       "      <td>122384.0</td>\n",
       "      <td>613.0</td>\n",
       "      <td>140.0</td>\n",
       "      <td>-1.0</td>\n",
       "      <td>1,00</td>\n",
       "      <td>2018-03-07_102448_311.0</td>\n",
       "    </tr>\n",
       "    <tr>\n",
       "      <th>17322890</th>\n",
       "      <td>2018-06-08</td>\n",
       "      <td>1055168</td>\n",
       "      <td>348.0</td>\n",
       "      <td>154101.0</td>\n",
       "      <td>395.0</td>\n",
       "      <td>89.0</td>\n",
       "      <td>-1.0</td>\n",
       "      <td>1,00</td>\n",
       "      <td>2018-06-08_1055168_348.0</td>\n",
       "    </tr>\n",
       "    <tr>\n",
       "      <th>19518841</th>\n",
       "      <td>2018-06-29</td>\n",
       "      <td>399746</td>\n",
       "      <td>332.0</td>\n",
       "      <td>51861.0</td>\n",
       "      <td>601.0</td>\n",
       "      <td>135.0</td>\n",
       "      <td>-1.0</td>\n",
       "      <td>1,00</td>\n",
       "      <td>2018-06-29_399746_332.0</td>\n",
       "    </tr>\n",
       "  </tbody>\n",
       "</table>\n",
       "</div>"
      ],
      "text/plain": [
       "         sale_date_date contact_id  shop_id  product_id  \\\n",
       "306263       2018-12-06     823777    312.0     28232.0   \n",
       "3634992      2018-11-14     553757    308.0     69241.0   \n",
       "7891288      2018-03-07     102448    311.0    122384.0   \n",
       "17322890     2018-06-08    1055168    348.0    154101.0   \n",
       "19518841     2018-06-29     399746    332.0     51861.0   \n",
       "\n",
       "          product_sub_category_id  product_category_id  brand_id quantity  \\\n",
       "306263                      735.0                170.0      -1.0     1,00   \n",
       "3634992                     718.0                166.0    3016.0     1,00   \n",
       "7891288                     613.0                140.0      -1.0     1,00   \n",
       "17322890                    395.0                 89.0      -1.0     1,00   \n",
       "19518841                    601.0                135.0      -1.0     1,00   \n",
       "\n",
       "                           key_col  \n",
       "306263     2018-12-06_823777_312.0  \n",
       "3634992    2018-11-14_553757_308.0  \n",
       "7891288    2018-03-07_102448_311.0  \n",
       "17322890  2018-06-08_1055168_348.0  \n",
       "19518841   2018-06-29_399746_332.0  "
      ]
     },
     "execution_count": 6,
     "metadata": {},
     "output_type": "execute_result"
    }
   ],
   "source": [
    "checks.dropna(inplace=True)\n",
    "checks = checks[checks['sale_date_date'].str.startswith(\"20\")]\n",
    "checks.reset_index(inplace=True, drop=True)\n",
    "checks['sale_date_date'] = pd.to_datetime(checks['sale_date_date'])\n",
    "checks.sort_values('sale_date_date', inplace=True)\n",
    "checks.sample(5)"
   ]
  },
  {
   "cell_type": "markdown",
   "metadata": {},
   "source": [
    "## 1. Создание валидационного датасета"
   ]
  },
  {
   "cell_type": "code",
   "execution_count": 7,
   "metadata": {},
   "outputs": [],
   "source": [
    "# Достаточно отсортировать и сделать трейн-тест, чтобы построить валидацию.\n",
    "train, test = train_test_split(checks, test_size=0.3, shuffle=False)"
   ]
  },
  {
   "cell_type": "code",
   "execution_count": 8,
   "metadata": {},
   "outputs": [
    {
     "data": {
      "text/html": [
       "<div>\n",
       "<style scoped>\n",
       "    .dataframe tbody tr th:only-of-type {\n",
       "        vertical-align: middle;\n",
       "    }\n",
       "\n",
       "    .dataframe tbody tr th {\n",
       "        vertical-align: top;\n",
       "    }\n",
       "\n",
       "    .dataframe thead th {\n",
       "        text-align: right;\n",
       "    }\n",
       "</style>\n",
       "<table border=\"1\" class=\"dataframe\">\n",
       "  <thead>\n",
       "    <tr style=\"text-align: right;\">\n",
       "      <th></th>\n",
       "      <th>sale_date_date</th>\n",
       "      <th>contact_id</th>\n",
       "      <th>shop_id</th>\n",
       "      <th>product_id</th>\n",
       "      <th>product_sub_category_id</th>\n",
       "      <th>product_category_id</th>\n",
       "      <th>brand_id</th>\n",
       "      <th>quantity</th>\n",
       "      <th>key_col</th>\n",
       "    </tr>\n",
       "  </thead>\n",
       "  <tbody>\n",
       "    <tr>\n",
       "      <th>17307935</th>\n",
       "      <td>2018-06-09</td>\n",
       "      <td>272040</td>\n",
       "      <td>307.0</td>\n",
       "      <td>81948.0</td>\n",
       "      <td>448.0</td>\n",
       "      <td>105.0</td>\n",
       "      <td>-1.0</td>\n",
       "      <td>1,00</td>\n",
       "      <td>2018-06-09_272040_307.0</td>\n",
       "    </tr>\n",
       "    <tr>\n",
       "      <th>17307936</th>\n",
       "      <td>2018-06-09</td>\n",
       "      <td>717152</td>\n",
       "      <td>329.0</td>\n",
       "      <td>63026.0</td>\n",
       "      <td>699.0</td>\n",
       "      <td>162.0</td>\n",
       "      <td>-1.0</td>\n",
       "      <td>1,00</td>\n",
       "      <td>2018-06-09_717152_329.0</td>\n",
       "    </tr>\n",
       "    <tr>\n",
       "      <th>17307937</th>\n",
       "      <td>2018-06-09</td>\n",
       "      <td>373791</td>\n",
       "      <td>317.0</td>\n",
       "      <td>151429.0</td>\n",
       "      <td>738.0</td>\n",
       "      <td>170.0</td>\n",
       "      <td>-1.0</td>\n",
       "      <td>1,00</td>\n",
       "      <td>2018-06-09_373791_317.0</td>\n",
       "    </tr>\n",
       "    <tr>\n",
       "      <th>17307938</th>\n",
       "      <td>2018-06-09</td>\n",
       "      <td>592856</td>\n",
       "      <td>279.0</td>\n",
       "      <td>142296.0</td>\n",
       "      <td>397.0</td>\n",
       "      <td>90.0</td>\n",
       "      <td>-1.0</td>\n",
       "      <td>1,00</td>\n",
       "      <td>2018-06-09_592856_279.0</td>\n",
       "    </tr>\n",
       "    <tr>\n",
       "      <th>17307939</th>\n",
       "      <td>2018-06-09</td>\n",
       "      <td>448173</td>\n",
       "      <td>263.0</td>\n",
       "      <td>73663.0</td>\n",
       "      <td>632.0</td>\n",
       "      <td>146.0</td>\n",
       "      <td>-1.0</td>\n",
       "      <td>1,00</td>\n",
       "      <td>2018-06-09_448173_263.0</td>\n",
       "    </tr>\n",
       "  </tbody>\n",
       "</table>\n",
       "</div>"
      ],
      "text/plain": [
       "         sale_date_date contact_id  shop_id  product_id  \\\n",
       "17307935     2018-06-09     272040    307.0     81948.0   \n",
       "17307936     2018-06-09     717152    329.0     63026.0   \n",
       "17307937     2018-06-09     373791    317.0    151429.0   \n",
       "17307938     2018-06-09     592856    279.0    142296.0   \n",
       "17307939     2018-06-09     448173    263.0     73663.0   \n",
       "\n",
       "          product_sub_category_id  product_category_id  brand_id quantity  \\\n",
       "17307935                    448.0                105.0      -1.0     1,00   \n",
       "17307936                    699.0                162.0      -1.0     1,00   \n",
       "17307937                    738.0                170.0      -1.0     1,00   \n",
       "17307938                    397.0                 90.0      -1.0     1,00   \n",
       "17307939                    632.0                146.0      -1.0     1,00   \n",
       "\n",
       "                          key_col  \n",
       "17307935  2018-06-09_272040_307.0  \n",
       "17307936  2018-06-09_717152_329.0  \n",
       "17307937  2018-06-09_373791_317.0  \n",
       "17307938  2018-06-09_592856_279.0  \n",
       "17307939  2018-06-09_448173_263.0  "
      ]
     },
     "execution_count": 8,
     "metadata": {},
     "output_type": "execute_result"
    }
   ],
   "source": [
    "train.tail()"
   ]
  },
  {
   "cell_type": "code",
   "execution_count": 9,
   "metadata": {},
   "outputs": [
    {
     "data": {
      "text/html": [
       "<div>\n",
       "<style scoped>\n",
       "    .dataframe tbody tr th:only-of-type {\n",
       "        vertical-align: middle;\n",
       "    }\n",
       "\n",
       "    .dataframe tbody tr th {\n",
       "        vertical-align: top;\n",
       "    }\n",
       "\n",
       "    .dataframe thead th {\n",
       "        text-align: right;\n",
       "    }\n",
       "</style>\n",
       "<table border=\"1\" class=\"dataframe\">\n",
       "  <thead>\n",
       "    <tr style=\"text-align: right;\">\n",
       "      <th></th>\n",
       "      <th>sale_date_date</th>\n",
       "      <th>contact_id</th>\n",
       "      <th>shop_id</th>\n",
       "      <th>product_id</th>\n",
       "      <th>product_sub_category_id</th>\n",
       "      <th>product_category_id</th>\n",
       "      <th>brand_id</th>\n",
       "      <th>quantity</th>\n",
       "      <th>key_col</th>\n",
       "    </tr>\n",
       "  </thead>\n",
       "  <tbody>\n",
       "    <tr>\n",
       "      <th>17307933</th>\n",
       "      <td>2018-06-09</td>\n",
       "      <td>176750</td>\n",
       "      <td>313.0</td>\n",
       "      <td>119686.0</td>\n",
       "      <td>395.0</td>\n",
       "      <td>89.0</td>\n",
       "      <td>-1.0</td>\n",
       "      <td>1,00</td>\n",
       "      <td>2018-06-09_176750_313.0</td>\n",
       "    </tr>\n",
       "    <tr>\n",
       "      <th>17307959</th>\n",
       "      <td>2018-06-09</td>\n",
       "      <td>1235404</td>\n",
       "      <td>348.0</td>\n",
       "      <td>52565.0</td>\n",
       "      <td>644.0</td>\n",
       "      <td>148.0</td>\n",
       "      <td>-1.0</td>\n",
       "      <td>1,00</td>\n",
       "      <td>2018-06-09_1235404_348.0</td>\n",
       "    </tr>\n",
       "    <tr>\n",
       "      <th>17307960</th>\n",
       "      <td>2018-06-09</td>\n",
       "      <td>118915</td>\n",
       "      <td>321.0</td>\n",
       "      <td>162842.0</td>\n",
       "      <td>738.0</td>\n",
       "      <td>170.0</td>\n",
       "      <td>-1.0</td>\n",
       "      <td>1,00</td>\n",
       "      <td>2018-06-09_118915_321.0</td>\n",
       "    </tr>\n",
       "    <tr>\n",
       "      <th>17307961</th>\n",
       "      <td>2018-06-09</td>\n",
       "      <td>23784</td>\n",
       "      <td>833.0</td>\n",
       "      <td>89112.0</td>\n",
       "      <td>738.0</td>\n",
       "      <td>170.0</td>\n",
       "      <td>-1.0</td>\n",
       "      <td>1,00</td>\n",
       "      <td>2018-06-09_23784_833.0</td>\n",
       "    </tr>\n",
       "    <tr>\n",
       "      <th>17307981</th>\n",
       "      <td>2018-06-09</td>\n",
       "      <td>812376</td>\n",
       "      <td>869.0</td>\n",
       "      <td>68794.0</td>\n",
       "      <td>445.0</td>\n",
       "      <td>103.0</td>\n",
       "      <td>-1.0</td>\n",
       "      <td>1,00</td>\n",
       "      <td>2018-06-09_812376_869.0</td>\n",
       "    </tr>\n",
       "  </tbody>\n",
       "</table>\n",
       "</div>"
      ],
      "text/plain": [
       "         sale_date_date contact_id  shop_id  product_id  \\\n",
       "17307933     2018-06-09     176750    313.0    119686.0   \n",
       "17307959     2018-06-09    1235404    348.0     52565.0   \n",
       "17307960     2018-06-09     118915    321.0    162842.0   \n",
       "17307961     2018-06-09      23784    833.0     89112.0   \n",
       "17307981     2018-06-09     812376    869.0     68794.0   \n",
       "\n",
       "          product_sub_category_id  product_category_id  brand_id quantity  \\\n",
       "17307933                    395.0                 89.0      -1.0     1,00   \n",
       "17307959                    644.0                148.0      -1.0     1,00   \n",
       "17307960                    738.0                170.0      -1.0     1,00   \n",
       "17307961                    738.0                170.0      -1.0     1,00   \n",
       "17307981                    445.0                103.0      -1.0     1,00   \n",
       "\n",
       "                           key_col  \n",
       "17307933   2018-06-09_176750_313.0  \n",
       "17307959  2018-06-09_1235404_348.0  \n",
       "17307960   2018-06-09_118915_321.0  \n",
       "17307961    2018-06-09_23784_833.0  \n",
       "17307981   2018-06-09_812376_869.0  "
      ]
     },
     "execution_count": 9,
     "metadata": {},
     "output_type": "execute_result"
    }
   ],
   "source": [
    "test.head()"
   ]
  },
  {
   "cell_type": "markdown",
   "metadata": {},
   "source": [
    "## 2. Создание контетной рекомендации по названию товаров"
   ]
  },
  {
   "cell_type": "code",
   "execution_count": 11,
   "metadata": {},
   "outputs": [],
   "source": [
    "# Для фильтрации пунктуации\n",
    "exclude = set(string.punctuation)\n",
    "# Для приведения слов в начальной форме\n",
    "morpher = MorphAnalyzer()\n",
    "\n",
    "# Для фильтрации стоп-слов\n",
    "sw = get_stop_words(\"ru\")\n",
    "\n",
    "def preprocess_txt(line):\n",
    "    spls = \"\".join(i for i in str(line).strip() if i not in exclude).split()\n",
    "    spls = [morpher.parse(i.lower())[0].normal_form for i in spls]\n",
    "    spls = [i for i in spls if i not in sw and i != \"\"]\n",
    "    return spls\n",
    "\n",
    "sentences = [preprocess_txt(k) for k in product_dict.keys()]"
   ]
  },
  {
   "cell_type": "markdown",
   "metadata": {},
   "source": [
    "##### Подготовим кандидатогенератор, который будет отдавать похожие продукты "
   ]
  },
  {
   "cell_type": "code",
   "execution_count": 12,
   "metadata": {},
   "outputs": [],
   "source": [
    "# Обучим Fasttext и заэмбедим продукты\n",
    "modelFT = FastText(sentences=sentences, vector_size=20, min_count=1, window=5)\n",
    "\n",
    "# Для того, чтобы быстро находить айтемы положим эмбединги их тайтлов в ANN индекс\n",
    "# Создадим объект индекса\n",
    "ft_index_names = annoy.AnnoyIndex(20 ,'angular')"
   ]
  },
  {
   "cell_type": "code",
   "execution_count": 13,
   "metadata": {},
   "outputs": [
    {
     "data": {
      "application/vnd.jupyter.widget-view+json": {
       "model_id": "6837a6ef512445f9824327b44ff0b717",
       "version_major": 2,
       "version_minor": 0
      },
      "text/plain": [
       "  0%|          | 0/30418 [00:00<?, ?it/s]"
      ]
     },
     "metadata": {},
     "output_type": "display_data"
    },
    {
     "data": {
      "text/plain": [
       "True"
      ]
     },
     "execution_count": 13,
     "metadata": {},
     "output_type": "execute_result"
    }
   ],
   "source": [
    "# Будем хранить соответствия не только id-> продукт, но и продукт-> id, чтобы быстрее находить эмбеддинги айтемов\n",
    "reverse_index_map = {}\n",
    "counter = 0\n",
    "\n",
    "for name in notebook.tqdm(product_dict.keys()):\n",
    "    n_ft = 0\n",
    "    reverse_index_map[counter] = name\n",
    "    vector_ft = np.zeros(20)\n",
    "    # Каждое слово обернем в эмбеддинг\n",
    "    for word in preprocess_txt(name):\n",
    "        if word in modelFT.wv:\n",
    "            vector_ft += modelFT.wv[word]\n",
    "            n_ft += 1\n",
    "    if n_ft > 0:\n",
    "        vector_ft = vector_ft / n_ft\n",
    "    ft_index_names.add_item(counter, vector_ft)\n",
    "    counter += 1\n",
    "\n",
    "ft_index_names.build(10)"
   ]
  },
  {
   "cell_type": "code",
   "execution_count": 14,
   "metadata": {},
   "outputs": [],
   "source": [
    "reverse_item_mapping = {v: k for k, v in product_dict.items()}\n",
    "\n",
    "def recommend(items_list):\n",
    "    '''Функция создания рекомендации\n",
    "    по перечню кодов товаров рекомендует 10 похожих товаров'''\n",
    "    current_vector = np.zeros(20)\n",
    "    c = len(items_list)+1\n",
    "    for iid in items_list:\n",
    "        iname = product_dict[iid]\n",
    "        if iname not in reverse_index_map:\n",
    "            c -= 1\n",
    "            continue\n",
    "        current_vector += np.array(ft_index_names.get_item_vector[reverse_index_map[iname]])\n",
    "    return [product_dict[reverse_index_map[i]] for i in ft_index_names.get_nns_by_vector(current_vector / c, 10)]"
   ]
  },
  {
   "cell_type": "code",
   "execution_count": 15,
   "metadata": {},
   "outputs": [
    {
     "data": {
      "text/plain": [
       "['(51777) Фестал драже N100 601',\n",
       " '(72588) Тампоны спиртовые Soft-Zellin 3 х 6см №100 (9999791) 671',\n",
       " '(48005) Тенотен таб. №40 456',\n",
       " '(65381) Аторвастатин-Тева табл. п.п.о. 10 мг. №30 685',\n",
       " '(37986) Кипферон свечи N10 581',\n",
       " '(117208) Ливазо таб.п.п.о.4мг №28 685',\n",
       " '(90927) Доктор Столетов Вата мед хирург н/стер 100г 672',\n",
       " '(48685) Корега Дентал Вайт отбелив. таб. №30 533',\n",
       " '(111024) Пакет \"Аптека Озерки\" 38 х 50см 906',\n",
       " '(53754) Артрозан таб. 15мг № 20 647']"
      ]
     },
     "execution_count": 15,
     "metadata": {},
     "output_type": "execute_result"
    }
   ],
   "source": [
    "# Получение контентной рекомендации\n",
    "recommend(['52539', '217083'])"
   ]
  },
  {
   "cell_type": "markdown",
   "metadata": {},
   "source": [
    "## 3.Создание рекомендации с Word2Vec по чековым данным\n",
    "#### Обучение эмбеддингов по последовательности"
   ]
  },
  {
   "cell_type": "code",
   "execution_count": 16,
   "metadata": {},
   "outputs": [],
   "source": [
    "train['product_id'] = train['product_id'].apply(int).apply(str)\n",
    "\n",
    "grouped = train.groupby('key_col')\n",
    "sentencesW2V = []"
   ]
  },
  {
   "cell_type": "code",
   "execution_count": 17,
   "metadata": {
    "scrolled": true
   },
   "outputs": [
    {
     "data": {
      "application/vnd.jupyter.widget-view+json": {
       "model_id": "8a19eb6b04e44ff8b7c569da4fcd4417",
       "version_major": 2,
       "version_minor": 0
      },
      "text/plain": [
       "  0%|          | 0/4110156 [00:00<?, ?it/s]"
      ]
     },
     "metadata": {},
     "output_type": "display_data"
    }
   ],
   "source": [
    "# Сформируем последовательности\n",
    "sentencesW2V = []\n",
    "for group in notebook.tqdm(grouped.groups):\n",
    "    products = grouped.get_group(group)['product_id'].values\n",
    "    if len(products) < 3:\n",
    "        continue\n",
    "    sentencesW2V.append(list(products))"
   ]
  },
  {
   "cell_type": "code",
   "execution_count": 18,
   "metadata": {},
   "outputs": [],
   "source": [
    "# Строим модель\n",
    "modelW2V = Word2Vec(sentencesW2V, vector_size=10)"
   ]
  },
  {
   "cell_type": "code",
   "execution_count": 19,
   "metadata": {},
   "outputs": [
    {
     "data": {
      "text/plain": [
       "['120171', '69028', '62087']"
      ]
     },
     "execution_count": 19,
     "metadata": {},
     "output_type": "execute_result"
    }
   ],
   "source": [
    "sentencesW2V[0]"
   ]
  },
  {
   "cell_type": "code",
   "execution_count": 20,
   "metadata": {},
   "outputs": [
    {
     "data": {
      "text/plain": [
       "[('168570', 0.9876341819763184),\n",
       " ('217393', 0.9772195816040039),\n",
       " ('216024', 0.9749835133552551),\n",
       " ('216045', 0.9706698060035706),\n",
       " ('217210', 0.9656913876533508),\n",
       " ('213615', 0.9606829285621643),\n",
       " ('193351', 0.9571182727813721),\n",
       " ('192834', 0.9549943804740906),\n",
       " ('60795', 0.950454831123352),\n",
       " ('192785', 0.9419720768928528)]"
      ]
     },
     "execution_count": 20,
     "metadata": {},
     "output_type": "execute_result"
    }
   ],
   "source": [
    "modelW2V.wv.similar_by_vector([1,2])"
   ]
  },
  {
   "cell_type": "code",
   "execution_count": 21,
   "metadata": {},
   "outputs": [],
   "source": [
    "def recommend_w2v(items_list):\n",
    "    '''Функция создания рекомендации\n",
    "    по перечню кодов товаров рекомендует 10 похожих товаров \n",
    "    с использованием эмбедингов по последовательности'''\n",
    "    current_vector = np.zeros(10)\n",
    "    c = len(items_list)+1\n",
    "    for iid in items_list:\n",
    "        iname = product_dict[iid]\n",
    "        if iname not in modelW2V.wv:\n",
    "            c -= 1\n",
    "            continue\n",
    "        current_vector += np.array(modelW2V.wv[reverse_index_map[iname]])\n",
    "    return [product_dict[i[0]] for i in modelW2V.wv.similar_by_vector(current_vector / c, 10)]"
   ]
  },
  {
   "cell_type": "code",
   "execution_count": 22,
   "metadata": {},
   "outputs": [
    {
     "data": {
      "text/plain": [
       "['(179474) Маример капли назал.5мл №10 701',\n",
       " '(79550) Йода р-р 5% 20мл флакон с кисточкой №1 404',\n",
       " '(1386) Виши Деркос Шампунь дерматол. успокаивающий 200мл арт.8081 -1',\n",
       " '(38640) Липримар табл. п.о. 10 мг. №30 685',\n",
       " '(122307) СВР Себиаклир Крем для лица SPF50 50мл 500',\n",
       " '(96684) Редерм мазь д/наруж.прим. туба 15г 467',\n",
       " '(12433) Валериана [корневища с корнями пачка 70г] N1 -1',\n",
       " '(115414) Солгар Комфорт зон капс.№90 428',\n",
       " '(110046454) название -1',\n",
       " '(67234) Фитосольба Фитоколор Краска д/волос 8CD Рыжеватый 479']"
      ]
     },
     "execution_count": 22,
     "metadata": {},
     "output_type": "execute_result"
    }
   ],
   "source": [
    "# Получение рекомендации с Word2Vec по чековым данным\n",
    "recommend_w2v(['120171', '69028', '62087'])"
   ]
  },
  {
   "cell_type": "markdown",
   "metadata": {},
   "source": [
    "## 4. Двухстадийная рекомендательная система\n",
    "####  с кандидатогенерацией и ранжированием по частоте покупки товара"
   ]
  },
  {
   "cell_type": "code",
   "execution_count": 23,
   "metadata": {},
   "outputs": [],
   "source": [
    "# Создадим метод, который по id продукта будет возвращать похожие на него\n",
    "def recommend(product_id, num_sampled=10):\n",
    "    n = 0\n",
    "    for key, value in reverse_index_map.items():\n",
    "         if product_id == value:\n",
    "                n = key          \n",
    "    if n not in reverse_index_map:\n",
    "        return []\n",
    "    return ft_index_names.get_nns_by_item(n, num_sampled)"
   ]
  },
  {
   "cell_type": "code",
   "execution_count": 24,
   "metadata": {},
   "outputs": [
    {
     "data": {
      "text/plain": [
       "[10117, 19808, 15573, 8360, 3270, 29081, 12608, 8192, 11186, 24769]"
      ]
     },
     "execution_count": 24,
     "metadata": {},
     "output_type": "execute_result"
    }
   ],
   "source": [
    "recommend('214112')"
   ]
  },
  {
   "cell_type": "code",
   "execution_count": 25,
   "metadata": {},
   "outputs": [],
   "source": [
    "# Сделаем сразу рандомный кандидатогенератор (он нам пригодится для кандидатогенерации по субкатегории)\n",
    "def sample_random(sample_set, num_sampled=10):\n",
    "    return np.random.choice(sample_set, num_sampled, replace=True)"
   ]
  },
  {
   "cell_type": "code",
   "execution_count": 26,
   "metadata": {},
   "outputs": [
    {
     "data": {
      "application/vnd.jupyter.widget-view+json": {
       "model_id": "a2b3472930fe4942be94a2d8efb264c2",
       "version_major": 2,
       "version_minor": 0
      },
      "text/plain": [
       "  0%|          | 0/14000000 [00:00<?, ?it/s]"
      ]
     },
     "metadata": {},
     "output_type": "display_data"
    }
   ],
   "source": [
    "# Сделаем кандидатогенератор по последним купленным товарам из субкатегории\n",
    "\n",
    "product2subcat = {}\n",
    "subcat_dict = {}\n",
    "\n",
    "for i in notebook.tqdm(train.index):\n",
    "    subcats = train.loc[i, \"product_sub_category_id\"]\n",
    "    product2subcat[train.loc[i, 'product_id']] = subcats\n",
    "#     for subcat in subcats:\n",
    "    if subcats not in subcat_dict:\n",
    "        subcat_dict[subcats] = []\n",
    "    subcat_dict[subcats].append(train.loc[i, 'product_id'])"
   ]
  },
  {
   "cell_type": "code",
   "execution_count": 27,
   "metadata": {},
   "outputs": [],
   "source": [
    "# формируем перечень всех купленных товаров\n",
    "product_unique = train['product_id'].unique()"
   ]
  },
  {
   "cell_type": "code",
   "execution_count": 28,
   "metadata": {},
   "outputs": [],
   "source": [
    "# Создадим метод, который по последнему купленному товару будет возвращать набор кандидатов\n",
    "# товаров из субкатегории товаров\n",
    "\n",
    "def candidate_generator(product_id):\n",
    "\n",
    "    candidates_ft = []\n",
    "    if product_id is not None:\n",
    "        candidates_ft = list(recommend(product_id))\n",
    "    candidates_random = list(sample_random(product_unique))\n",
    "    candidates_random = [int(i) for i in candidates_random]\n",
    "    candidates_ft = [i for i in candidates_ft[1:]]\n",
    "    candidates_subcat = []\n",
    "    try:\n",
    "        for subcat in product2subcat.get(str(product_id), []):\n",
    "            candidates_subcat += list(sample_random(subcat_dict[subcat], 5))\n",
    "    except:\n",
    "        candidates_subcat = sample_random(subcat_dict[product2subcat.get(str(product_id), [])], 5)\n",
    "    candidates_subcat = [int(i) for i in candidates_subcat]\n",
    "    # Отфильтруем входной продукт (он мог попасть в кандидаты) и уберем дубликаты\n",
    "    return set([i for i in candidates_ft + candidates_subcat + candidates_random if i!= product_id])"
   ]
  },
  {
   "cell_type": "code",
   "execution_count": 29,
   "metadata": {},
   "outputs": [
    {
     "data": {
      "text/plain": [
       "{4578,\n",
       " 13107,\n",
       " 14380,\n",
       " 14744,\n",
       " 19860,\n",
       " 22703,\n",
       " 23899,\n",
       " 24769,\n",
       " 28168,\n",
       " 29620,\n",
       " 36891,\n",
       " 63322,\n",
       " 82983,\n",
       " 87379,\n",
       " 101264,\n",
       " 124082,\n",
       " 128444,\n",
       " 133041,\n",
       " 142780,\n",
       " 154864,\n",
       " 160686,\n",
       " 213417,\n",
       " 218693}"
      ]
     },
     "execution_count": 29,
     "metadata": {},
     "output_type": "execute_result"
    }
   ],
   "source": [
    "# Проверим как работает кандидатогенератор\n",
    "candidate_generator(22453)"
   ]
  },
  {
   "cell_type": "markdown",
   "metadata": {},
   "source": [
    "#### Строим ранжирование предлагаемых товаров\n",
    "\n",
    "кандидатогенерация проходит по субкатегории товара\n",
    "затем ранжирование из кандидатов по частоте покупки товара"
   ]
  },
  {
   "cell_type": "code",
   "execution_count": 31,
   "metadata": {},
   "outputs": [],
   "source": [
    "# частота покупки товара\n",
    "product_freq = train['product_id'].value_counts().to_dict()"
   ]
  },
  {
   "cell_type": "code",
   "execution_count": 32,
   "metadata": {},
   "outputs": [],
   "source": [
    "def recommend_multy_range(item_list):\n",
    "    сandidates_list = [] # перечень сгенерированных товаров\n",
    "    rec_items = [] # перечень рекомендованных товаров\n",
    "    new_dict = {} # отранжированный словарь рекомендованных товаров \n",
    "    \n",
    "    for iid in item_list:\n",
    "#       получаем перечень кандидатов\n",
    "        сandidates_list = list(candidate_generator(iid))\n",
    "#         ранжируем кандидатов по частоте покупки товара\n",
    "        for elem in сandidates_list:\n",
    "            if str(elem) in product_freq.keys():\n",
    "                new_dict[elem] = product_freq.get(str(elem))\n",
    "        # сортируем товар по наболее часто покупаемому\n",
    "    sorted_x = sorted(new_dict.items(), key=operator.itemgetter(1), reverse=True)\n",
    "#   выдаем 10 наиболее часто покупаемых товаров\n",
    "    for i in sorted_x[:10]:\n",
    "        rec_items.append(product_dict[str(i[0])])\n",
    "    return rec_items"
   ]
  },
  {
   "cell_type": "code",
   "execution_count": 34,
   "metadata": {},
   "outputs": [
    {
     "data": {
      "text/plain": [
       "['(104090) Эналаприл Гексал таб.10мг №50 738',\n",
       " '(38743) Элоком крем 0.1% туба 15г N1 459',\n",
       " '(29356) Натекаль ДЗ тб жеват №60 644',\n",
       " '(91753) Минеральная вода \"Боржоми\" 0,5л стекло 569',\n",
       " '(59735) Рекицен-РД пор. 100гр. №1 599',\n",
       " '(54677) Гевискон сусп. д/приема внутрь (мятная) 150мл 595',\n",
       " '(108507) Синафлан мазь 0.025% туба 15г N1 -1',\n",
       " '(11217) Прокладки \"Molimed premium ultra micro\" женск. впитыв. 80 мл. №28 арт.1691319 555',\n",
       " '(16281) Прокладки \"Molimed premium maxi\" женск. впитыв. 790 мл. 14шт. уп. №1 555',\n",
       " '(116591) Глюкофаж Лонг таб.пролонг.действ.750мг №30 462']"
      ]
     },
     "execution_count": 34,
     "metadata": {},
     "output_type": "execute_result"
    }
   ],
   "source": [
    "recommend_multy_range(['120171', '69028', '62087'])"
   ]
  },
  {
   "cell_type": "markdown",
   "metadata": {},
   "source": [
    "#### Выводы:\n",
    "Датасет был разбит на тренировочный и тестовый по вермени чека. \n",
    "\n",
    "Посторены контентные рекомендации (по названиям товаров в корзине), а также рекомендации с Word2Vec по чековым данным (обучены эмбеддинги товаров по чековым последовательностям).\n",
    "\n",
    "Построена двухстадийная рекомендательная система с кандидатогенерацией и ранжированием по частоте покупки товара.\n",
    "\n",
    "Думаю что для данной модели валидация не имеет смысла, так как товары медицинские и невозможно предсказать по какой причине пришел покупатель, т.е. для лечения каких болезней ему нужны медицинские товары. Поэтому и рекомендации строятся на основе данных о частоте покупки товаров из одной и той же субкатегории. Кроме того, так как покупатель не оцениват товар, то предоположить какой товар может быть куплен можно только по информации из прошлых покупок, т.е. опять, по тому как часто этот товар покупался и вместе с какими товарами."
   ]
  },
  {
   "cell_type": "code",
   "execution_count": null,
   "metadata": {},
   "outputs": [],
   "source": []
  }
 ],
 "metadata": {
  "kernelspec": {
   "display_name": "Python 3 (ipykernel)",
   "language": "python",
   "name": "python3"
  },
  "language_info": {
   "codemirror_mode": {
    "name": "ipython",
    "version": 3
   },
   "file_extension": ".py",
   "mimetype": "text/x-python",
   "name": "python",
   "nbconvert_exporter": "python",
   "pygments_lexer": "ipython3",
   "version": "3.8.8"
  }
 },
 "nbformat": 4,
 "nbformat_minor": 2
}
