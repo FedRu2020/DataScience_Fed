{
 "cells": [
  {
   "cell_type": "markdown",
   "metadata": {},
   "source": [
    "# Car Price prediction\n",
    "\n",
    "<img src=\"https://whatcar.vn/media/2018/09/car-lot-940x470.jpg\"/>\n",
    "\n",
    "## Прогнозирование стоимости автомобиля по характеристикам\n",
    "*В качестве шаблона использован нутбук Baseline*   \n",
    "\n",
    "\n",
    "> **Baseline** создается больше как шаблон, где можно посмотреть, как происходит обращение с входящими данными и что нужно получить на выходе. При этом ML начинка может быть достаточно простой. Это помогает быстрее приступить к самому ML, а не тратить ценное время на инженерные задачи. \n",
    "Также baseline является хорошей опорной точкой по метрике. Если наше решение хуже baseline -  мы явно делаем что-то не так и стоит попробовать другой путь) "
   ]
  },
  {
   "cell_type": "markdown",
   "metadata": {},
   "source": [
    "## В baseline мы сделаем следующее:\n",
    "* Построим \"наивную\"/baseline модель, предсказывающую цену по модели и году выпуска (с ней будем сравнивать другие модели)\n",
    "* Обработаем и отнормируем признаки\n",
    "* Сделаем первую модель на основе градиентного бустинга с помощью CatBoost\n",
    "* Сделаем вторую модель на основе нейронных сетей и сравним результаты\n",
    "* Сделаем multi-input нейронную сеть для анализа табличных данных и текста одновременно\n",
    "* Добавим в multi-input сеть обработку изображений\n",
    "* Осуществим ансамблирование градиентного бустинга и нейронной сети (усреднение их предсказаний)"
   ]
  },
  {
   "cell_type": "code",
   "execution_count": null,
   "metadata": {
    "_kg_hide-input": true,
    "execution": {
     "iopub.execute_input": "2021-07-12T20:20:34.506061Z",
     "iopub.status.busy": "2021-07-12T20:20:34.505446Z",
     "iopub.status.idle": "2021-07-12T20:20:34.509468Z",
     "shell.execute_reply": "2021-07-12T20:20:34.50868Z",
     "shell.execute_reply.started": "2021-07-12T20:20:34.506019Z"
    }
   },
   "outputs": [],
   "source": [
    "# !pip install -q tensorflow==2.3"
   ]
  },
  {
   "cell_type": "code",
   "execution_count": null,
   "metadata": {
    "_kg_hide-input": true,
    "execution": {
     "iopub.execute_input": "2021-07-12T20:20:35.673841Z",
     "iopub.status.busy": "2021-07-12T20:20:35.673493Z",
     "iopub.status.idle": "2021-07-12T20:20:35.677971Z",
     "shell.execute_reply": "2021-07-12T20:20:35.677082Z",
     "shell.execute_reply.started": "2021-07-12T20:20:35.673811Z"
    }
   },
   "outputs": [],
   "source": [
    "#аугментации изображений\n",
    "# !pip install albumentations -q"
   ]
  },
  {
   "cell_type": "code",
   "execution_count": null,
   "metadata": {
    "_cell_guid": "b1076dfc-b9ad-4769-8c92-a6c4dae69d19",
    "_kg_hide-input": true,
    "_uuid": "8f2839f25d086af736a60e9eeb907d3b93b6e0e5",
    "execution": {
     "iopub.execute_input": "2021-07-12T21:34:39.390645Z",
     "iopub.status.busy": "2021-07-12T21:34:39.3904Z",
     "iopub.status.idle": "2021-07-12T21:34:47.38697Z",
     "shell.execute_reply": "2021-07-12T21:34:47.385705Z",
     "shell.execute_reply.started": "2021-07-12T21:34:39.390623Z"
    }
   },
   "outputs": [],
   "source": [
    "# This Python 3 environment comes with many helpful analytics libraries installed\n",
    "# It is defined by the kaggle/python Docker image: https://github.com/kaggle/docker-python\n",
    "# For example, here's several helpful packages to load\n",
    "\n",
    "import random\n",
    "import numpy as np # linear algebra\n",
    "import pandas as pd # data processing, CSV file I/O (e.g. pd.read_csv)\n",
    "import os\n",
    "import sys\n",
    "import PIL\n",
    "import cv2\n",
    "import re\n",
    "import string\n",
    "from collections import Counter\n",
    "\n",
    "# Input data files are available in the read-only \"../input/\" directory\n",
    "# For example, running this (by clicking run or pressing Shift+Enter) will list all files under the input directory\n",
    "\n",
    "from catboost import CatBoostRegressor\n",
    "from sklearn.model_selection import train_test_split\n",
    "from sklearn.preprocessing import MinMaxScaler\n",
    "\n",
    "# # keras\n",
    "import tensorflow as tf\n",
    "import tensorflow.keras.layers as L\n",
    "from tensorflow.keras.models import Model, Sequential\n",
    "from tensorflow.keras.preprocessing.text import Tokenizer\n",
    "from tensorflow.keras.preprocessing import sequence\n",
    "from tensorflow.keras.callbacks import ModelCheckpoint, EarlyStopping\n",
    "import albumentations\n",
    "\n",
    "# nltk\n",
    "import nltk\n",
    "nltk.download('punkt')\n",
    "nltk.download('averaged_perceptron_tagger')\n",
    "nltk.download('wordnet')\n",
    "nltk.download('stopwords')\n",
    "\n",
    "from nltk.stem import WordNetLemmatizer\n",
    "from nltk.tokenize import RegexpTokenizer\n",
    "from nltk import word_tokenize\n",
    "from nltk.corpus import wordnet\n",
    "from nltk.corpus import stopwords, words\n",
    "from nltk.stem.snowball import RussianStemmer\n",
    "from nltk.util import ngrams\n",
    "from tqdm import tqdm\n",
    "\n",
    "\n",
    "# plt\n",
    "import matplotlib.pyplot as plt\n",
    "#увеличим дефолтный размер графиков\n",
    "from pylab import rcParams\n",
    "rcParams['figure.figsize'] = 10, 5\n",
    "#графики в svg выглядят более четкими\n",
    "%config InlineBackend.figure_format = 'svg' \n",
    "%matplotlib inline\n",
    "\n",
    "# You can write up to 5GB to the current directory (/kaggle/working/) that gets preserved as output when you create a version using \"Save & Run All\" \n",
    "# You can also write temporary files to /kaggle/temp/, but they won't be saved outside of the current session"
   ]
  },
  {
   "cell_type": "code",
   "execution_count": null,
   "metadata": {
    "_kg_hide-input": true,
    "execution": {
     "iopub.execute_input": "2021-07-12T21:34:47.388533Z",
     "iopub.status.busy": "2021-07-12T21:34:47.38829Z",
     "iopub.status.idle": "2021-07-12T21:34:47.402048Z",
     "shell.execute_reply": "2021-07-12T21:34:47.401107Z",
     "shell.execute_reply.started": "2021-07-12T21:34:47.388506Z"
    }
   },
   "outputs": [],
   "source": [
    "print('Python       :', sys.version.split('\\n')[0])\n",
    "print('Numpy        :', np.__version__)\n",
    "print('Tensorflow   :', tf.__version__)"
   ]
  },
  {
   "cell_type": "code",
   "execution_count": null,
   "metadata": {
    "_kg_hide-input": true,
    "execution": {
     "iopub.execute_input": "2021-07-12T21:34:48.266781Z",
     "iopub.status.busy": "2021-07-12T21:34:48.266438Z",
     "iopub.status.idle": "2021-07-12T21:34:48.270577Z",
     "shell.execute_reply": "2021-07-12T21:34:48.269487Z",
     "shell.execute_reply.started": "2021-07-12T21:34:48.266758Z"
    }
   },
   "outputs": [],
   "source": [
    "def mape(y_true, y_pred):\n",
    "    return np.mean(np.abs((y_pred-y_true)/y_true))"
   ]
  },
  {
   "cell_type": "code",
   "execution_count": null,
   "metadata": {
    "_kg_hide-input": true,
    "execution": {
     "iopub.execute_input": "2021-07-12T21:34:49.039785Z",
     "iopub.status.busy": "2021-07-12T21:34:49.039473Z",
     "iopub.status.idle": "2021-07-12T21:34:49.043791Z",
     "shell.execute_reply": "2021-07-12T21:34:49.043053Z",
     "shell.execute_reply.started": "2021-07-12T21:34:49.039757Z"
    }
   },
   "outputs": [],
   "source": [
    "# зафиксирован RANDOM_SEED, чтобы эксперименты были воспроизводимы!\n",
    "RANDOM_SEED = 42\n",
    "np.random.seed(RANDOM_SEED)"
   ]
  },
  {
   "cell_type": "code",
   "execution_count": null,
   "metadata": {
    "_kg_hide-input": true,
    "execution": {
     "iopub.execute_input": "2021-07-12T21:34:49.816107Z",
     "iopub.status.busy": "2021-07-12T21:34:49.815705Z",
     "iopub.status.idle": "2021-07-12T21:34:51.75981Z",
     "shell.execute_reply": "2021-07-12T21:34:51.75877Z",
     "shell.execute_reply.started": "2021-07-12T21:34:49.81608Z"
    }
   },
   "outputs": [],
   "source": [
    "!pip freeze > requirements.txt"
   ]
  },
  {
   "cell_type": "markdown",
   "metadata": {},
   "source": [
    "# DATA"
   ]
  },
  {
   "cell_type": "markdown",
   "metadata": {},
   "source": [
    "Посмотрим на типы признаков:\n",
    "\n",
    "* bodyType - категориальный\n",
    "* brand - категориальный\n",
    "* color - категориальный\n",
    "* description - текстовый\n",
    "* engineDisplacement - числовой, представленный как текст\n",
    "* enginePower - числовой, представленный как текст\n",
    "* fuelType - категориальный\n",
    "* mileage - числовой\n",
    "* modelDate - числовой\n",
    "* model_info - категориальный\n",
    "* name - категориальный, желательно сократить размерность\n",
    "* numberOfDoors - категориальный\n",
    "* price - числовой, целевой\n",
    "* productionDate - числовой\n",
    "* sell_id - изображение (файл доступен по адресу, основанному на sell_id)\n",
    "* vehicleConfiguration - не используется (комбинация других столбцов)\n",
    "* vehicleTransmission - категориальный\n",
    "* Владельцы - категориальный\n",
    "* Владение - числовой, представленный как текст\n",
    "* ПТС - категориальный\n",
    "* Привод - категориальный\n",
    "* Руль - категориальный"
   ]
  },
  {
   "cell_type": "code",
   "execution_count": null,
   "metadata": {
    "_cell_guid": "79c7e3d0-c299-4dcb-8224-4455121ee9b0",
    "_uuid": "d629ff2d2480ee46fbb7e2d37f6b5fab8052498a",
    "execution": {
     "iopub.execute_input": "2021-07-12T21:34:51.761488Z",
     "iopub.status.busy": "2021-07-12T21:34:51.761198Z",
     "iopub.status.idle": "2021-07-12T21:34:52.14005Z",
     "shell.execute_reply": "2021-07-12T21:34:52.139059Z",
     "shell.execute_reply.started": "2021-07-12T21:34:51.761456Z"
    }
   },
   "outputs": [],
   "source": [
    "DATA_DIR = '../input/sf-dst-car-price-prediction-part2/'\n",
    "train = pd.read_csv(DATA_DIR + 'train.csv')\n",
    "test = pd.read_csv(DATA_DIR + 'test.csv')\n",
    "sample_submission = pd.read_csv(DATA_DIR + 'sample_submission.csv')"
   ]
  },
  {
   "cell_type": "code",
   "execution_count": null,
   "metadata": {
    "execution": {
     "iopub.execute_input": "2021-07-12T21:34:52.29041Z",
     "iopub.status.busy": "2021-07-12T21:34:52.290059Z",
     "iopub.status.idle": "2021-07-12T21:34:52.313407Z",
     "shell.execute_reply": "2021-07-12T21:34:52.312856Z",
     "shell.execute_reply.started": "2021-07-12T21:34:52.290388Z"
    }
   },
   "outputs": [],
   "source": [
    "train.info()"
   ]
  },
  {
   "cell_type": "code",
   "execution_count": null,
   "metadata": {
    "execution": {
     "iopub.execute_input": "2021-07-12T21:34:52.923106Z",
     "iopub.status.busy": "2021-07-12T21:34:52.922775Z",
     "iopub.status.idle": "2021-07-12T21:34:53.002042Z",
     "shell.execute_reply": "2021-07-12T21:34:53.00104Z",
     "shell.execute_reply.started": "2021-07-12T21:34:52.923083Z"
    }
   },
   "outputs": [],
   "source": [
    "train.nunique()"
   ]
  },
  {
   "cell_type": "markdown",
   "metadata": {},
   "source": [
    "# Model 1: Создадим \"наивную\" модель \n",
    "Эта модель будет предсказывать среднюю цену по модели и году выпуска. \n",
    "C ней будем сравнивать другие модели.\n",
    "\n"
   ]
  },
  {
   "cell_type": "code",
   "execution_count": null,
   "metadata": {
    "execution": {
     "iopub.execute_input": "2021-07-12T21:34:54.346134Z",
     "iopub.status.busy": "2021-07-12T21:34:54.345826Z",
     "iopub.status.idle": "2021-07-12T21:34:54.358098Z",
     "shell.execute_reply": "2021-07-12T21:34:54.35719Z",
     "shell.execute_reply.started": "2021-07-12T21:34:54.346108Z"
    }
   },
   "outputs": [],
   "source": [
    "# split данных\n",
    "data_train, data_test = train_test_split(train, test_size=0.15, shuffle=True, random_state=RANDOM_SEED)"
   ]
  },
  {
   "cell_type": "code",
   "execution_count": null,
   "metadata": {
    "execution": {
     "iopub.execute_input": "2021-07-12T21:34:55.033497Z",
     "iopub.status.busy": "2021-07-12T21:34:55.033179Z",
     "iopub.status.idle": "2021-07-12T21:34:58.295477Z",
     "shell.execute_reply": "2021-07-12T21:34:58.294879Z",
     "shell.execute_reply.started": "2021-07-12T21:34:55.03347Z"
    }
   },
   "outputs": [],
   "source": [
    "# Наивная модель\n",
    "predicts = []\n",
    "for index, row in pd.DataFrame(data_test[['model_info', 'productionDate']]).iterrows():\n",
    "    query = f\"model_info == '{row[0]}' and productionDate == '{row[1]}'\"\n",
    "    predicts.append(data_train.query(query)['price'].median())\n",
    "\n",
    "# заполним не найденные совпадения\n",
    "predicts = pd.DataFrame(predicts)\n",
    "predicts = predicts.fillna(predicts.median())\n",
    "\n",
    "# округлим\n",
    "predicts = (predicts // 1000) * 1000\n",
    "\n",
    "#оцениваем точность\n",
    "print(f\"Точность наивной модели по метрике MAPE: {(mape(data_test['price'], predicts.values[:, 0]))*100:0.2f}%\")"
   ]
  },
  {
   "cell_type": "markdown",
   "metadata": {},
   "source": [
    "# EDA"
   ]
  },
  {
   "cell_type": "markdown",
   "metadata": {},
   "source": [
    "Проведем анализ данных для того, чтобы понимать, сможет ли с этими данными работать наш алгоритм.\n",
    "Посмотрим, как выглядят распределения числовых признаков:"
   ]
  },
  {
   "cell_type": "code",
   "execution_count": null,
   "metadata": {
    "_kg_hide-input": true,
    "execution": {
     "iopub.execute_input": "2021-07-12T21:35:00.185821Z",
     "iopub.status.busy": "2021-07-12T21:35:00.185396Z",
     "iopub.status.idle": "2021-07-12T21:35:00.698757Z",
     "shell.execute_reply": "2021-07-12T21:35:00.697548Z",
     "shell.execute_reply.started": "2021-07-12T21:35:00.185766Z"
    }
   },
   "outputs": [],
   "source": [
    "#посмотрим, как выглядят распределения числовых признаков\n",
    "def visualize_distributions(titles_values_dict):\n",
    "    columns = min(3, len(titles_values_dict))\n",
    "    rows = (len(titles_values_dict) - 1) // columns + 1\n",
    "    fig = plt.figure(figsize = (columns * 6, rows * 4))\n",
    "    for i, (title, values) in enumerate(titles_values_dict.items()):\n",
    "        hist, bins = np.histogram(values, bins = 20)\n",
    "        ax = fig.add_subplot(rows, columns, i + 1)\n",
    "        ax.bar(bins[:-1], hist, width = (bins[1] - bins[0]) * 0.7)\n",
    "        ax.set_title(title)\n",
    "    plt.show()\n",
    "\n",
    "visualize_distributions({\n",
    "    'mileage': train['mileage'].dropna(),\n",
    "    'modelDate': train['modelDate'].dropna(),\n",
    "    'productionDate': train['productionDate'].dropna()\n",
    "})"
   ]
  },
  {
   "cell_type": "markdown",
   "metadata": {},
   "source": [
    "Итого:\n",
    "* CatBoost сможет работать с признаками и в таком виде, но для нейросети нужны нормированные данные."
   ]
  },
  {
   "cell_type": "markdown",
   "metadata": {},
   "source": [
    "## PreProc Tabular Data"
   ]
  },
  {
   "cell_type": "code",
   "execution_count": null,
   "metadata": {
    "execution": {
     "iopub.execute_input": "2021-07-12T21:35:02.110125Z",
     "iopub.status.busy": "2021-07-12T21:35:02.109822Z",
     "iopub.status.idle": "2021-07-12T21:35:02.115514Z",
     "shell.execute_reply": "2021-07-12T21:35:02.114702Z",
     "shell.execute_reply.started": "2021-07-12T21:35:02.110098Z"
    }
   },
   "outputs": [],
   "source": [
    "#используем текстовые признаки как категориальные \n",
    "categorical_features = ['bodyType', 'brand', 'color', 'fuelType', 'model_info', 'name',\n",
    "                        'engineDisplacement', 'enginePower', 'numberOfDoors', \n",
    "                        'vehicleTransmission', 'Владельцы', 'Владение', 'ПТС', \n",
    "                        'Привод', 'Руль']\n",
    "\n",
    "#используем все числовые признаки\n",
    "numerical_features = ['mileage', 'modelDate', 'productionDate']"
   ]
  },
  {
   "cell_type": "code",
   "execution_count": null,
   "metadata": {
    "execution": {
     "iopub.execute_input": "2021-07-12T21:35:02.691319Z",
     "iopub.status.busy": "2021-07-12T21:35:02.690932Z",
     "iopub.status.idle": "2021-07-12T21:35:02.706676Z",
     "shell.execute_reply": "2021-07-12T21:35:02.705477Z",
     "shell.execute_reply.started": "2021-07-12T21:35:02.691283Z"
    }
   },
   "outputs": [],
   "source": [
    "# ВАЖНО! дря корректной обработки признаков объединяем трейн и тест в один датасет\n",
    "train['sample'] = 1 # помечаем где у нас трейн\n",
    "test['sample'] = 0 # помечаем где у нас тест\n",
    "test['price'] = 0 # в тесте у нас нет значения price, мы его должны предсказать, поэтому пока просто заполняем нулями\n",
    "\n",
    "data = test.append(train, sort=False).reset_index(drop=True) # объединяем\n",
    "print(train.shape, test.shape, data.shape)"
   ]
  },
  {
   "cell_type": "markdown",
   "metadata": {},
   "source": [
    "Посмотрим есть ли зависимость между сроком владения и датой производства авто"
   ]
  },
  {
   "cell_type": "code",
   "execution_count": null,
   "metadata": {
    "execution": {
     "iopub.execute_input": "2021-07-12T21:35:03.876414Z",
     "iopub.status.busy": "2021-07-12T21:35:03.876143Z",
     "iopub.status.idle": "2021-07-12T21:35:03.896322Z",
     "shell.execute_reply": "2021-07-12T21:35:03.894674Z",
     "shell.execute_reply.started": "2021-07-12T21:35:03.876388Z"
    }
   },
   "outputs": [],
   "source": [
    "data[['Владение', 'productionDate', 'Владельцы' ]].sample(10)"
   ]
  },
  {
   "cell_type": "markdown",
   "metadata": {},
   "source": [
    "Видно что Владение зависит от количества владельцев. Можно заполнить пустые значения по дате производства и количеству владельцев"
   ]
  },
  {
   "cell_type": "code",
   "execution_count": null,
   "metadata": {
    "execution": {
     "iopub.execute_input": "2021-07-12T21:35:05.158557Z",
     "iopub.status.busy": "2021-07-12T21:35:05.158269Z",
     "iopub.status.idle": "2021-07-12T21:35:05.164588Z",
     "shell.execute_reply": "2021-07-12T21:35:05.16363Z",
     "shell.execute_reply.started": "2021-07-12T21:35:05.158531Z"
    }
   },
   "outputs": [],
   "source": [
    "'''Функция для перевода чисел из строки в целое значение'''\n",
    "def num_extract(text):\n",
    "    pattern = re.compile(r\"\\d+\") # паттерн для чисел\n",
    "    num_list = pattern.findall(str(text)) # находим все числа\n",
    "    if len(num_list)>1: # если чисел больше 1 то первое значение это год, второе-месяц\n",
    "        return int(num_list[0])*12+int(num_list[1]) # вычисляем сколько всего месяцев\n",
    "    else:\n",
    "        return int(num_list[0])"
   ]
  },
  {
   "cell_type": "code",
   "execution_count": null,
   "metadata": {
    "execution": {
     "iopub.execute_input": "2021-07-12T21:35:05.880036Z",
     "iopub.status.busy": "2021-07-12T21:35:05.879649Z",
     "iopub.status.idle": "2021-07-12T21:35:05.89577Z",
     "shell.execute_reply": "2021-07-12T21:35:05.894869Z",
     "shell.execute_reply.started": "2021-07-12T21:35:05.880014Z"
    }
   },
   "outputs": [],
   "source": [
    " # проверим пустые поля в категориальных признаках\n",
    "for column in categorical_features:\n",
    "    print(column, ' - ', data[column].isnull().sum())"
   ]
  },
  {
   "cell_type": "code",
   "execution_count": null,
   "metadata": {
    "execution": {
     "iopub.execute_input": "2021-07-12T21:35:06.766517Z",
     "iopub.status.busy": "2021-07-12T21:35:06.766255Z",
     "iopub.status.idle": "2021-07-12T21:35:06.838245Z",
     "shell.execute_reply": "2021-07-12T21:35:06.837375Z",
     "shell.execute_reply.started": "2021-07-12T21:35:06.766494Z"
    }
   },
   "outputs": [],
   "source": [
    "'''Извлечение числовых значений из текста''' \n",
    "# В полях 'engineDisplacement' и 'enginePower' оставляем только числа \n",
    "for feature in ['engineDisplacement', 'enginePower']:\n",
    "    data[feature]=data[feature].apply(lambda x: x[:3])\n",
    "data['engineDisplacement'] = data['engineDisplacement'].apply(lambda x: 2.0 if x == 'und' else x)\n",
    "# Поработаем с признаком Владельцы: заполняем пустое поле и переводим значения в числа \n",
    "data['Владельцы'].fillna(3, inplace=True)\n",
    "data['Владельцы'] = data['Владельцы'].apply(lambda x: 1 if x == '1\\xa0владелец' \n",
    "                                            else 2 if x == '2\\xa0владельца' else 3)\n",
    "\n",
    "# переводим признак 'Владение' в числовое значение количества месяцев\n",
    "# сначало заполним пустые значение возрастом авто на 2020 год / количество владельцев\n",
    "data['Владение'].fillna((2020 - data['productionDate'])*12/data['Владельцы'], inplace=True)\n",
    "# переводим строки в числовые значения в месяцах\n",
    "data['Владение'] = data['Владение'].apply(lambda x: num_extract(x))\n",
    "\n",
    "# Переводим предыдущие признаки в числовую категорию\n",
    "for feature in ['engineDisplacement', 'enginePower']:\n",
    "    data[feature]=data[feature].astype('float').round(1)\n",
    "    \n",
    "for feature in ['engineDisplacement', 'enginePower','Владение','Владельцы']:\n",
    "    numerical_features.append(feature)\n",
    "        \n",
    "# Удаляем эти два поля из категориальных признаков\n",
    "for feature in ['engineDisplacement', 'enginePower','Владение','Владельцы']:\n",
    "    categorical_features.remove(feature)"
   ]
  },
  {
   "cell_type": "markdown",
   "metadata": {},
   "source": [
    "Поработаем с признаком vehicleConfiguration "
   ]
  },
  {
   "cell_type": "code",
   "execution_count": null,
   "metadata": {
    "execution": {
     "iopub.execute_input": "2021-07-12T21:35:07.972111Z",
     "iopub.status.busy": "2021-07-12T21:35:07.97176Z",
     "iopub.status.idle": "2021-07-12T21:35:07.980842Z",
     "shell.execute_reply": "2021-07-12T21:35:07.979888Z",
     "shell.execute_reply.started": "2021-07-12T21:35:07.972087Z"
    }
   },
   "outputs": [],
   "source": [
    "english_stopwords = stopwords.words(\"english\") + ['лс','квт']\n",
    "spec_chars = string.punctuation + '«»—…’‘”“©' #перечень заков пунктуации\n",
    "\n",
    "# Зададим функцию для удаления спец символов\n",
    "def remove_chars_from_text(text, chars):\n",
    "    return \"\".join([ch for ch in text if ch not in chars])"
   ]
  },
  {
   "cell_type": "code",
   "execution_count": null,
   "metadata": {
    "execution": {
     "iopub.execute_input": "2021-07-12T21:35:08.822891Z",
     "iopub.status.busy": "2021-07-12T21:35:08.822562Z",
     "iopub.status.idle": "2021-07-12T21:35:08.832093Z",
     "shell.execute_reply": "2021-07-12T21:35:08.830913Z",
     "shell.execute_reply.started": "2021-07-12T21:35:08.822864Z"
    }
   },
   "outputs": [],
   "source": [
    "# Зададим функцию для токенизации\n",
    "def text_tokenizer(text):\n",
    "    Text_ = text.strip()\n",
    "\n",
    "    Text_ = Text_.lower()\n",
    "\n",
    "    # Удалим все спец символы\n",
    "    Text_ = remove_chars_from_text(Text_, spec_chars)\n",
    "\n",
    "    # Удалим все цифры\n",
    "    Text_ = remove_chars_from_text(Text_, string.digits)\n",
    "\n",
    "    Text_ = Text_.replace('\\n',' ').replace('\\t',' ')\n",
    "\n",
    "    # Токенизируем текст\n",
    "    tokens = word_tokenize(Text_)\n",
    "\n",
    "    # Список токенов преобразовываем к классу Text\n",
    "    token_text = nltk.Text(tokens)\n",
    "\n",
    "    # Удаляем стоп-слова\n",
    "    filtered_token_text = [w for w in token_text if not w in english_stopwords]\n",
    "    \n",
    "    return filtered_token_text"
   ]
  },
  {
   "cell_type": "code",
   "execution_count": null,
   "metadata": {
    "execution": {
     "iopub.execute_input": "2021-07-12T21:35:10.62834Z",
     "iopub.status.busy": "2021-07-12T21:35:10.628084Z",
     "iopub.status.idle": "2021-07-12T21:35:11.757637Z",
     "shell.execute_reply": "2021-07-12T21:35:11.757185Z",
     "shell.execute_reply.started": "2021-07-12T21:35:10.628319Z"
    }
   },
   "outputs": [],
   "source": [
    "data['vehicleConfiguration'].apply(lambda x: text_tokenizer(x))"
   ]
  },
  {
   "cell_type": "code",
   "execution_count": null,
   "metadata": {
    "execution": {
     "iopub.execute_input": "2021-07-12T21:35:15.636062Z",
     "iopub.status.busy": "2021-07-12T21:35:15.635791Z",
     "iopub.status.idle": "2021-07-12T21:35:15.64931Z",
     "shell.execute_reply": "2021-07-12T21:35:15.64819Z",
     "shell.execute_reply.started": "2021-07-12T21:35:15.63604Z"
    }
   },
   "outputs": [],
   "source": [
    "def preproc_data(df_input):\n",
    "    '''includes several functions to pre-process the predictor data.'''\n",
    "    \n",
    "    df_output = df_input.copy()\n",
    "    \n",
    "    # ################### 1. Предобработка ################################## \n",
    "    # убираем не нужные для модели признаки\n",
    "    df_output.drop(['description','sell_id'], axis = 1, inplace=True)\n",
    "      \n",
    "           \n",
    "    # убираем из признака 'name' данные, которые уже есть \n",
    "    # в других столбцах ('enginePower', 'engineDisplacement', 'vehicleTransmission')    \n",
    "    pattern1 = r\"\\d.\\d \\w+ \\([^()]*\\)\" \n",
    "    pattern2 = r\"\\d.\\d\\w \\w+ \\([^()]*\\)\"   \n",
    "    df_output['name'] = df_output['name'].apply(lambda x: re.sub(pattern1, \"\", x))  \n",
    "    df_output['name'] = df_output['name'].apply(lambda x: re.sub(pattern2, \"\", x))   \n",
    "        \n",
    "        \n",
    "    # ################### Numerical Features ################################\n",
    "    # Далее заполняем пропуски в числовых полях\n",
    "    for column in numerical_features:\n",
    "        df_output[column].fillna(df_output[column].median(), inplace=True)\n",
    "    \n",
    "    # Нормализация данных\n",
    "    scaler = MinMaxScaler()\n",
    "    for column in numerical_features:\n",
    "        df_output[column] = scaler.fit_transform(df_output[[column]])[:,0]\n",
    "    \n",
    "       \n",
    "       \n",
    "    # ################### Feature Engineering ####################################################\n",
    "                           \n",
    "    df_output['mileage'] = df_output['mileage']**(0.5) # Лучшая корреляция с price если брать mileage в сетпени 0.5  \n",
    "    df_output['modelDateNorm'] = np.log(2020 - df_output['modelDate']) #нормализуем дату производства авто\n",
    "    \n",
    "    # наличие xDrive\n",
    "    df_output['xDrive'] = df_output['name'].apply(lambda x: 1 if re.search(r'xDrive', x) else 0)\n",
    "    df_output['name'] = df_output['name'].apply(lambda x: re.sub(r'xDrive', \"\", x))\n",
    "    \n",
    "    \n",
    "    # обрабатываем признак vehicleConfiguration\n",
    "    df_output['vehicleConfiguration'] = df_output['vehicleConfiguration'].apply(lambda x: text_tokenizer(x))\n",
    "    \n",
    "    Veh_Con_dum = df_output['vehicleConfiguration'].apply(lambda x: str(x).replace('[','').\n",
    "                                                       replace(']','')).str.get_dummies(sep=', ').reset_index(drop=True)\n",
    "    \n",
    "    # объединим новые дамми признаки с основным датасетом\n",
    "    df_output = pd.concat([df_output, Veh_Con_dum], axis=1)\n",
    "    \n",
    "    \n",
    "    # ################### Categorical Features ######################## \n",
    "    # Label Encoding\n",
    "    for column in categorical_features:\n",
    "        df_output[column] = df_output[column].astype('category').cat.codes\n",
    "        \n",
    "    # One-Hot Encoding: в pandas есть готовая функция - get_dummies.\n",
    "    df_output = pd.get_dummies(df_output, columns=categorical_features, dummy_na=False)\n",
    "    \n",
    "    \n",
    "    # ################### Clean #######################################\n",
    "    # убираем признаки которые не нужны более \n",
    "    df_output.drop(['vehicleConfiguration'], axis = 1, inplace=True)   \n",
    "    \n",
    "    \n",
    "    return df_output"
   ]
  },
  {
   "cell_type": "code",
   "execution_count": null,
   "metadata": {
    "execution": {
     "iopub.execute_input": "2021-07-12T21:35:16.788484Z",
     "iopub.status.busy": "2021-07-12T21:35:16.788213Z",
     "iopub.status.idle": "2021-07-12T21:35:17.852361Z",
     "shell.execute_reply": "2021-07-12T21:35:17.851105Z",
     "shell.execute_reply.started": "2021-07-12T21:35:16.788457Z"
    }
   },
   "outputs": [],
   "source": [
    "# Запускаем и проверяем, что получилось\n",
    "df_preproc = preproc_data(data)\n",
    "df_preproc.sample(10)"
   ]
  },
  {
   "cell_type": "code",
   "execution_count": null,
   "metadata": {
    "execution": {
     "iopub.execute_input": "2021-07-12T21:35:21.024789Z",
     "iopub.status.busy": "2021-07-12T21:35:21.024528Z",
     "iopub.status.idle": "2021-07-12T21:35:21.050713Z",
     "shell.execute_reply": "2021-07-12T21:35:21.049869Z",
     "shell.execute_reply.started": "2021-07-12T21:35:21.024766Z"
    }
   },
   "outputs": [],
   "source": [
    "df_preproc.info()"
   ]
  },
  {
   "cell_type": "markdown",
   "metadata": {},
   "source": [
    "## Split data"
   ]
  },
  {
   "cell_type": "code",
   "execution_count": null,
   "metadata": {
    "execution": {
     "iopub.execute_input": "2021-07-12T21:35:23.269356Z",
     "iopub.status.busy": "2021-07-12T21:35:23.269046Z",
     "iopub.status.idle": "2021-07-12T21:35:23.327845Z",
     "shell.execute_reply": "2021-07-12T21:35:23.326993Z",
     "shell.execute_reply.started": "2021-07-12T21:35:23.269328Z"
    }
   },
   "outputs": [],
   "source": [
    "# Теперь выделим тестовую часть\n",
    "train_data = df_preproc.query('sample == 1').drop(['sample'], axis=1)\n",
    "test_data = df_preproc.query('sample == 0').drop(['sample'], axis=1)\n",
    "\n",
    "y = train_data.price.values     # наш таргет\n",
    "X = train_data.drop(['price'], axis=1)\n",
    "X_sub = test_data.drop(['price'], axis=1)"
   ]
  },
  {
   "cell_type": "code",
   "execution_count": null,
   "metadata": {
    "execution": {
     "iopub.execute_input": "2021-07-12T21:35:25.726431Z",
     "iopub.status.busy": "2021-07-12T21:35:25.726038Z",
     "iopub.status.idle": "2021-07-12T21:35:25.75191Z",
     "shell.execute_reply": "2021-07-12T21:35:25.751115Z",
     "shell.execute_reply.started": "2021-07-12T21:35:25.726396Z"
    }
   },
   "outputs": [],
   "source": [
    "test_data.info()"
   ]
  },
  {
   "cell_type": "markdown",
   "metadata": {},
   "source": [
    "# Model 2: CatBoostRegressor"
   ]
  },
  {
   "cell_type": "code",
   "execution_count": null,
   "metadata": {
    "execution": {
     "iopub.execute_input": "2021-07-12T21:35:27.551096Z",
     "iopub.status.busy": "2021-07-12T21:35:27.550847Z",
     "iopub.status.idle": "2021-07-12T21:35:27.564602Z",
     "shell.execute_reply": "2021-07-12T21:35:27.563789Z",
     "shell.execute_reply.started": "2021-07-12T21:35:27.551075Z"
    }
   },
   "outputs": [],
   "source": [
    "X_train, X_test, y_train, y_test = train_test_split(X, y,\n",
    "                                                    test_size=0.15, \n",
    "                                                    shuffle=True, \n",
    "                                                    random_state=RANDOM_SEED)"
   ]
  },
  {
   "cell_type": "markdown",
   "metadata": {},
   "source": [
    "Целевую переменную прологарифмируем, чтобы распрделение было более нормальным, это влияет на качество предсказаний регрессии. "
   ]
  },
  {
   "cell_type": "code",
   "execution_count": null,
   "metadata": {
    "_kg_hide-output": true,
    "execution": {
     "iopub.execute_input": "2021-07-12T21:35:29.168034Z",
     "iopub.status.busy": "2021-07-12T21:35:29.167752Z",
     "iopub.status.idle": "2021-07-12T21:36:32.998947Z",
     "shell.execute_reply": "2021-07-12T21:36:32.99799Z",
     "shell.execute_reply.started": "2021-07-12T21:35:29.168012Z"
    }
   },
   "outputs": [],
   "source": [
    "model = CatBoostRegressor(iterations = 5000,\n",
    "                          depth=10,\n",
    "#                           learning_rate = 0.1,\n",
    "                          random_seed = RANDOM_SEED,\n",
    "                          eval_metric='MAPE',\n",
    "                          custom_metric=['RMSE', 'MAE'],\n",
    "                          od_wait=500,\n",
    "                          #task_type='GPU',\n",
    "                         )\n",
    "model.fit(X_train, np.log(y_train),\n",
    "         eval_set=(X_test, np.log(y_test)),\n",
    "         verbose_eval=100,\n",
    "         use_best_model=True,\n",
    "         #plot=True\n",
    "         )"
   ]
  },
  {
   "cell_type": "code",
   "execution_count": null,
   "metadata": {
    "execution": {
     "iopub.execute_input": "2021-07-12T21:36:33.002026Z",
     "iopub.status.busy": "2021-07-12T21:36:33.001777Z",
     "iopub.status.idle": "2021-07-12T21:36:33.028951Z",
     "shell.execute_reply": "2021-07-12T21:36:33.027619Z",
     "shell.execute_reply.started": "2021-07-12T21:36:33.002004Z"
    }
   },
   "outputs": [],
   "source": [
    "test_predict_catboost = np.exp(model.predict(X_test))\n",
    "print(f\"TEST mape: {(mape(y_test, test_predict_catboost))*100:0.2f}%\")"
   ]
  },
  {
   "cell_type": "markdown",
   "metadata": {},
   "source": [
    "## Submission"
   ]
  },
  {
   "cell_type": "code",
   "execution_count": null,
   "metadata": {
    "execution": {
     "iopub.execute_input": "2021-07-12T21:36:33.03119Z",
     "iopub.status.busy": "2021-07-12T21:36:33.030647Z",
     "iopub.status.idle": "2021-07-12T21:36:33.423231Z",
     "shell.execute_reply": "2021-07-12T21:36:33.4222Z",
     "shell.execute_reply.started": "2021-07-12T21:36:33.031157Z"
    }
   },
   "outputs": [],
   "source": [
    "sub_predict_catboost = np.exp(model.predict(X_sub))\n",
    "sample_submission['price'] = sub_predict_catboost\n",
    "sample_submission.to_csv('catboost_submission.csv', index=False)"
   ]
  },
  {
   "cell_type": "markdown",
   "metadata": {},
   "source": [
    "## Выводы:\n",
    "* Очень хорошее улучшение по сравнению с наивной моделью\n",
    "* Можно было бы еще поработать над обработкой признаков, в частности оценить выбросы, выделить еще больше новых признаков."
   ]
  },
  {
   "cell_type": "markdown",
   "metadata": {},
   "source": [
    "# Model 3: Tabular NN"
   ]
  },
  {
   "cell_type": "markdown",
   "metadata": {},
   "source": [
    "Построим обычную сеть:"
   ]
  },
  {
   "cell_type": "code",
   "execution_count": null,
   "metadata": {
    "execution": {
     "iopub.execute_input": "2021-07-12T21:36:33.424623Z",
     "iopub.status.busy": "2021-07-12T21:36:33.424371Z",
     "iopub.status.idle": "2021-07-12T21:36:33.451002Z",
     "shell.execute_reply": "2021-07-12T21:36:33.450074Z",
     "shell.execute_reply.started": "2021-07-12T21:36:33.424596Z"
    }
   },
   "outputs": [],
   "source": [
    "X_train.head(5)"
   ]
  },
  {
   "cell_type": "markdown",
   "metadata": {},
   "source": [
    "## Simple Dense NN"
   ]
  },
  {
   "cell_type": "code",
   "execution_count": null,
   "metadata": {
    "execution": {
     "iopub.execute_input": "2021-07-12T21:36:33.453749Z",
     "iopub.status.busy": "2021-07-12T21:36:33.453465Z",
     "iopub.status.idle": "2021-07-12T21:36:33.621057Z",
     "shell.execute_reply": "2021-07-12T21:36:33.620404Z",
     "shell.execute_reply.started": "2021-07-12T21:36:33.453723Z"
    }
   },
   "outputs": [],
   "source": [
    "model = Sequential()\n",
    "model.add(L.Dense(512, input_dim=X_train.shape[1], activation=\"relu\"))\n",
    "model.add(L.Dropout(0.5))\n",
    "model.add(L.Dense(256, activation=\"relu\"))\n",
    "model.add(L.Dropout(0.5))\n",
    "model.add(L.Dense(1, activation=\"linear\"))"
   ]
  },
  {
   "cell_type": "code",
   "execution_count": null,
   "metadata": {
    "execution": {
     "iopub.execute_input": "2021-07-12T21:36:33.622979Z",
     "iopub.status.busy": "2021-07-12T21:36:33.622611Z",
     "iopub.status.idle": "2021-07-12T21:36:33.63161Z",
     "shell.execute_reply": "2021-07-12T21:36:33.630566Z",
     "shell.execute_reply.started": "2021-07-12T21:36:33.622947Z"
    }
   },
   "outputs": [],
   "source": [
    "model.summary()"
   ]
  },
  {
   "cell_type": "code",
   "execution_count": null,
   "metadata": {
    "execution": {
     "iopub.execute_input": "2021-07-12T21:36:33.634206Z",
     "iopub.status.busy": "2021-07-12T21:36:33.633545Z",
     "iopub.status.idle": "2021-07-12T21:36:33.653304Z",
     "shell.execute_reply": "2021-07-12T21:36:33.651867Z",
     "shell.execute_reply.started": "2021-07-12T21:36:33.634167Z"
    }
   },
   "outputs": [],
   "source": [
    "# Compile model\n",
    "optimizer = tf.keras.optimizers.Adam(0.01)\n",
    "model.compile(loss='MAPE',optimizer=optimizer, metrics=['MAPE'])"
   ]
  },
  {
   "cell_type": "code",
   "execution_count": null,
   "metadata": {
    "execution": {
     "iopub.execute_input": "2021-07-12T21:36:33.654724Z",
     "iopub.status.busy": "2021-07-12T21:36:33.65446Z",
     "iopub.status.idle": "2021-07-12T21:36:33.663435Z",
     "shell.execute_reply": "2021-07-12T21:36:33.66264Z",
     "shell.execute_reply.started": "2021-07-12T21:36:33.654697Z"
    }
   },
   "outputs": [],
   "source": [
    "checkpoint = ModelCheckpoint('../working/best_model.hdf5',\n",
    "                             monitor=['val_MAPE'], verbose=0,\n",
    "                             mode='min')\n",
    "earlystop = EarlyStopping(monitor='val_MAPE', patience=50,\n",
    "                          restore_best_weights=True,)\n",
    "callbacks_list = [checkpoint, earlystop]"
   ]
  },
  {
   "cell_type": "markdown",
   "metadata": {},
   "source": [
    "### Fit"
   ]
  },
  {
   "cell_type": "code",
   "execution_count": null,
   "metadata": {
    "execution": {
     "iopub.execute_input": "2021-07-12T21:36:33.664678Z",
     "iopub.status.busy": "2021-07-12T21:36:33.6644Z",
     "iopub.status.idle": "2021-07-12T21:38:12.299981Z",
     "shell.execute_reply": "2021-07-12T21:38:12.299327Z",
     "shell.execute_reply.started": "2021-07-12T21:36:33.664647Z"
    }
   },
   "outputs": [],
   "source": [
    "history = model.fit(X_train, y_train,\n",
    "                    batch_size=512,\n",
    "                    epochs=500, # фактически мы обучаем пока EarlyStopping не остановит обучение\n",
    "                    validation_data=(X_test, y_test),\n",
    "                    callbacks=callbacks_list,\n",
    "                    verbose=0,\n",
    "                   )"
   ]
  },
  {
   "cell_type": "code",
   "execution_count": null,
   "metadata": {
    "execution": {
     "iopub.execute_input": "2021-07-12T21:38:12.301523Z",
     "iopub.status.busy": "2021-07-12T21:38:12.301233Z",
     "iopub.status.idle": "2021-07-12T21:38:12.41276Z",
     "shell.execute_reply": "2021-07-12T21:38:12.41186Z",
     "shell.execute_reply.started": "2021-07-12T21:38:12.301492Z"
    }
   },
   "outputs": [],
   "source": [
    "plt.title('Loss')\n",
    "plt.plot(history.history['MAPE'], label='train')\n",
    "plt.plot(history.history['val_MAPE'], label='test')\n",
    "plt.show();"
   ]
  },
  {
   "cell_type": "code",
   "execution_count": null,
   "metadata": {
    "execution": {
     "iopub.execute_input": "2021-07-12T21:38:12.414483Z",
     "iopub.status.busy": "2021-07-12T21:38:12.414071Z",
     "iopub.status.idle": "2021-07-12T21:38:12.442096Z",
     "shell.execute_reply": "2021-07-12T21:38:12.441083Z",
     "shell.execute_reply.started": "2021-07-12T21:38:12.41445Z"
    }
   },
   "outputs": [],
   "source": [
    "model.load_weights('../working/best_model.hdf5')\n",
    "model.save('../working/nn_1.hdf5')"
   ]
  },
  {
   "cell_type": "code",
   "execution_count": null,
   "metadata": {
    "execution": {
     "iopub.execute_input": "2021-07-12T21:38:12.443264Z",
     "iopub.status.busy": "2021-07-12T21:38:12.44297Z",
     "iopub.status.idle": "2021-07-12T21:38:12.580904Z",
     "shell.execute_reply": "2021-07-12T21:38:12.579329Z",
     "shell.execute_reply.started": "2021-07-12T21:38:12.443234Z"
    }
   },
   "outputs": [],
   "source": [
    "test_predict_nn1 = model.predict(X_test)\n",
    "print(f\"TEST mape: {(mape(y_test, test_predict_nn1[:,0]))*100:0.2f}%\")"
   ]
  },
  {
   "cell_type": "code",
   "execution_count": null,
   "metadata": {
    "execution": {
     "iopub.execute_input": "2021-07-12T21:38:12.582483Z",
     "iopub.status.busy": "2021-07-12T21:38:12.582162Z",
     "iopub.status.idle": "2021-07-12T21:38:12.692379Z",
     "shell.execute_reply": "2021-07-12T21:38:12.691412Z",
     "shell.execute_reply.started": "2021-07-12T21:38:12.582456Z"
    }
   },
   "outputs": [],
   "source": [
    "sub_predict_nn1 = model.predict(X_sub)\n",
    "sample_submission['price'] = sub_predict_nn1[:,0]\n",
    "sample_submission.to_csv('nn1_submission.csv', index=False)"
   ]
  },
  {
   "cell_type": "markdown",
   "metadata": {},
   "source": [
    "### Выводы:\n",
    "* Нейросеть отработала лучше наивной модели, но хуже CatboostRegressor\n",
    "* Можно было бы еще поработать над обработкой признаков. В частности оценить выбросы, выделить еще больше новых признаков.\n",
    "* Проведена следующая работа для улучшения модели:\n",
    "##### CatBoostRegressor:\n",
    "* в модель подавался логарифм от целевой переменной, а затем на предикте бралась экспанента.\n",
    "##### Tabular:\n",
    "* В нейросеть подаются данные с распределением, близким к нормальному. Создан признак modelDateNorm = np.log(2020 - data['modelDate']). Обработан признак 'mileage' - возведен в степень 0.5. \n",
    "* Извлечение числовых значений из текста: Парсинг признаков 'engineDisplacement', 'enginePower', 'Владение' для извлечения числовых значений.\n",
    "* Cокращение размерности признака 'name'. Удалены данные, которые уже есть в других столбцах ('enginePower', 'engineDisplacement', 'vehicleTransmission'). Выделено наличие xDrive в качестве отдельного признака.\n",
    "* Проведена обработка признака 'vehicleConfiguration' с токенизацией и выделением основных значений."
   ]
  },
  {
   "cell_type": "markdown",
   "metadata": {},
   "source": [
    "# Model 4: NLP + Multiple Inputs"
   ]
  },
  {
   "cell_type": "code",
   "execution_count": null,
   "metadata": {
    "execution": {
     "iopub.execute_input": "2021-07-12T21:38:27.461516Z",
     "iopub.status.busy": "2021-07-12T21:38:27.461144Z",
     "iopub.status.idle": "2021-07-12T21:38:27.468325Z",
     "shell.execute_reply": "2021-07-12T21:38:27.46696Z",
     "shell.execute_reply.started": "2021-07-12T21:38:27.461493Z"
    }
   },
   "outputs": [],
   "source": [
    "data.description[2]"
   ]
  },
  {
   "cell_type": "code",
   "execution_count": null,
   "metadata": {
    "execution": {
     "iopub.execute_input": "2021-07-12T21:38:29.227689Z",
     "iopub.status.busy": "2021-07-12T21:38:29.227344Z",
     "iopub.status.idle": "2021-07-12T21:38:29.97828Z",
     "shell.execute_reply": "2021-07-12T21:38:29.977291Z",
     "shell.execute_reply.started": "2021-07-12T21:38:29.227665Z"
    }
   },
   "outputs": [],
   "source": [
    "# смотрим на самые частые слова в описании\n",
    "text = ' '.join(data['description'].values)\n",
    "text_trigrams = [i for i in ngrams(text.split(' '), 5)]\n",
    "text_trigrams\n",
    "my_list = Counter(text_trigrams).most_common(50)\n",
    "my_list[:20]"
   ]
  },
  {
   "cell_type": "code",
   "execution_count": null,
   "metadata": {
    "execution": {
     "iopub.execute_input": "2021-07-12T21:39:23.796533Z",
     "iopub.status.busy": "2021-07-12T21:39:23.796269Z",
     "iopub.status.idle": "2021-07-12T21:39:23.86427Z",
     "shell.execute_reply": "2021-07-12T21:39:23.863682Z",
     "shell.execute_reply.started": "2021-07-12T21:39:23.79651Z"
    }
   },
   "outputs": [],
   "source": [
    "# поработаем с самыми часто встречаемыми выражениями\n",
    "data['description'] = data['description'].str.replace('автомобилей с пробегом','автоспробег')\n",
    "data['description'] = data['description'].str.replace('ждут Вас на сайте rolf-probeg','сайт')\n",
    "data['description'] = data['description'].str.replace('в мобильном приложении','приложение')\n",
    "data['description'] = data['description'].str.replace('проверенных',' ')\n",
    "data['description'] = data['description'].str.replace('с гарантией','гарант')\n"
   ]
  },
  {
   "cell_type": "code",
   "execution_count": null,
   "metadata": {
    "execution": {
     "iopub.execute_input": "2021-07-12T21:39:25.215289Z",
     "iopub.status.busy": "2021-07-12T21:39:25.214945Z",
     "iopub.status.idle": "2021-07-12T21:39:25.218266Z",
     "shell.execute_reply": "2021-07-12T21:39:25.217783Z",
     "shell.execute_reply.started": "2021-07-12T21:39:25.215266Z"
    }
   },
   "outputs": [],
   "source": [
    "# TOKENIZER\n",
    "# The maximum number of words to be used. (most frequent)\n",
    "MAX_WORDS = 100000\n",
    "# Max number of words in each complaint.\n",
    "MAX_SEQUENCE_LENGTH = 256"
   ]
  },
  {
   "cell_type": "markdown",
   "metadata": {},
   "source": [
    "## Lemming, Tokinaezer, stop words"
   ]
  },
  {
   "cell_type": "code",
   "execution_count": null,
   "metadata": {
    "execution": {
     "iopub.execute_input": "2021-07-12T21:39:27.013681Z",
     "iopub.status.busy": "2021-07-12T21:39:27.01342Z",
     "iopub.status.idle": "2021-07-12T21:39:27.019287Z",
     "shell.execute_reply": "2021-07-12T21:39:27.018301Z",
     "shell.execute_reply.started": "2021-07-12T21:39:27.013658Z"
    }
   },
   "outputs": [],
   "source": [
    "stop_words = set(stopwords.words(\"russian\"))\n",
    "lemmatizer = WordNetLemmatizer()\n",
    "stemmer = RussianStemmer(False)"
   ]
  },
  {
   "cell_type": "code",
   "execution_count": null,
   "metadata": {
    "execution": {
     "iopub.execute_input": "2021-07-12T21:39:27.854329Z",
     "iopub.status.busy": "2021-07-12T21:39:27.853963Z",
     "iopub.status.idle": "2021-07-12T21:39:27.860621Z",
     "shell.execute_reply": "2021-07-12T21:39:27.860162Z",
     "shell.execute_reply.started": "2021-07-12T21:39:27.854302Z"
    }
   },
   "outputs": [],
   "source": [
    "def clean_text(x):\n",
    "    '''Очистка текста от знаков пунктуации, скобок, чисел...'''\n",
    "    x = x.lower()\n",
    "    # Удалим все спец символы\n",
    "    x = remove_chars_from_text(x, spec_chars)\n",
    "\n",
    "    # Удалим все цифры\n",
    "    x = remove_chars_from_text(x, string.digits)\n",
    "    \n",
    "    # Удаляем остальные символы\n",
    "    x = x.replace('\\n',' ').replace('\\t',' ')\n",
    "    x = re.sub('\\[.*?\\]', '', x) # brackets\n",
    "    \n",
    "    #токенизация\n",
    "    tokenizer = RegexpTokenizer(r'\\w+')\n",
    "    tokens = tokenizer.tokenize(x)  \n",
    "    \n",
    "    filtered_words = [w for w in tokens if len(w) > 2 if not w in stop_words]\n",
    "    stem_words=[stemmer.stem(w) for w in filtered_words]\n",
    "    lemma_words=[lemmatizer.lemmatize(w) for w in stem_words]\n",
    "    return \" \".join(w for w in lemma_words)"
   ]
  },
  {
   "cell_type": "code",
   "execution_count": null,
   "metadata": {
    "execution": {
     "iopub.execute_input": "2021-07-12T21:39:28.71651Z",
     "iopub.status.busy": "2021-07-12T21:39:28.716174Z",
     "iopub.status.idle": "2021-07-12T21:40:20.535847Z",
     "shell.execute_reply": "2021-07-12T21:40:20.534769Z",
     "shell.execute_reply.started": "2021-07-12T21:39:28.716488Z"
    }
   },
   "outputs": [],
   "source": [
    "data['description'] = data['description'].apply(lambda x: clean_text(x))\n",
    "data['description'][2]"
   ]
  },
  {
   "cell_type": "markdown",
   "metadata": {},
   "source": [
    "### Tokenizer"
   ]
  },
  {
   "cell_type": "markdown",
   "metadata": {},
   "source": [
    "Создаём словарь "
   ]
  },
  {
   "cell_type": "code",
   "execution_count": null,
   "metadata": {
    "execution": {
     "iopub.execute_input": "2021-07-12T21:40:29.62042Z",
     "iopub.status.busy": "2021-07-12T21:40:29.620159Z",
     "iopub.status.idle": "2021-07-12T21:40:30.584006Z",
     "shell.execute_reply": "2021-07-12T21:40:30.583293Z",
     "shell.execute_reply.started": "2021-07-12T21:40:29.620399Z"
    }
   },
   "outputs": [],
   "source": [
    "%%time\n",
    "tokenize = Tokenizer(num_words=MAX_WORDS)\n",
    "tokenize.fit_on_texts(data.description)"
   ]
  },
  {
   "cell_type": "code",
   "execution_count": null,
   "metadata": {
    "_kg_hide-output": true,
    "execution": {
     "iopub.execute_input": "2021-07-12T21:40:31.559715Z",
     "iopub.status.busy": "2021-07-12T21:40:31.559344Z",
     "iopub.status.idle": "2021-07-12T21:40:31.590643Z",
     "shell.execute_reply": "2021-07-12T21:40:31.589449Z",
     "shell.execute_reply.started": "2021-07-12T21:40:31.559682Z"
    }
   },
   "outputs": [],
   "source": [
    "tokenize.word_index"
   ]
  },
  {
   "cell_type": "code",
   "execution_count": null,
   "metadata": {
    "execution": {
     "iopub.execute_input": "2021-07-12T21:40:32.405994Z",
     "iopub.status.busy": "2021-07-12T21:40:32.405645Z",
     "iopub.status.idle": "2021-07-12T21:40:32.413707Z",
     "shell.execute_reply": "2021-07-12T21:40:32.412446Z",
     "shell.execute_reply.started": "2021-07-12T21:40:32.405965Z"
    }
   },
   "outputs": [],
   "source": [
    "# split данных\n",
    "text_train = data.description.iloc[X_train.index]\n",
    "text_test = data.description.iloc[X_test.index]\n",
    "text_sub = data.description.iloc[X_sub.index]"
   ]
  },
  {
   "cell_type": "code",
   "execution_count": null,
   "metadata": {
    "execution": {
     "iopub.execute_input": "2021-07-12T21:40:33.362878Z",
     "iopub.status.busy": "2021-07-12T21:40:33.36255Z",
     "iopub.status.idle": "2021-07-12T21:40:34.255469Z",
     "shell.execute_reply": "2021-07-12T21:40:34.254882Z",
     "shell.execute_reply.started": "2021-07-12T21:40:33.36285Z"
    }
   },
   "outputs": [],
   "source": [
    "%%time\n",
    "text_train_sequences = sequence.pad_sequences(tokenize.texts_to_sequences(text_train), maxlen=MAX_SEQUENCE_LENGTH)\n",
    "text_test_sequences = sequence.pad_sequences(tokenize.texts_to_sequences(text_test), maxlen=MAX_SEQUENCE_LENGTH)\n",
    "text_sub_sequences = sequence.pad_sequences(tokenize.texts_to_sequences(text_sub), maxlen=MAX_SEQUENCE_LENGTH)\n",
    "print(text_train_sequences.shape, text_test_sequences.shape, text_sub_sequences.shape, )"
   ]
  },
  {
   "cell_type": "code",
   "execution_count": null,
   "metadata": {
    "execution": {
     "iopub.execute_input": "2021-07-12T21:40:35.122383Z",
     "iopub.status.busy": "2021-07-12T21:40:35.121899Z",
     "iopub.status.idle": "2021-07-12T21:40:35.130662Z",
     "shell.execute_reply": "2021-07-12T21:40:35.12935Z",
     "shell.execute_reply.started": "2021-07-12T21:40:35.122353Z"
    }
   },
   "outputs": [],
   "source": [
    "# вот так теперь выглядит наш текст\n",
    "print(text_train.iloc[6])\n",
    "print(text_train_sequences[6])"
   ]
  },
  {
   "cell_type": "markdown",
   "metadata": {},
   "source": [
    "## RNN NLP"
   ]
  },
  {
   "cell_type": "markdown",
   "metadata": {},
   "source": [
    "строим сеть для обработки текста. Для простоты в примере используем LSTM:"
   ]
  },
  {
   "cell_type": "code",
   "execution_count": null,
   "metadata": {
    "execution": {
     "iopub.execute_input": "2021-07-12T21:41:17.89078Z",
     "iopub.status.busy": "2021-07-12T21:41:17.890324Z",
     "iopub.status.idle": "2021-07-12T21:41:18.437748Z",
     "shell.execute_reply": "2021-07-12T21:41:18.437084Z",
     "shell.execute_reply.started": "2021-07-12T21:41:17.890739Z"
    }
   },
   "outputs": [],
   "source": [
    "model_nlp = Sequential()\n",
    "model_nlp.add(L.Input(shape=MAX_SEQUENCE_LENGTH, name=\"seq_description\"))\n",
    "model_nlp.add(L.Embedding(len(tokenize.word_index)+1, MAX_SEQUENCE_LENGTH,))\n",
    "model_nlp.add(L.LSTM(256, return_sequences=True))\n",
    "model_nlp.add(L.Dropout(0.5))\n",
    "model_nlp.add(L.LSTM(128,))\n",
    "model_nlp.add(L.Dropout(0.25))\n",
    "model_nlp.add(L.Dense(64, activation=\"relu\"))\n",
    "model_nlp.add(L.Dropout(0.25))"
   ]
  },
  {
   "cell_type": "markdown",
   "metadata": {},
   "source": [
    "## MLP"
   ]
  },
  {
   "cell_type": "markdown",
   "metadata": {},
   "source": [
    "еть построена «без головы». Добавим ещё одну сеть — созданную нами ранее для табличных данных:"
   ]
  },
  {
   "cell_type": "code",
   "execution_count": null,
   "metadata": {
    "execution": {
     "iopub.execute_input": "2021-07-12T21:41:20.366825Z",
     "iopub.status.busy": "2021-07-12T21:41:20.366548Z",
     "iopub.status.idle": "2021-07-12T21:41:20.405187Z",
     "shell.execute_reply": "2021-07-12T21:41:20.404072Z",
     "shell.execute_reply.started": "2021-07-12T21:41:20.366787Z"
    }
   },
   "outputs": [],
   "source": [
    "model_mlp = Sequential()\n",
    "model_mlp.add(L.Dense(512, input_dim=X_train.shape[1], activation=\"relu\"))\n",
    "model_mlp.add(L.Dropout(0.5))\n",
    "model_mlp.add(L.Dense(256, activation=\"relu\"))\n",
    "model_mlp.add(L.Dropout(0.5))"
   ]
  },
  {
   "cell_type": "markdown",
   "metadata": {},
   "source": [
    "## Multiple Inputs NN"
   ]
  },
  {
   "cell_type": "markdown",
   "metadata": {},
   "source": [
    "Объединяем сети в Multi-Input сеть, то есть сеть, которая позволяет брать на вход несколько сетей и объединять их результаты. За объединение отвечает слой L.concatenate:"
   ]
  },
  {
   "cell_type": "code",
   "execution_count": null,
   "metadata": {
    "execution": {
     "iopub.execute_input": "2021-07-12T21:41:23.0461Z",
     "iopub.status.busy": "2021-07-12T21:41:23.045712Z",
     "iopub.status.idle": "2021-07-12T21:41:23.068596Z",
     "shell.execute_reply": "2021-07-12T21:41:23.067762Z",
     "shell.execute_reply.started": "2021-07-12T21:41:23.046078Z"
    }
   },
   "outputs": [],
   "source": [
    "combinedInput = L.concatenate([model_nlp.output, model_mlp.output])\n",
    "# being our regression head\n",
    "head = L.Dense(64, activation=\"relu\")(combinedInput)\n",
    "head = L.Dense(1, activation=\"linear\")(head)\n",
    "\n",
    "model = Model(inputs=[model_nlp.input, model_mlp.input], outputs=head)"
   ]
  },
  {
   "cell_type": "code",
   "execution_count": null,
   "metadata": {
    "_kg_hide-output": true,
    "execution": {
     "iopub.execute_input": "2021-07-12T21:41:24.046019Z",
     "iopub.status.busy": "2021-07-12T21:41:24.045726Z",
     "iopub.status.idle": "2021-07-12T21:41:24.05637Z",
     "shell.execute_reply": "2021-07-12T21:41:24.055201Z",
     "shell.execute_reply.started": "2021-07-12T21:41:24.045997Z"
    }
   },
   "outputs": [],
   "source": [
    "model.summary()"
   ]
  },
  {
   "cell_type": "markdown",
   "metadata": {},
   "source": [
    "### Fit"
   ]
  },
  {
   "cell_type": "code",
   "execution_count": null,
   "metadata": {
    "execution": {
     "iopub.execute_input": "2021-07-12T21:41:25.855535Z",
     "iopub.status.busy": "2021-07-12T21:41:25.855285Z",
     "iopub.status.idle": "2021-07-12T21:41:25.867175Z",
     "shell.execute_reply": "2021-07-12T21:41:25.86627Z",
     "shell.execute_reply.started": "2021-07-12T21:41:25.855514Z"
    }
   },
   "outputs": [],
   "source": [
    "optimizer = tf.keras.optimizers.Adam(0.01)\n",
    "model.compile(loss='MAPE',optimizer=optimizer, metrics=['MAPE'])"
   ]
  },
  {
   "cell_type": "code",
   "execution_count": null,
   "metadata": {
    "execution": {
     "iopub.execute_input": "2021-07-12T21:41:26.582147Z",
     "iopub.status.busy": "2021-07-12T21:41:26.581896Z",
     "iopub.status.idle": "2021-07-12T21:41:26.587693Z",
     "shell.execute_reply": "2021-07-12T21:41:26.586753Z",
     "shell.execute_reply.started": "2021-07-12T21:41:26.582125Z"
    }
   },
   "outputs": [],
   "source": [
    "checkpoint = ModelCheckpoint('../working/best_model.hdf5', \n",
    "                             monitor=['val_MAPE'], \n",
    "                             verbose=0, mode='min')\n",
    "earlystop = EarlyStopping(monitor='val_MAPE', patience=10,\n",
    "                          restore_best_weights=True,)\n",
    "callbacks_list = [checkpoint, earlystop]"
   ]
  },
  {
   "cell_type": "code",
   "execution_count": null,
   "metadata": {
    "_kg_hide-output": true,
    "execution": {
     "iopub.execute_input": "2021-07-12T21:23:46.077027Z",
     "iopub.status.busy": "2021-07-12T21:23:46.07668Z",
     "iopub.status.idle": "2021-07-12T21:31:32.051032Z",
     "shell.execute_reply": "2021-07-12T21:31:32.050273Z",
     "shell.execute_reply.started": "2021-07-12T21:23:46.076983Z"
    }
   },
   "outputs": [],
   "source": [
    "history = model.fit([text_train_sequences, X_train], y_train,\n",
    "                    batch_size=512,\n",
    "                    epochs=500, # фактически мы обучаем пока EarlyStopping не остановит обучение\n",
    "                    validation_data=([text_test_sequences, X_test], y_test),\n",
    "                    callbacks=callbacks_list\n",
    "                   )"
   ]
  },
  {
   "cell_type": "code",
   "execution_count": null,
   "metadata": {
    "execution": {
     "iopub.execute_input": "2021-07-12T21:31:32.053242Z",
     "iopub.status.busy": "2021-07-12T21:31:32.052885Z",
     "iopub.status.idle": "2021-07-12T21:31:32.215813Z",
     "shell.execute_reply": "2021-07-12T21:31:32.214722Z",
     "shell.execute_reply.started": "2021-07-12T21:31:32.053205Z"
    }
   },
   "outputs": [],
   "source": [
    "plt.title('Loss')\n",
    "plt.plot(history.history['MAPE'], label='train')\n",
    "plt.plot(history.history['val_MAPE'], label='test')\n",
    "plt.show();"
   ]
  },
  {
   "cell_type": "code",
   "execution_count": null,
   "metadata": {
    "execution": {
     "iopub.execute_input": "2021-07-12T21:31:32.218002Z",
     "iopub.status.busy": "2021-07-12T21:31:32.217602Z",
     "iopub.status.idle": "2021-07-12T21:31:32.444179Z",
     "shell.execute_reply": "2021-07-12T21:31:32.443253Z",
     "shell.execute_reply.started": "2021-07-12T21:31:32.217962Z"
    }
   },
   "outputs": [],
   "source": [
    "model.load_weights('../working/best_model.hdf5')\n",
    "model.save('../working/nn_mlp_nlp.hdf5')"
   ]
  },
  {
   "cell_type": "code",
   "execution_count": null,
   "metadata": {
    "execution": {
     "iopub.execute_input": "2021-07-12T21:31:32.446959Z",
     "iopub.status.busy": "2021-07-12T21:31:32.446282Z",
     "iopub.status.idle": "2021-07-12T21:31:33.604304Z",
     "shell.execute_reply": "2021-07-12T21:31:33.603387Z",
     "shell.execute_reply.started": "2021-07-12T21:31:32.446913Z"
    }
   },
   "outputs": [],
   "source": [
    "test_predict_nn2 = model.predict([text_test_sequences, X_test])\n",
    "print(f\"TEST mape: {(mape(y_test, test_predict_nn2[:,0]))*100:0.2f}%\")"
   ]
  },
  {
   "cell_type": "code",
   "execution_count": null,
   "metadata": {
    "execution": {
     "iopub.execute_input": "2021-07-11T12:00:42.661163Z",
     "iopub.status.busy": "2021-07-11T12:00:42.660834Z",
     "iopub.status.idle": "2021-07-11T12:00:44.00539Z",
     "shell.execute_reply": "2021-07-11T12:00:44.004612Z",
     "shell.execute_reply.started": "2021-07-11T12:00:42.661133Z"
    }
   },
   "outputs": [],
   "source": [
    "sub_predict_nn2 = model.predict([text_sub_sequences, X_sub])\n",
    "sample_submission['price'] = sub_predict_nn2[:,0]\n",
    "sample_submission.to_csv('nn2_submission.csv', index=False)"
   ]
  },
  {
   "cell_type": "markdown",
   "metadata": {},
   "source": [
    "## Выводы:\n",
    "* NLP показала также результат лучше наивной модели, но хуже CatboostRegressor\n",
    "* Можно было бы еще попробовать другие методы обучения (Fine-tuning, transfer-learning)\n",
    "* Проведена следующая работа для улучшения модели:\n",
    "    1. Из описания выделены наиболее часто встречающиеся выражения и заменены на кодовые слова\n",
    "    2. Проведена редобработка текста с лемматизацией и стеммнигом.\n",
    "    3. Предаврительно создан алгоритм очистки и аугментации текста."
   ]
  },
  {
   "cell_type": "markdown",
   "metadata": {},
   "source": [
    "# Model 5: Добавляем картинки"
   ]
  },
  {
   "cell_type": "markdown",
   "metadata": {},
   "source": [
    "## Data"
   ]
  },
  {
   "cell_type": "code",
   "execution_count": null,
   "metadata": {
    "execution": {
     "iopub.execute_input": "2021-07-12T21:41:55.237896Z",
     "iopub.status.busy": "2021-07-12T21:41:55.237561Z",
     "iopub.status.idle": "2021-07-12T21:41:55.95175Z",
     "shell.execute_reply": "2021-07-12T21:41:55.950859Z",
     "shell.execute_reply.started": "2021-07-12T21:41:55.237868Z"
    }
   },
   "outputs": [],
   "source": [
    "# убедимся, что цены и фото подгрузились верно\n",
    "plt.figure(figsize = (12,8))\n",
    "\n",
    "random_image = train.sample(n = 9)\n",
    "random_image_paths = random_image['sell_id'].values\n",
    "random_image_cat = random_image['price'].values\n",
    "\n",
    "for index, path in enumerate(random_image_paths):\n",
    "    im = PIL.Image.open(DATA_DIR+'img/img/' + str(path) + '.jpg')\n",
    "    plt.subplot(3, 3, index + 1)\n",
    "    plt.imshow(im)\n",
    "    plt.title('price: ' + str(random_image_cat[index]))\n",
    "    plt.axis('off')\n",
    "plt.show()"
   ]
  },
  {
   "cell_type": "code",
   "execution_count": null,
   "metadata": {
    "execution": {
     "iopub.execute_input": "2021-07-12T21:42:00.5104Z",
     "iopub.status.busy": "2021-07-12T21:42:00.51009Z",
     "iopub.status.idle": "2021-07-12T21:43:15.149127Z",
     "shell.execute_reply": "2021-07-12T21:43:15.148162Z",
     "shell.execute_reply.started": "2021-07-12T21:42:00.510373Z"
    }
   },
   "outputs": [],
   "source": [
    "size = (320, 240)\n",
    "\n",
    "def get_image_array(index):\n",
    "    images_train = []\n",
    "    for index, sell_id in enumerate(data['sell_id'].iloc[index].values):\n",
    "        image = cv2.imread(DATA_DIR + 'img/img/' + str(sell_id) + '.jpg')\n",
    "        assert(image is not None)\n",
    "        image = cv2.resize(image, size)\n",
    "        images_train.append(image)\n",
    "    images_train = np.array(images_train)\n",
    "    print('images shape', images_train.shape, 'dtype', images_train.dtype)\n",
    "    return(images_train)\n",
    "\n",
    "images_train = get_image_array(X_train.index)\n",
    "images_test = get_image_array(X_test.index)\n",
    "images_sub = get_image_array(X_sub.index)"
   ]
  },
  {
   "cell_type": "markdown",
   "metadata": {},
   "source": [
    "## albumentations"
   ]
  },
  {
   "cell_type": "code",
   "execution_count": null,
   "metadata": {
    "execution": {
     "iopub.execute_input": "2021-07-12T18:32:43.116876Z",
     "iopub.status.busy": "2021-07-12T18:32:43.116525Z",
     "iopub.status.idle": "2021-07-12T18:32:43.12425Z",
     "shell.execute_reply": "2021-07-12T18:32:43.123299Z",
     "shell.execute_reply.started": "2021-07-12T18:32:43.116845Z"
    }
   },
   "outputs": [],
   "source": [
    "from albumentations import (\n",
    "    HorizontalFlip, IAAPerspective, ShiftScaleRotate, CLAHE, RandomRotate90,  \n",
    "    Rotate, CenterCrop, GaussianBlur,RGBShift, FancyPCA, Resize,\n",
    "    Transpose, ShiftScaleRotate, Blur, OpticalDistortion, GridDistortion, HueSaturationValue,\n",
    "    IAAAdditiveGaussianNoise, GaussNoise, MotionBlur, MedianBlur, IAAPiecewiseAffine,\n",
    "    IAASharpen, IAAEmboss, RandomBrightnessContrast, Flip, OneOf, Compose\n",
    ")"
   ]
  },
  {
   "cell_type": "markdown",
   "metadata": {},
   "source": [
    "Закомментированный ниже код дал результаты лучше для модели 5, но после сабмита паблик скор был ниже на 0.003"
   ]
  },
  {
   "cell_type": "code",
   "execution_count": null,
   "metadata": {
    "execution": {
     "iopub.execute_input": "2021-07-12T18:32:46.998037Z",
     "iopub.status.busy": "2021-07-12T18:32:46.997634Z",
     "iopub.status.idle": "2021-07-12T18:32:47.011531Z",
     "shell.execute_reply": "2021-07-12T18:32:47.010567Z",
     "shell.execute_reply.started": "2021-07-12T18:32:46.998002Z"
    }
   },
   "outputs": [],
   "source": [
    "# augmentation = Compose([\n",
    "#     HorizontalFlip(p=0.5), # p=0.5\n",
    "#     Rotate(limit=30, interpolation=1, border_mode=4, value=None, \n",
    "#            mask_value=None, always_apply=False, p=0.5),\n",
    "#     OneOf([\n",
    "#         CenterCrop(height=240, width=320),\n",
    "#         CenterCrop(height=220, width=300),\n",
    "#     ],p=0.5),\n",
    "#     OneOf([\n",
    "#         CLAHE(clip_limit=2),\n",
    "#         IAASharpen(),\n",
    "#         IAAEmboss(),\n",
    "#         RandomBrightnessContrast(brightness_limit=0.3, contrast_limit=0.3),\n",
    "#         RandomBrightnessContrast(brightness_limit=0.1, contrast_limit=0.1) \n",
    "#     ], p=0.5),#p=0.3\n",
    "#     GaussianBlur(p=0.05),\n",
    "#     HueSaturationValue(p=0.5),#p=0.3\n",
    "#     RGBShift(p=0.5),\n",
    "#     FancyPCA(alpha=0.1, always_apply=False, p=0.5),\n",
    "#     Resize(240, 320)\n",
    "# ], p=1)"
   ]
  },
  {
   "cell_type": "code",
   "execution_count": null,
   "metadata": {
    "execution": {
     "iopub.execute_input": "2021-07-12T18:32:48.02006Z",
     "iopub.status.busy": "2021-07-12T18:32:48.019688Z",
     "iopub.status.idle": "2021-07-12T18:32:48.027801Z",
     "shell.execute_reply": "2021-07-12T18:32:48.026896Z",
     "shell.execute_reply.started": "2021-07-12T18:32:48.020026Z"
    }
   },
   "outputs": [],
   "source": [
    "#пример взят из официальной документации: https://albumentations.readthedocs.io/en/latest/examples.html\n",
    "augmentation = Compose([\n",
    "    HorizontalFlip(),\n",
    "    OneOf([\n",
    "        IAAAdditiveGaussianNoise(),\n",
    "        GaussNoise(),\n",
    "    ], p=0.2),\n",
    "    OneOf([\n",
    "        MotionBlur(p=0.2),\n",
    "        MedianBlur(blur_limit=3, p=0.1),\n",
    "        Blur(blur_limit=3, p=0.1),\n",
    "    ], p=0.2),\n",
    "    ShiftScaleRotate(shift_limit=0.0625, scale_limit=0.2, rotate_limit=15, p=1),\n",
    "    OneOf([\n",
    "        OpticalDistortion(p=0.3),\n",
    "        GridDistortion(p=0.1),\n",
    "        IAAPiecewiseAffine(p=0.3),\n",
    "    ], p=0.2),\n",
    "    OneOf([\n",
    "        CLAHE(clip_limit=2),\n",
    "        IAASharpen(),\n",
    "        IAAEmboss(),\n",
    "        RandomBrightnessContrast(brightness_limit=0.1, contrast_limit=0.1),\n",
    "    ], p=0.3),\n",
    "    HueSaturationValue(p=0.3),\n",
    "], p=1)"
   ]
  },
  {
   "cell_type": "code",
   "execution_count": null,
   "metadata": {
    "execution": {
     "iopub.execute_input": "2021-07-12T18:32:49.931407Z",
     "iopub.status.busy": "2021-07-12T18:32:49.930461Z",
     "iopub.status.idle": "2021-07-12T18:32:50.575034Z",
     "shell.execute_reply": "2021-07-12T18:32:50.573789Z",
     "shell.execute_reply.started": "2021-07-12T18:32:49.931369Z"
    }
   },
   "outputs": [],
   "source": [
    "#пример\n",
    "plt.figure(figsize = (12,8))\n",
    "for i in range(9):\n",
    "    img = augmentation(image = images_train[0])['image']\n",
    "    plt.subplot(3, 3, i + 1)\n",
    "    plt.imshow(img)\n",
    "    plt.axis('off')\n",
    "plt.show()"
   ]
  },
  {
   "cell_type": "code",
   "execution_count": null,
   "metadata": {
    "execution": {
     "iopub.execute_input": "2021-07-12T18:32:57.602904Z",
     "iopub.status.busy": "2021-07-12T18:32:57.602553Z",
     "iopub.status.idle": "2021-07-12T18:32:57.60994Z",
     "shell.execute_reply": "2021-07-12T18:32:57.608978Z",
     "shell.execute_reply.started": "2021-07-12T18:32:57.602873Z"
    }
   },
   "outputs": [],
   "source": [
    "def make_augmentations(images):\n",
    "    print('применение аугментаций', end = '')\n",
    "    augmented_images = np.empty(images.shape)\n",
    "    for i in range(images.shape[0]):\n",
    "        if i % 200 == 0:\n",
    "            print('.', end = '')\n",
    "        augment_dict = augmentation(image = images[i])\n",
    "        augmented_image = augment_dict['image']\n",
    "        augmented_images[i] = augmented_image\n",
    "        print('')\n",
    "    return augmented_images"
   ]
  },
  {
   "cell_type": "markdown",
   "metadata": {},
   "source": [
    "## tf.data.Dataset\n",
    "Если все изображения мы будем хранить в памяти, то может возникнуть проблема ее нехватки. Не храните все изображения в памяти целиком!\n",
    "\n",
    "Метод .fit() модели keras может принимать либо данные в виде массивов или тензоров, либо разного рода итераторы, из которых наиболее современным и гибким является [tf.data.Dataset](https://www.tensorflow.org/guide/data). Он представляет собой конвейер, то есть мы указываем, откуда берем данные и какую цепочку преобразований с ними выполняем. Далее мы будем работать с tf.data.Dataset.\n",
    "\n",
    "Dataset хранит информацию о конечном или бесконечном наборе кортежей (tuple) с данными и может возвращать эти наборы по очереди. Например, данными могут быть пары (input, target) для обучения нейросети. С данными можно осуществлять преобразования, которые осуществляются по мере необходимости ([lazy evaluation](https://ru.wikipedia.org/wiki/%D0%9B%D0%B5%D0%BD%D0%B8%D0%B2%D1%8B%D0%B5_%D0%B2%D1%8B%D1%87%D0%B8%D1%81%D0%BB%D0%B5%D0%BD%D0%B8%D1%8F)).\n",
    "\n",
    "`tf.data.Dataset.from_tensor_slices(data)` - создает датасет из данных, которые представляют собой либо массив, либо кортеж из массивов. Деление осуществляется по первому индексу каждого массива. Например, если `data = (np.zeros((128, 256, 256)), np.zeros(128))`, то датасет будет содержать 128 элементов, каждый из которых содержит один массив 256x256 и одно число.\n",
    "\n",
    "`dataset2 = dataset1.map(func)` - применение функции к датасету; функция должна принимать столько аргументов, каков размер кортежа в датасете 1 и возвращать столько, сколько нужно иметь в датасете 2. Пусть, например, датасет содержит изображения и метки, а нам нужно создать датасет только из изображений, тогда мы напишем так: `dataset2 = dataset.map(lambda img, label: img)`.\n",
    "\n",
    "`dataset2 = dataset1.batch(8)` - группировка по батчам; если датасет 2 должен вернуть один элемент, то он берет из датасета 1 восемь элементов, склеивает их (нулевой индекс результата - номер элемента) и возвращает.\n",
    "\n",
    "`dataset.__iter__()` - превращение датасета в итератор, из которого можно получать элементы методом `.__next__()`. Итератор, в отличие от самого датасета, хранит позицию текущего элемента. Можно также перебирать датасет циклом for.\n",
    "\n",
    "`dataset2 = dataset1.repeat(X)` - датасет 2 будет повторять датасет 1 X раз.\n",
    "\n",
    "Если нам нужно взять из датасета 1000 элементов и использовать их как тестовые, а остальные как обучающие, то мы напишем так:\n",
    "\n",
    "`test_dataset = dataset.take(1000)\n",
    "train_dataset = dataset.skip(1000)`\n",
    "\n",
    "Датасет по сути неизменен: такие операции, как map, batch, repeat, take, skip никак не затрагивают оригинальный датасет. Если датасет хранит элементы [1, 2, 3], то выполнив 3 раза подряд функцию dataset.take(1) мы получим 3 новых датасета, каждый из которых вернет число 1. Если же мы выполним функцию dataset.skip(1), мы получим датасет, возвращающий числа [2, 3], но исходный датасет все равно будет возвращать [1, 2, 3] каждый раз, когда мы его перебираем.\n",
    "\n",
    "tf.Dataset всегда выполняется в graph-режиме (в противоположность eager-режиму), поэтому либо преобразования (`.map()`) должны содержать только tensorflow-функции, либо мы должны использовать tf.py_function в качестве обертки для функций, вызываемых в `.map()`. Подробнее можно прочитать [здесь](https://www.tensorflow.org/guide/data#applying_arbitrary_python_logic)."
   ]
  },
  {
   "cell_type": "code",
   "execution_count": null,
   "metadata": {
    "execution": {
     "iopub.execute_input": "2021-07-12T18:33:01.570182Z",
     "iopub.status.busy": "2021-07-12T18:33:01.569819Z",
     "iopub.status.idle": "2021-07-12T18:33:01.582906Z",
     "shell.execute_reply": "2021-07-12T18:33:01.581731Z",
     "shell.execute_reply.started": "2021-07-12T18:33:01.57015Z"
    }
   },
   "outputs": [],
   "source": [
    "data.description[6]"
   ]
  },
  {
   "cell_type": "code",
   "execution_count": null,
   "metadata": {
    "execution": {
     "iopub.execute_input": "2021-07-12T18:33:02.717275Z",
     "iopub.status.busy": "2021-07-12T18:33:02.716918Z",
     "iopub.status.idle": "2021-07-12T18:33:03.913236Z",
     "shell.execute_reply": "2021-07-12T18:33:03.912429Z",
     "shell.execute_reply.started": "2021-07-12T18:33:02.717241Z"
    }
   },
   "outputs": [],
   "source": [
    "# NLP part\n",
    "tokenize = Tokenizer(num_words=MAX_WORDS)\n",
    "tokenize.fit_on_texts(data.description)"
   ]
  },
  {
   "cell_type": "code",
   "execution_count": null,
   "metadata": {
    "execution": {
     "iopub.execute_input": "2021-07-12T18:33:03.98245Z",
     "iopub.status.busy": "2021-07-12T18:33:03.982078Z",
     "iopub.status.idle": "2021-07-12T18:33:09.445291Z",
     "shell.execute_reply": "2021-07-12T18:33:09.444108Z",
     "shell.execute_reply.started": "2021-07-12T18:33:03.982398Z"
    }
   },
   "outputs": [],
   "source": [
    "def process_image(image):\n",
    "    return augmentation(image = image.numpy())['image']\n",
    "\n",
    "def tokenize_(descriptions):\n",
    "    return sequence.pad_sequences(tokenize.texts_to_sequences(descriptions),\n",
    "                                  maxlen = MAX_SEQUENCE_LENGTH)\n",
    "\n",
    "def tokenize_text(text):\n",
    "    return tokenize_([text.numpy().decode('utf-8')])[0]\n",
    "\n",
    "def tf_process_train_dataset_element(image, table_data, text, price):\n",
    "    im_shape = image.shape\n",
    "    [image,] = tf.py_function(process_image, [image], [tf.uint8])\n",
    "    image.set_shape(im_shape)\n",
    "    [text,] = tf.py_function(tokenize_text, [text], [tf.int32])\n",
    "    return (image, table_data, text), price\n",
    "\n",
    "def tf_process_val_dataset_element(image, table_data, text, price):\n",
    "    [text,] = tf.py_function(tokenize_text, [text], [tf.int32])\n",
    "    return (image, table_data, text), price\n",
    "\n",
    "train_dataset = tf.data.Dataset.from_tensor_slices((\n",
    "    images_train, X_train, data.description.iloc[X_train.index], y_train\n",
    "    )).map(tf_process_train_dataset_element)\n",
    "\n",
    "\n",
    "test_dataset = tf.data.Dataset.from_tensor_slices((\n",
    "    images_test, X_test, data.description.iloc[X_test.index], y_test\n",
    "    )).map(tf_process_val_dataset_element)\n",
    "\n",
    "\n",
    "y_sub = np.zeros(len(X_sub))\n",
    "sub_dataset = tf.data.Dataset.from_tensor_slices((\n",
    "    images_sub, X_sub, data.description.iloc[X_sub.index], y_sub\n",
    "    )).map(tf_process_val_dataset_element)\n",
    "\n",
    "\n",
    "#проверяем, что нет ошибок (не будет выброшено исключение):\n",
    "train_dataset.__iter__().__next__();\n",
    "test_dataset.__iter__().__next__();\n",
    "sub_dataset.__iter__().__next__();"
   ]
  },
  {
   "cell_type": "markdown",
   "metadata": {},
   "source": [
    "## Строим сверточную сеть для анализа изображений без \"головы\""
   ]
  },
  {
   "cell_type": "code",
   "execution_count": null,
   "metadata": {
    "execution": {
     "iopub.execute_input": "2021-07-12T18:33:30.018159Z",
     "iopub.status.busy": "2021-07-12T18:33:30.017785Z",
     "iopub.status.idle": "2021-07-12T18:33:35.77912Z",
     "shell.execute_reply": "2021-07-12T18:33:35.777987Z",
     "shell.execute_reply.started": "2021-07-12T18:33:30.018127Z"
    }
   },
   "outputs": [],
   "source": [
    "#нормализация включена в состав модели EfficientNetB3, поэтому на вход она принимает данные типа uint8\n",
    "efficientnet_model = tf.keras.applications.efficientnet.EfficientNetB3(\n",
    "    weights = 'imagenet', include_top = False, input_shape = (size[1], size[0], 3))\n",
    "efficientnet_output = L.GlobalAveragePooling2D()(efficientnet_model.output)"
   ]
  },
  {
   "cell_type": "code",
   "execution_count": null,
   "metadata": {
    "execution": {
     "iopub.execute_input": "2021-07-12T18:33:37.85496Z",
     "iopub.status.busy": "2021-07-12T18:33:37.854591Z",
     "iopub.status.idle": "2021-07-12T18:33:37.910619Z",
     "shell.execute_reply": "2021-07-12T18:33:37.909781Z",
     "shell.execute_reply.started": "2021-07-12T18:33:37.854927Z"
    }
   },
   "outputs": [],
   "source": [
    "#строим нейросеть для анализа табличных данных\n",
    "tabular_model = Sequential([\n",
    "    L.Input(shape = X.shape[1]),\n",
    "    L.Dense(512, activation = 'relu'),\n",
    "    L.Dropout(0.5),\n",
    "    L.Dense(256, activation = 'relu'),\n",
    "    L.Dropout(0.5),\n",
    "    ])"
   ]
  },
  {
   "cell_type": "code",
   "execution_count": null,
   "metadata": {
    "execution": {
     "iopub.execute_input": "2021-07-12T18:33:40.143504Z",
     "iopub.status.busy": "2021-07-12T18:33:40.143106Z",
     "iopub.status.idle": "2021-07-12T18:33:40.982465Z",
     "shell.execute_reply": "2021-07-12T18:33:40.981461Z",
     "shell.execute_reply.started": "2021-07-12T18:33:40.143467Z"
    }
   },
   "outputs": [],
   "source": [
    "# NLP\n",
    "nlp_model = Sequential([\n",
    "    L.Input(shape=MAX_SEQUENCE_LENGTH, name=\"seq_description\"),\n",
    "    L.Embedding(len(tokenize.word_index)+1, MAX_SEQUENCE_LENGTH,),\n",
    "    L.LSTM(256, return_sequences=True),\n",
    "    L.Dropout(0.5),\n",
    "    L.LSTM(128),\n",
    "    L.Dropout(0.25),\n",
    "    L.Dense(64),\n",
    "    ])"
   ]
  },
  {
   "cell_type": "code",
   "execution_count": null,
   "metadata": {
    "_kg_hide-output": true,
    "execution": {
     "iopub.execute_input": "2021-07-12T18:33:42.485632Z",
     "iopub.status.busy": "2021-07-12T18:33:42.485247Z",
     "iopub.status.idle": "2021-07-12T18:33:43.034335Z",
     "shell.execute_reply": "2021-07-12T18:33:43.033266Z",
     "shell.execute_reply.started": "2021-07-12T18:33:42.485597Z"
    }
   },
   "outputs": [],
   "source": [
    "#объединяем выходы трех нейросетей\n",
    "combinedInput = L.concatenate([efficientnet_output, \n",
    "                               tabular_model.output, nlp_model.output])\n",
    "\n",
    "# being our regression head\n",
    "head = L.Dense(256, activation=\"relu\")(combinedInput)\n",
    "head = L.Dense(1,)(head)\n",
    "\n",
    "model = Model(inputs=[efficientnet_model.input, \n",
    "                      tabular_model.input, nlp_model.input], outputs=head)\n",
    "model.summary()"
   ]
  },
  {
   "cell_type": "code",
   "execution_count": null,
   "metadata": {
    "execution": {
     "iopub.execute_input": "2021-07-12T18:33:46.406749Z",
     "iopub.status.busy": "2021-07-12T18:33:46.406317Z",
     "iopub.status.idle": "2021-07-12T18:33:46.443119Z",
     "shell.execute_reply": "2021-07-12T18:33:46.442081Z",
     "shell.execute_reply.started": "2021-07-12T18:33:46.406713Z"
    }
   },
   "outputs": [],
   "source": [
    "optimizer = tf.keras.optimizers.Adam(0.005)\n",
    "model.compile(loss='MAPE',optimizer=optimizer, metrics=['MAPE'])"
   ]
  },
  {
   "cell_type": "code",
   "execution_count": null,
   "metadata": {
    "execution": {
     "iopub.execute_input": "2021-07-12T18:33:49.008135Z",
     "iopub.status.busy": "2021-07-12T18:33:49.007778Z",
     "iopub.status.idle": "2021-07-12T18:33:49.014052Z",
     "shell.execute_reply": "2021-07-12T18:33:49.012858Z",
     "shell.execute_reply.started": "2021-07-12T18:33:49.008102Z"
    }
   },
   "outputs": [],
   "source": [
    "checkpoint = ModelCheckpoint('../working/best_model.hdf5',\n",
    "                             monitor=['val_MAPE'],\n",
    "                             verbose=0, mode='min')\n",
    "earlystop = EarlyStopping(monitor='val_MAPE',\n",
    "                          patience=10, restore_best_weights=True)\n",
    "callbacks_list = [checkpoint, earlystop]"
   ]
  },
  {
   "cell_type": "code",
   "execution_count": null,
   "metadata": {
    "_kg_hide-output": true,
    "execution": {
     "iopub.execute_input": "2021-07-12T18:33:51.287821Z",
     "iopub.status.busy": "2021-07-12T18:33:51.287258Z",
     "iopub.status.idle": "2021-07-12T19:27:05.747295Z",
     "shell.execute_reply": "2021-07-12T19:27:05.746455Z",
     "shell.execute_reply.started": "2021-07-12T18:33:51.287772Z"
    }
   },
   "outputs": [],
   "source": [
    "history = model.fit(train_dataset.batch(30),\n",
    "                    epochs=20,\n",
    "                    validation_data = test_dataset.batch(30),\n",
    "                    callbacks=callbacks_list\n",
    "                   )"
   ]
  },
  {
   "cell_type": "code",
   "execution_count": null,
   "metadata": {
    "execution": {
     "iopub.execute_input": "2021-07-12T19:27:05.751596Z",
     "iopub.status.busy": "2021-07-12T19:27:05.751301Z",
     "iopub.status.idle": "2021-07-12T19:27:05.912489Z",
     "shell.execute_reply": "2021-07-12T19:27:05.911426Z",
     "shell.execute_reply.started": "2021-07-12T19:27:05.751566Z"
    }
   },
   "outputs": [],
   "source": [
    "plt.title('Loss')\n",
    "plt.plot(history.history['MAPE'], label='train')\n",
    "plt.plot(history.history['val_MAPE'], label='test')\n",
    "plt.show();"
   ]
  },
  {
   "cell_type": "code",
   "execution_count": null,
   "metadata": {
    "execution": {
     "iopub.execute_input": "2021-07-12T19:27:05.91461Z",
     "iopub.status.busy": "2021-07-12T19:27:05.914082Z",
     "iopub.status.idle": "2021-07-12T19:27:08.157795Z",
     "shell.execute_reply": "2021-07-12T19:27:08.15684Z",
     "shell.execute_reply.started": "2021-07-12T19:27:05.914566Z"
    }
   },
   "outputs": [],
   "source": [
    "model.load_weights('../working/best_model.hdf5')\n",
    "model.save('../working/nn_final.hdf5')"
   ]
  },
  {
   "cell_type": "code",
   "execution_count": null,
   "metadata": {
    "execution": {
     "iopub.execute_input": "2021-07-12T19:27:08.159506Z",
     "iopub.status.busy": "2021-07-12T19:27:08.159145Z",
     "iopub.status.idle": "2021-07-12T19:27:15.96171Z",
     "shell.execute_reply": "2021-07-12T19:27:15.959872Z",
     "shell.execute_reply.started": "2021-07-12T19:27:08.159466Z"
    }
   },
   "outputs": [],
   "source": [
    "test_predict_nn3 = model.predict(test_dataset.batch(30))\n",
    "print(f\"TEST mape: {(mape(y_test, test_predict_nn3[:,0]))*100:0.2f}%\")"
   ]
  },
  {
   "cell_type": "code",
   "execution_count": null,
   "metadata": {
    "execution": {
     "iopub.execute_input": "2021-07-11T18:29:30.650044Z",
     "iopub.status.busy": "2021-07-11T18:29:30.649702Z",
     "iopub.status.idle": "2021-07-11T18:29:37.077312Z",
     "shell.execute_reply": "2021-07-11T18:29:37.076505Z",
     "shell.execute_reply.started": "2021-07-11T18:29:30.650014Z"
    }
   },
   "outputs": [],
   "source": [
    "sub_predict_nn3 = model.predict(sub_dataset.batch(30))\n",
    "sample_submission['price'] = sub_predict_nn3[:,0]\n",
    "sample_submission.to_csv('nn3_submission.csv', index=False)"
   ]
  },
  {
   "cell_type": "markdown",
   "metadata": {},
   "source": [
    "## Fine tuning"
   ]
  },
  {
   "cell_type": "code",
   "execution_count": null,
   "metadata": {
    "execution": {
     "iopub.execute_input": "2021-07-12T19:37:56.961912Z",
     "iopub.status.busy": "2021-07-12T19:37:56.961482Z",
     "iopub.status.idle": "2021-07-12T19:37:56.970272Z",
     "shell.execute_reply": "2021-07-12T19:37:56.969197Z",
     "shell.execute_reply.started": "2021-07-12T19:37:56.961878Z"
    }
   },
   "outputs": [],
   "source": [
    "print(\"Number of layers in the base model: \", len(model.layers))"
   ]
  },
  {
   "cell_type": "code",
   "execution_count": null,
   "metadata": {
    "execution": {
     "iopub.execute_input": "2021-07-12T19:37:58.229568Z",
     "iopub.status.busy": "2021-07-12T19:37:58.2292Z",
     "iopub.status.idle": "2021-07-12T19:37:58.263581Z",
     "shell.execute_reply": "2021-07-12T19:37:58.262881Z",
     "shell.execute_reply.started": "2021-07-12T19:37:58.229535Z"
    }
   },
   "outputs": [],
   "source": [
    "# возьмем половину слоев у базовой модели\n",
    "model.trainable = True\n",
    "\n",
    "# Точная настройка, начиная с этого слоя\n",
    "fine_tune_at = len(model.layers)//2\n",
    "\n",
    "# Заморозим все слои перед тонкой надстройкой\n",
    "for layer in model.layers[:fine_tune_at]:\n",
    "    layer.trainable =  False"
   ]
  },
  {
   "cell_type": "code",
   "execution_count": null,
   "metadata": {
    "execution": {
     "iopub.execute_input": "2021-07-12T19:37:59.675917Z",
     "iopub.status.busy": "2021-07-12T19:37:59.675599Z",
     "iopub.status.idle": "2021-07-12T19:37:59.685367Z",
     "shell.execute_reply": "2021-07-12T19:37:59.684457Z",
     "shell.execute_reply.started": "2021-07-12T19:37:59.675887Z"
    }
   },
   "outputs": [],
   "source": [
    "len(model.trainable_variables)"
   ]
  },
  {
   "cell_type": "code",
   "execution_count": null,
   "metadata": {
    "execution": {
     "iopub.execute_input": "2021-07-12T19:38:00.83139Z",
     "iopub.status.busy": "2021-07-12T19:38:00.831045Z",
     "iopub.status.idle": "2021-07-12T19:38:00.908441Z",
     "shell.execute_reply": "2021-07-12T19:38:00.907709Z",
     "shell.execute_reply.started": "2021-07-12T19:38:00.831357Z"
    }
   },
   "outputs": [],
   "source": [
    "for layer in model.layers:\n",
    "    print(layer, layer.trainable)"
   ]
  },
  {
   "cell_type": "code",
   "execution_count": null,
   "metadata": {
    "execution": {
     "iopub.execute_input": "2021-07-12T19:38:02.796723Z",
     "iopub.status.busy": "2021-07-12T19:38:02.796355Z",
     "iopub.status.idle": "2021-07-12T19:38:02.854865Z",
     "shell.execute_reply": "2021-07-12T19:38:02.854125Z",
     "shell.execute_reply.started": "2021-07-12T19:38:02.79669Z"
    }
   },
   "outputs": [],
   "source": [
    "optimizer = tf.keras.optimizers.Adam(0.0005)\n",
    "model.compile(loss='MAPE',optimizer=optimizer, metrics=['MAPE'])"
   ]
  },
  {
   "cell_type": "code",
   "execution_count": null,
   "metadata": {
    "execution": {
     "iopub.execute_input": "2021-07-11T18:29:42.384704Z",
     "iopub.status.busy": "2021-07-11T18:29:42.384371Z",
     "iopub.status.idle": "2021-07-11T18:29:42.389946Z",
     "shell.execute_reply": "2021-07-11T18:29:42.388968Z",
     "shell.execute_reply.started": "2021-07-11T18:29:42.384674Z"
    }
   },
   "outputs": [],
   "source": [
    "checkpoint = ModelCheckpoint('../working/best_model.hdf5',\n",
    "                             monitor=['val_MAPE'], \n",
    "                             verbose=0, mode='min')\n",
    "earlystop = EarlyStopping(monitor='val_MAPE', \n",
    "                          patience=10, \n",
    "                          restore_best_weights=True,)\n",
    "callbacks_list = [checkpoint, earlystop]"
   ]
  },
  {
   "cell_type": "code",
   "execution_count": null,
   "metadata": {
    "execution": {
     "iopub.execute_input": "2021-07-11T18:29:43.491809Z",
     "iopub.status.busy": "2021-07-11T18:29:43.491497Z",
     "iopub.status.idle": "2021-07-11T18:29:44.588164Z",
     "shell.execute_reply": "2021-07-11T18:29:44.587362Z",
     "shell.execute_reply.started": "2021-07-11T18:29:43.491782Z"
    }
   },
   "outputs": [],
   "source": [
    "train_dataset = tf.data.Dataset.from_tensor_slices((\n",
    "    images_train, X_train, data.description.iloc[X_train.index], y_train\n",
    "    )).map(tf_process_train_dataset_element)"
   ]
  },
  {
   "cell_type": "code",
   "execution_count": null,
   "metadata": {
    "execution": {
     "iopub.execute_input": "2021-07-11T18:29:44.734951Z",
     "iopub.status.busy": "2021-07-11T18:29:44.734623Z",
     "iopub.status.idle": "2021-07-11T18:57:34.949278Z",
     "shell.execute_reply": "2021-07-11T18:57:34.948444Z",
     "shell.execute_reply.started": "2021-07-11T18:29:44.73492Z"
    }
   },
   "outputs": [],
   "source": [
    "history = model.fit(train_dataset.batch(30),\n",
    "                    epochs=20,\n",
    "                    validation_data = test_dataset.batch(30),\n",
    "                    callbacks=callbacks_list\n",
    "                   )"
   ]
  },
  {
   "cell_type": "code",
   "execution_count": null,
   "metadata": {
    "execution": {
     "iopub.execute_input": "2021-07-11T18:57:34.951873Z",
     "iopub.status.busy": "2021-07-11T18:57:34.951428Z",
     "iopub.status.idle": "2021-07-11T18:57:35.089637Z",
     "shell.execute_reply": "2021-07-11T18:57:35.088763Z",
     "shell.execute_reply.started": "2021-07-11T18:57:34.95183Z"
    }
   },
   "outputs": [],
   "source": [
    "plt.title('Loss')\n",
    "plt.plot(history.history['MAPE'], label='train')\n",
    "plt.plot(history.history['val_MAPE'], label='test')\n",
    "plt.show();"
   ]
  },
  {
   "cell_type": "code",
   "execution_count": null,
   "metadata": {
    "execution": {
     "iopub.execute_input": "2021-07-11T18:57:35.091705Z",
     "iopub.status.busy": "2021-07-11T18:57:35.091343Z",
     "iopub.status.idle": "2021-07-11T18:57:36.723174Z",
     "shell.execute_reply": "2021-07-11T18:57:36.722371Z",
     "shell.execute_reply.started": "2021-07-11T18:57:35.091667Z"
    }
   },
   "outputs": [],
   "source": [
    "model.load_weights('../working/best_model.hdf5')\n",
    "model.save('../working/nn_final.hdf5')"
   ]
  },
  {
   "cell_type": "code",
   "execution_count": null,
   "metadata": {
    "execution": {
     "iopub.execute_input": "2021-07-11T18:57:36.725988Z",
     "iopub.status.busy": "2021-07-11T18:57:36.725686Z",
     "iopub.status.idle": "2021-07-11T18:57:42.809333Z",
     "shell.execute_reply": "2021-07-11T18:57:42.808548Z",
     "shell.execute_reply.started": "2021-07-11T18:57:36.725958Z"
    }
   },
   "outputs": [],
   "source": [
    "test_predict_nn3 = model.predict(test_dataset.batch(30))\n",
    "print(f\"TEST mape: {(mape(y_test, test_predict_nn3[:,0]))*100:0.2f}%\")"
   ]
  },
  {
   "cell_type": "code",
   "execution_count": null,
   "metadata": {
    "execution": {
     "iopub.execute_input": "2021-07-11T19:53:34.7157Z",
     "iopub.status.busy": "2021-07-11T19:53:34.715435Z",
     "iopub.status.idle": "2021-07-11T19:53:34.729495Z",
     "shell.execute_reply": "2021-07-11T19:53:34.728209Z",
     "shell.execute_reply.started": "2021-07-11T19:53:34.715672Z"
    }
   },
   "outputs": [],
   "source": [
    "model.trainable = True\n",
    "\n",
    "fine_tune_at = 100\n",
    "\n",
    "for layer in model.layers[:fine_tune_at]:\n",
    "    layer.trainable =  False\n",
    "\n",
    "len(model.trainable_variables)"
   ]
  },
  {
   "cell_type": "code",
   "execution_count": null,
   "metadata": {
    "execution": {
     "iopub.execute_input": "2021-07-11T19:53:34.832264Z",
     "iopub.status.busy": "2021-07-11T19:53:34.831953Z",
     "iopub.status.idle": "2021-07-11T19:53:34.845446Z",
     "shell.execute_reply": "2021-07-11T19:53:34.843956Z",
     "shell.execute_reply.started": "2021-07-11T19:53:34.832234Z"
    }
   },
   "outputs": [],
   "source": [
    "optimizer = tf.keras.optimizers.Adam(0.0001)\n",
    "model.compile(loss='MAPE',optimizer=optimizer, metrics=['MAPE'])"
   ]
  },
  {
   "cell_type": "code",
   "execution_count": null,
   "metadata": {
    "execution": {
     "iopub.execute_input": "2021-07-10T15:36:28.309166Z",
     "iopub.status.busy": "2021-07-10T15:36:28.308843Z",
     "iopub.status.idle": "2021-07-10T15:36:28.315438Z",
     "shell.execute_reply": "2021-07-10T15:36:28.314578Z",
     "shell.execute_reply.started": "2021-07-10T15:36:28.309134Z"
    }
   },
   "outputs": [],
   "source": [
    "checkpoint = ModelCheckpoint('../working/best_model.hdf5',\n",
    "                             monitor=['val_MAPE'],\n",
    "                             verbose=0, mode='min')\n",
    "earlystop = EarlyStopping(monitor='val_MAPE', \n",
    "                          patience=10, restore_best_weights=True,)\n",
    "callbacks_list = [checkpoint, earlystop]"
   ]
  },
  {
   "cell_type": "code",
   "execution_count": null,
   "metadata": {
    "execution": {
     "iopub.execute_input": "2021-07-10T15:36:29.698776Z",
     "iopub.status.busy": "2021-07-10T15:36:29.698416Z",
     "iopub.status.idle": "2021-07-10T15:36:30.798879Z",
     "shell.execute_reply": "2021-07-10T15:36:30.797998Z",
     "shell.execute_reply.started": "2021-07-10T15:36:29.698745Z"
    }
   },
   "outputs": [],
   "source": [
    "train_dataset = tf.data.Dataset.from_tensor_slices((\n",
    "    images_train, X_train, data.description.iloc[X_train.index], y_train\n",
    "    )).map(tf_process_train_dataset_element)"
   ]
  },
  {
   "cell_type": "code",
   "execution_count": null,
   "metadata": {
    "execution": {
     "iopub.execute_input": "2021-07-10T15:36:33.404802Z",
     "iopub.status.busy": "2021-07-10T15:36:33.404456Z",
     "iopub.status.idle": "2021-07-10T16:28:24.886266Z",
     "shell.execute_reply": "2021-07-10T16:28:24.885445Z",
     "shell.execute_reply.started": "2021-07-10T15:36:33.40477Z"
    }
   },
   "outputs": [],
   "source": [
    "history = model.fit(train_dataset.batch(15),\n",
    "                    epochs=25,\n",
    "                    validation_data = test_dataset.batch(15),\n",
    "                    callbacks=callbacks_list\n",
    "                   )"
   ]
  },
  {
   "cell_type": "code",
   "execution_count": null,
   "metadata": {
    "execution": {
     "iopub.execute_input": "2021-07-10T16:28:24.88918Z",
     "iopub.status.busy": "2021-07-10T16:28:24.888821Z",
     "iopub.status.idle": "2021-07-10T16:28:25.103937Z",
     "shell.execute_reply": "2021-07-10T16:28:25.100683Z",
     "shell.execute_reply.started": "2021-07-10T16:28:24.889141Z"
    }
   },
   "outputs": [],
   "source": [
    "plt.title('Loss')\n",
    "plt.plot(history.history['MAPE'], label='train')\n",
    "plt.plot(history.history['val_MAPE'], label='test')\n",
    "plt.show();"
   ]
  },
  {
   "cell_type": "code",
   "execution_count": null,
   "metadata": {
    "execution": {
     "iopub.execute_input": "2021-07-10T16:28:25.110551Z",
     "iopub.status.busy": "2021-07-10T16:28:25.108278Z",
     "iopub.status.idle": "2021-07-10T16:28:27.207951Z",
     "shell.execute_reply": "2021-07-10T16:28:27.206931Z",
     "shell.execute_reply.started": "2021-07-10T16:28:25.110445Z"
    }
   },
   "outputs": [],
   "source": [
    "model.load_weights('../working/best_model.hdf5')\n",
    "model.save('../working/nn_final.hdf5')"
   ]
  },
  {
   "cell_type": "code",
   "execution_count": null,
   "metadata": {
    "execution": {
     "iopub.execute_input": "2021-07-10T16:28:27.212281Z",
     "iopub.status.busy": "2021-07-10T16:28:27.212012Z",
     "iopub.status.idle": "2021-07-10T16:28:33.878269Z",
     "shell.execute_reply": "2021-07-10T16:28:33.877323Z",
     "shell.execute_reply.started": "2021-07-10T16:28:27.212255Z"
    }
   },
   "outputs": [],
   "source": [
    "test_predict_nn3 = model.predict(test_dataset.batch(15))\n",
    "print(f\"TEST mape: {(mape(y_test, test_predict_nn3[:,0]))*100:0.2f}%\")"
   ]
  },
  {
   "cell_type": "code",
   "execution_count": null,
   "metadata": {
    "execution": {
     "iopub.execute_input": "2021-07-10T16:28:41.450939Z",
     "iopub.status.busy": "2021-07-10T16:28:41.45059Z",
     "iopub.status.idle": "2021-07-10T16:28:48.779197Z",
     "shell.execute_reply": "2021-07-10T16:28:48.778392Z",
     "shell.execute_reply.started": "2021-07-10T16:28:41.450905Z"
    }
   },
   "outputs": [],
   "source": [
    "sub_predict_nn3 = model.predict(sub_dataset.batch(15))\n",
    "sample_submission['price'] = sub_predict_nn3[:,0]\n",
    "sample_submission.to_csv('nn3_submission.csv', index=False)"
   ]
  },
  {
   "cell_type": "markdown",
   "metadata": {},
   "source": [
    "### Выводы:\n",
    "* CV показала результат лучше наивной модели, но хуже CatboostRegressor\n",
    "* Можно было бы еще попробовать другие методы обучения (transfer-learning, LR-Cycle))\n",
    "* Проведена следующая работа для улучшения модели:\n",
    "    1. Аугментация\n",
    "    2. Использован Fine-tuning\n",
    "    3. Использовалась сеть EfficientNetB4, которая показал результат хуже EfficientNetB3."
   ]
  },
  {
   "cell_type": "markdown",
   "metadata": {},
   "source": [
    "# Blend"
   ]
  },
  {
   "cell_type": "code",
   "execution_count": null,
   "metadata": {
    "execution": {
     "iopub.execute_input": "2021-07-11T13:06:00.316807Z",
     "iopub.status.busy": "2021-07-11T13:06:00.316437Z",
     "iopub.status.idle": "2021-07-11T13:06:00.32542Z",
     "shell.execute_reply": "2021-07-11T13:06:00.321991Z",
     "shell.execute_reply.started": "2021-07-11T13:06:00.316774Z"
    }
   },
   "outputs": [],
   "source": [
    "blend_predict = (test_predict_catboost + test_predict_nn3[:,0]) / 2\n",
    "print(f\"TEST mape: {(mape(y_test, blend_predict))*100:0.2f}%\")"
   ]
  },
  {
   "cell_type": "code",
   "execution_count": null,
   "metadata": {
    "execution": {
     "iopub.execute_input": "2021-07-10T16:28:59.551128Z",
     "iopub.status.busy": "2021-07-10T16:28:59.550791Z",
     "iopub.status.idle": "2021-07-10T16:28:59.566881Z",
     "shell.execute_reply": "2021-07-10T16:28:59.566194Z",
     "shell.execute_reply.started": "2021-07-10T16:28:59.551094Z"
    }
   },
   "outputs": [],
   "source": [
    "blend_sub_predict = (sub_predict_catboost + sub_predict_nn3[:,0]) / 2\n",
    "sample_submission['price'] = blend_sub_predict\n",
    "sample_submission.to_csv('blend_submission.csv', index=False)"
   ]
  },
  {
   "cell_type": "markdown",
   "metadata": {},
   "source": [
    "# Model Bonus: проброс признака"
   ]
  },
  {
   "cell_type": "code",
   "execution_count": null,
   "metadata": {
    "execution": {
     "iopub.execute_input": "2021-07-10T16:29:02.689636Z",
     "iopub.status.busy": "2021-07-10T16:29:02.689127Z",
     "iopub.status.idle": "2021-07-10T16:29:02.743352Z",
     "shell.execute_reply": "2021-07-10T16:29:02.74236Z",
     "shell.execute_reply.started": "2021-07-10T16:29:02.689573Z"
    }
   },
   "outputs": [],
   "source": [
    "# MLP\n",
    "model_mlp = Sequential()\n",
    "model_mlp.add(L.Dense(512, input_dim=X_train.shape[1], activation=\"relu\"))\n",
    "model_mlp.add(L.Dropout(0.5))\n",
    "model_mlp.add(L.Dense(256, activation=\"relu\"))\n",
    "model_mlp.add(L.Dropout(0.5))"
   ]
  },
  {
   "cell_type": "code",
   "execution_count": null,
   "metadata": {
    "execution": {
     "iopub.execute_input": "2021-07-10T16:29:04.179178Z",
     "iopub.status.busy": "2021-07-10T16:29:04.178855Z",
     "iopub.status.idle": "2021-07-10T16:29:04.200551Z",
     "shell.execute_reply": "2021-07-10T16:29:04.19986Z",
     "shell.execute_reply.started": "2021-07-10T16:29:04.179144Z"
    }
   },
   "outputs": [],
   "source": [
    "# FEATURE Input\n",
    "# Iput\n",
    "productiondate = L.Input(shape=[1], name=\"productiondate\")\n",
    "# Embeddings layers\n",
    "emb_productiondate = L.Embedding(len(X.productionDate.unique().tolist())+1, 20)(productiondate)\n",
    "f_productiondate = L.Flatten()(emb_productiondate)"
   ]
  },
  {
   "cell_type": "code",
   "execution_count": null,
   "metadata": {
    "execution": {
     "iopub.execute_input": "2021-07-10T16:29:05.189846Z",
     "iopub.status.busy": "2021-07-10T16:29:05.189532Z",
     "iopub.status.idle": "2021-07-10T16:29:05.220125Z",
     "shell.execute_reply": "2021-07-10T16:29:05.219368Z",
     "shell.execute_reply.started": "2021-07-10T16:29:05.189811Z"
    }
   },
   "outputs": [],
   "source": [
    "combinedInput = L.concatenate([model_mlp.output, f_productiondate,])\n",
    "# being our regression head\n",
    "head = L.Dense(64, activation=\"relu\")(combinedInput)\n",
    "head = L.Dense(1, activation=\"linear\")(head)\n",
    "\n",
    "model = Model(inputs=[model_mlp.input, productiondate], outputs=head)"
   ]
  },
  {
   "cell_type": "code",
   "execution_count": null,
   "metadata": {
    "_kg_hide-output": true,
    "execution": {
     "iopub.execute_input": "2021-07-10T16:29:06.998776Z",
     "iopub.status.busy": "2021-07-10T16:29:06.998447Z",
     "iopub.status.idle": "2021-07-10T16:29:07.008857Z",
     "shell.execute_reply": "2021-07-10T16:29:07.00766Z",
     "shell.execute_reply.started": "2021-07-10T16:29:06.998745Z"
    }
   },
   "outputs": [],
   "source": [
    "model.summary()"
   ]
  },
  {
   "cell_type": "code",
   "execution_count": null,
   "metadata": {
    "execution": {
     "iopub.execute_input": "2021-07-10T16:29:08.077231Z",
     "iopub.status.busy": "2021-07-10T16:29:08.076864Z",
     "iopub.status.idle": "2021-07-10T16:29:08.099507Z",
     "shell.execute_reply": "2021-07-10T16:29:08.098522Z",
     "shell.execute_reply.started": "2021-07-10T16:29:08.077196Z"
    }
   },
   "outputs": [],
   "source": [
    "optimizer = tf.keras.optimizers.Adam(0.01)\n",
    "model.compile(loss='MAPE',optimizer=optimizer, metrics=['MAPE'])"
   ]
  },
  {
   "cell_type": "code",
   "execution_count": null,
   "metadata": {
    "execution": {
     "iopub.execute_input": "2021-07-10T16:29:09.455204Z",
     "iopub.status.busy": "2021-07-10T16:29:09.454871Z",
     "iopub.status.idle": "2021-07-10T16:29:09.461153Z",
     "shell.execute_reply": "2021-07-10T16:29:09.460204Z",
     "shell.execute_reply.started": "2021-07-10T16:29:09.455172Z"
    }
   },
   "outputs": [],
   "source": [
    "checkpoint = ModelCheckpoint('../working/best_model.hdf5',\n",
    "                             monitor=['val_MAPE'],\n",
    "                             verbose=0, mode='min')\n",
    "earlystop = EarlyStopping(monitor='val_MAPE',\n",
    "                          patience=50,\n",
    "                          restore_best_weights=True,)\n",
    "callbacks_list = [checkpoint, earlystop]"
   ]
  },
  {
   "cell_type": "code",
   "execution_count": null,
   "metadata": {
    "execution": {
     "iopub.execute_input": "2021-07-10T16:29:11.539824Z",
     "iopub.status.busy": "2021-07-10T16:29:11.539464Z",
     "iopub.status.idle": "2021-07-10T16:30:19.212084Z",
     "shell.execute_reply": "2021-07-10T16:30:19.211307Z",
     "shell.execute_reply.started": "2021-07-10T16:29:11.539792Z"
    }
   },
   "outputs": [],
   "source": [
    "history = model.fit([X_train, X_train.productionDate.values], y_train,\n",
    "                    batch_size=512,\n",
    "                    epochs=500, # фактически мы обучаем пока EarlyStopping не остановит обучение\n",
    "                    validation_data=([X_test, X_test.productionDate.values], y_test),\n",
    "                    callbacks=callbacks_list\n",
    "                   )"
   ]
  },
  {
   "cell_type": "code",
   "execution_count": null,
   "metadata": {
    "execution": {
     "iopub.execute_input": "2021-07-10T16:30:48.175247Z",
     "iopub.status.busy": "2021-07-10T16:30:48.174767Z",
     "iopub.status.idle": "2021-07-10T16:30:48.368049Z",
     "shell.execute_reply": "2021-07-10T16:30:48.367101Z",
     "shell.execute_reply.started": "2021-07-10T16:30:48.175196Z"
    }
   },
   "outputs": [],
   "source": [
    "model.load_weights('../working/best_model.hdf5')\n",
    "test_predict_nn_bonus = model.predict([X_test, X_test.productionDate.values])\n",
    "print(f\"TEST mape: {(mape(y_test, test_predict_nn_bonus[:,0]))*100:0.2f}%\")"
   ]
  },
  {
   "cell_type": "markdown",
   "metadata": {},
   "source": [
    "## Заключение:\n",
    "\n",
    "### Tabular\n",
    "1. В нейросеть подаются данные с распределением, близким к нормальному. Создан признак modelDateNorm = np.log(2020 - data['modelDate']).\n",
    "2. Обработан признак 'mileage' - возведен в степень 0.5. \n",
    "3. Извлечение числовых значений из текста: Парсинг признаков 'engineDisplacement', 'enginePower', 'Владение' для извлечения числовых значений.\n",
    "4. Cокращение размерности признака 'name'. Удалены данные, которые уже есть в других столбцах ('enginePower', 'engineDisplacement', 'vehicleTransmission').\n",
    "5. Выделено наличие xDrive в качестве отдельного признака.\n",
    "6. Проведена обработка признака 'vehicleConfiguration' с токенизацией и выделением основных значений.\n",
    "\n",
    "### NLP\n",
    "1. Из описания выделены наиболее часто встречающиеся выражения и заменены на кодовые слова\n",
    "2. Проведена редобработка текста с лемматизацией и стеммнигом.\n",
    "3. Предаврительно создан алгоритм очистки и аугментации текста.\n",
    "\n",
    "### CV\n",
    "1. Проведены различные аугментации\n",
    "2. Использован Fine-tuning"
   ]
  },
  {
   "cell_type": "code",
   "execution_count": null,
   "metadata": {},
   "outputs": [],
   "source": []
  },
  {
   "cell_type": "code",
   "execution_count": null,
   "metadata": {},
   "outputs": [],
   "source": []
  }
 ],
 "metadata": {
  "kernelspec": {
   "display_name": "Python 3",
   "language": "python",
   "name": "python3"
  },
  "language_info": {
   "codemirror_mode": {
    "name": "ipython",
    "version": 3
   },
   "file_extension": ".py",
   "mimetype": "text/x-python",
   "name": "python",
   "nbconvert_exporter": "python",
   "pygments_lexer": "ipython3",
   "version": "3.8.8"
  },
  "toc": {
   "base_numbering": 1,
   "nav_menu": {},
   "number_sections": true,
   "sideBar": true,
   "skip_h1_title": false,
   "title_cell": "Table of Contents",
   "title_sidebar": "Contents",
   "toc_cell": false,
   "toc_position": {},
   "toc_section_display": true,
   "toc_window_display": false
  },
  "varInspector": {
   "cols": {
    "lenName": 16,
    "lenType": 16,
    "lenVar": 40
   },
   "kernels_config": {
    "python": {
     "delete_cmd_postfix": "",
     "delete_cmd_prefix": "del ",
     "library": "var_list.py",
     "varRefreshCmd": "print(var_dic_list())"
    },
    "r": {
     "delete_cmd_postfix": ") ",
     "delete_cmd_prefix": "rm(",
     "library": "var_list.r",
     "varRefreshCmd": "cat(var_dic_list()) "
    }
   },
   "types_to_exclude": [
    "module",
    "function",
    "builtin_function_or_method",
    "instance",
    "_Feature"
   ],
   "window_display": false
  }
 },
 "nbformat": 4,
 "nbformat_minor": 4
}
