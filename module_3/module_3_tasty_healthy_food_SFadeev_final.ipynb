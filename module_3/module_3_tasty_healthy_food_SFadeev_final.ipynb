{
 "cells": [
  {
   "cell_type": "markdown",
   "metadata": {},
   "source": [
    "# Pandas loading and data cleaning"
   ]
  },
  {
   "cell_type": "code",
   "execution_count": 1,
   "metadata": {},
   "outputs": [],
   "source": [
    "import numpy as np\n",
    "import pandas as pd\n",
    "import datetime as dt\n",
    "from datetime import datetime, timedelta\n",
    "\n",
    "import matplotlib.pyplot as plt\n",
    "import seaborn as sns\n",
    "from collections import Counter\n",
    "import re\n",
    "\n",
    "from itertools import combinations\n",
    "from scipy.stats import ttest_ind\n",
    "\n",
    "sns.set(style=\"darkgrid\")\n",
    "pd.set_option('display.max_rows', 50)\n",
    "pd.set_option('display.max_columns', 50)\n",
    "\n",
    "import warnings\n",
    "warnings.filterwarnings(\"ignore\")"
   ]
  },
  {
   "cell_type": "code",
   "execution_count": 2,
   "metadata": {},
   "outputs": [],
   "source": [
    "df = pd.read_csv('main_task.csv')"
   ]
  },
  {
   "cell_type": "markdown",
   "metadata": {},
   "source": [
    "Adding external data "
   ]
  },
  {
   "cell_type": "code",
   "execution_count": 3,
   "metadata": {},
   "outputs": [
    {
     "data": {
      "text/html": [
       "<div>\n",
       "<style scoped>\n",
       "    .dataframe tbody tr th:only-of-type {\n",
       "        vertical-align: middle;\n",
       "    }\n",
       "\n",
       "    .dataframe tbody tr th {\n",
       "        vertical-align: top;\n",
       "    }\n",
       "\n",
       "    .dataframe thead th {\n",
       "        text-align: right;\n",
       "    }\n",
       "</style>\n",
       "<table border=\"1\" class=\"dataframe\">\n",
       "  <thead>\n",
       "    <tr style=\"text-align: right;\">\n",
       "      <th></th>\n",
       "      <th>Country</th>\n",
       "      <th>City</th>\n",
       "      <th>AccentCity</th>\n",
       "      <th>Region</th>\n",
       "      <th>Population</th>\n",
       "      <th>Latitude</th>\n",
       "      <th>Longitude</th>\n",
       "    </tr>\n",
       "  </thead>\n",
       "  <tbody>\n",
       "    <tr>\n",
       "      <th>2677474</th>\n",
       "      <td>sy</td>\n",
       "      <td>qadmus</td>\n",
       "      <td>Qadmus</td>\n",
       "      <td>14</td>\n",
       "      <td>NaN</td>\n",
       "      <td>35.083333</td>\n",
       "      <td>36.166667</td>\n",
       "    </tr>\n",
       "    <tr>\n",
       "      <th>660509</th>\n",
       "      <td>co</td>\n",
       "      <td>buenavista</td>\n",
       "      <td>Buenavista</td>\n",
       "      <td>2</td>\n",
       "      <td>NaN</td>\n",
       "      <td>6.909444</td>\n",
       "      <td>-76.034722</td>\n",
       "    </tr>\n",
       "    <tr>\n",
       "      <th>1107933</th>\n",
       "      <td>ht</td>\n",
       "      <td>gros mangle</td>\n",
       "      <td>Gros Mangle</td>\n",
       "      <td>11</td>\n",
       "      <td>NaN</td>\n",
       "      <td>18.933333</td>\n",
       "      <td>-73.116667</td>\n",
       "    </tr>\n",
       "    <tr>\n",
       "      <th>1429666</th>\n",
       "      <td>ir</td>\n",
       "      <td>jabrani-ye bala</td>\n",
       "      <td>Jabrani-ye Bala</td>\n",
       "      <td>22</td>\n",
       "      <td>NaN</td>\n",
       "      <td>27.852100</td>\n",
       "      <td>51.802500</td>\n",
       "    </tr>\n",
       "    <tr>\n",
       "      <th>2253360</th>\n",
       "      <td>pl</td>\n",
       "      <td>geigenau</td>\n",
       "      <td>Geigenau</td>\n",
       "      <td>85</td>\n",
       "      <td>NaN</td>\n",
       "      <td>53.782450</td>\n",
       "      <td>22.689319</td>\n",
       "    </tr>\n",
       "  </tbody>\n",
       "</table>\n",
       "</div>"
      ],
      "text/plain": [
       "        Country             City       AccentCity Region  Population  \\\n",
       "2677474      sy           qadmus           Qadmus     14         NaN   \n",
       "660509       co       buenavista       Buenavista      2         NaN   \n",
       "1107933      ht      gros mangle      Gros Mangle     11         NaN   \n",
       "1429666      ir  jabrani-ye bala  Jabrani-ye Bala     22         NaN   \n",
       "2253360      pl         geigenau         Geigenau     85         NaN   \n",
       "\n",
       "          Latitude  Longitude  \n",
       "2677474  35.083333  36.166667  \n",
       "660509    6.909444 -76.034722  \n",
       "1107933  18.933333 -73.116667  \n",
       "1429666  27.852100  51.802500  \n",
       "2253360  53.782450  22.689319  "
      ]
     },
     "execution_count": 3,
     "metadata": {},
     "output_type": "execute_result"
    }
   ],
   "source": [
    "# Cities created by MaxMind, available from http://www.maxmind.com/\n",
    "cities = pd.read_csv('worldcitiespop.csv')\n",
    "cities.sample(5)"
   ]
  },
  {
   "cell_type": "code",
   "execution_count": 4,
   "metadata": {},
   "outputs": [],
   "source": [
    "# list of positive words\n",
    "df_pos_words = pd.read_csv('positive_words.txt',skiprows=34, names=['word'])\n",
    "pos_words_list = df_pos_words['word'].to_list()"
   ]
  },
  {
   "cell_type": "markdown",
   "metadata": {},
   "source": [
    "## Dataset Features:\n",
    "\n",
    "- City: name of city\n",
    "- Cuisine Style: type of cuisine\n",
    "- Ranking: Restaurant rank realting ot other restaurants in that city\n",
    "- Price Range: prices in the restaurant in three catogories\n",
    "- Number of Reviews: total number of reviews\n",
    "- Reviews: two last reviews with dates of reviews\n",
    "- URL_TA: website of the restaurant at 'www.tripadvisor.com'\n",
    "- ID_TA: ID of the restaurant at TripAdvisor\n",
    "- Rating: restaurant rating"
   ]
  },
  {
   "cell_type": "markdown",
   "metadata": {},
   "source": [
    "NaNs for every column in the set"
   ]
  },
  {
   "cell_type": "code",
   "execution_count": 5,
   "metadata": {},
   "outputs": [
    {
     "name": "stdout",
     "output_type": "stream",
     "text": [
      "Restaurant_id 0.0%\n",
      "City 0.0%\n",
      "Cuisine Style 23.21%\n",
      "Ranking 0.0%\n",
      "Rating 0.0%\n",
      "Price Range 34.72%\n",
      "Number of Reviews 6.36%\n",
      "Reviews 0.0%\n",
      "URL_TA 0.0%\n",
      "ID_TA 0.0%\n"
     ]
    }
   ],
   "source": [
    "for col in df.columns:\n",
    "    print(col, str(round(100 * df[col].isnull().sum() / len(df), 2)) + '%')"
   ]
  },
  {
   "cell_type": "code",
   "execution_count": 6,
   "metadata": {},
   "outputs": [],
   "source": [
    "# changing name of columns for convinience\n",
    "df = df.rename(\n",
    "    columns={\n",
    "        \"Restaurant_id\": \"rest_id\",\n",
    "        \"City\": \"city\",\n",
    "        \"Cuisine Style\": \"cuisine_style\",\n",
    "        \"Price Range\": \"price_range\",\n",
    "        \"Reviews\": \"reviews\",\n",
    "        \"Ranking\": \"ranking\",\n",
    "        \"Rating\": \"rating\",\n",
    "        \"Number of Reviews\": \"num_of_reviews\"\n",
    "    })"
   ]
  },
  {
   "cell_type": "code",
   "execution_count": 7,
   "metadata": {},
   "outputs": [
    {
     "data": {
      "text/html": [
       "<div>\n",
       "<style scoped>\n",
       "    .dataframe tbody tr th:only-of-type {\n",
       "        vertical-align: middle;\n",
       "    }\n",
       "\n",
       "    .dataframe tbody tr th {\n",
       "        vertical-align: top;\n",
       "    }\n",
       "\n",
       "    .dataframe thead th {\n",
       "        text-align: right;\n",
       "    }\n",
       "</style>\n",
       "<table border=\"1\" class=\"dataframe\">\n",
       "  <thead>\n",
       "    <tr style=\"text-align: right;\">\n",
       "      <th></th>\n",
       "      <th>rest_id</th>\n",
       "      <th>city</th>\n",
       "      <th>cuisine_style</th>\n",
       "      <th>ranking</th>\n",
       "      <th>rating</th>\n",
       "      <th>price_range</th>\n",
       "      <th>num_of_reviews</th>\n",
       "      <th>reviews</th>\n",
       "      <th>URL_TA</th>\n",
       "      <th>ID_TA</th>\n",
       "    </tr>\n",
       "  </thead>\n",
       "  <tbody>\n",
       "    <tr>\n",
       "      <th>38625</th>\n",
       "      <td>id_2537</td>\n",
       "      <td>Paris</td>\n",
       "      <td>['French', 'European']</td>\n",
       "      <td>2538.0</td>\n",
       "      <td>4.0</td>\n",
       "      <td>$</td>\n",
       "      <td>92.0</td>\n",
       "      <td>[['Better Late Than Never', 'Taking and giving...</td>\n",
       "      <td>/Restaurant_Review-g187147-d4089279-Reviews-Fo...</td>\n",
       "      <td>d4089279</td>\n",
       "    </tr>\n",
       "    <tr>\n",
       "      <th>551</th>\n",
       "      <td>id_1639</td>\n",
       "      <td>Berlin</td>\n",
       "      <td>['Cafe', 'European', 'Vegetarian Friendly', 'V...</td>\n",
       "      <td>1641.0</td>\n",
       "      <td>4.0</td>\n",
       "      <td>$</td>\n",
       "      <td>64.0</td>\n",
       "      <td>[['Nice cafe', 'Very nice breakfast'], ['12/26...</td>\n",
       "      <td>/Restaurant_Review-g187323-d6494498-Reviews-Be...</td>\n",
       "      <td>d6494498</td>\n",
       "    </tr>\n",
       "    <tr>\n",
       "      <th>11214</th>\n",
       "      <td>id_3023</td>\n",
       "      <td>Paris</td>\n",
       "      <td>['French', 'Cafe', 'Barbecue', 'Contemporary',...</td>\n",
       "      <td>3024.0</td>\n",
       "      <td>5.0</td>\n",
       "      <td>$$ - $$$</td>\n",
       "      <td>17.0</td>\n",
       "      <td>[['awesome experience', 'Really good'], ['12/1...</td>\n",
       "      <td>/Restaurant_Review-g187147-d12242250-Reviews-B...</td>\n",
       "      <td>d12242250</td>\n",
       "    </tr>\n",
       "    <tr>\n",
       "      <th>18856</th>\n",
       "      <td>id_2281</td>\n",
       "      <td>Prague</td>\n",
       "      <td>['Cafe']</td>\n",
       "      <td>2286.0</td>\n",
       "      <td>4.5</td>\n",
       "      <td>NaN</td>\n",
       "      <td>2.0</td>\n",
       "      <td>[['Good Food'], ['01/28/2017']]</td>\n",
       "      <td>/Restaurant_Review-g274707-d7124492-Reviews-Mo...</td>\n",
       "      <td>d7124492</td>\n",
       "    </tr>\n",
       "    <tr>\n",
       "      <th>9071</th>\n",
       "      <td>id_557</td>\n",
       "      <td>Madrid</td>\n",
       "      <td>['Mediterranean', 'Spanish', 'Grill']</td>\n",
       "      <td>558.0</td>\n",
       "      <td>4.5</td>\n",
       "      <td>$$ - $$$</td>\n",
       "      <td>200.0</td>\n",
       "      <td>[['A beautiful authentic spanish restaurant', ...</td>\n",
       "      <td>/Restaurant_Review-g187514-d3609685-Reviews-Ca...</td>\n",
       "      <td>d3609685</td>\n",
       "    </tr>\n",
       "  </tbody>\n",
       "</table>\n",
       "</div>"
      ],
      "text/plain": [
       "       rest_id    city                                      cuisine_style  \\\n",
       "38625  id_2537   Paris                             ['French', 'European']   \n",
       "551    id_1639  Berlin  ['Cafe', 'European', 'Vegetarian Friendly', 'V...   \n",
       "11214  id_3023   Paris  ['French', 'Cafe', 'Barbecue', 'Contemporary',...   \n",
       "18856  id_2281  Prague                                           ['Cafe']   \n",
       "9071    id_557  Madrid              ['Mediterranean', 'Spanish', 'Grill']   \n",
       "\n",
       "       ranking  rating price_range  num_of_reviews  \\\n",
       "38625   2538.0     4.0           $            92.0   \n",
       "551     1641.0     4.0           $            64.0   \n",
       "11214   3024.0     5.0    $$ - $$$            17.0   \n",
       "18856   2286.0     4.5         NaN             2.0   \n",
       "9071     558.0     4.5    $$ - $$$           200.0   \n",
       "\n",
       "                                                 reviews  \\\n",
       "38625  [['Better Late Than Never', 'Taking and giving...   \n",
       "551    [['Nice cafe', 'Very nice breakfast'], ['12/26...   \n",
       "11214  [['awesome experience', 'Really good'], ['12/1...   \n",
       "18856                    [['Good Food'], ['01/28/2017']]   \n",
       "9071   [['A beautiful authentic spanish restaurant', ...   \n",
       "\n",
       "                                                  URL_TA      ID_TA  \n",
       "38625  /Restaurant_Review-g187147-d4089279-Reviews-Fo...   d4089279  \n",
       "551    /Restaurant_Review-g187323-d6494498-Reviews-Be...   d6494498  \n",
       "11214  /Restaurant_Review-g187147-d12242250-Reviews-B...  d12242250  \n",
       "18856  /Restaurant_Review-g274707-d7124492-Reviews-Mo...   d7124492  \n",
       "9071   /Restaurant_Review-g187514-d3609685-Reviews-Ca...   d3609685  "
      ]
     },
     "execution_count": 7,
     "metadata": {},
     "output_type": "execute_result"
    }
   ],
   "source": [
    "df.sample(5)"
   ]
  },
  {
   "cell_type": "markdown",
   "metadata": {},
   "source": [
    "## EDA"
   ]
  },
  {
   "cell_type": "code",
   "execution_count": 8,
   "metadata": {},
   "outputs": [
    {
     "data": {
      "text/plain": [
       "<matplotlib.axes._subplots.AxesSubplot at 0x1e88077d190>"
      ]
     },
     "execution_count": 8,
     "metadata": {},
     "output_type": "execute_result"
    },
    {
     "data": {
      "image/png": "[encoded data removed]",
      "text/plain": [
       "<Figure size 720x504 with 1 Axes>"
      ]
     },
     "metadata": {},
     "output_type": "display_data"
    }
   ],
   "source": [
    "plt.rcParams['figure.figsize'] = (10, 7)\n",
    "df['ranking'].hist(bins=100)"
   ]
  },
  {
   "cell_type": "markdown",
   "metadata": {},
   "source": [
    "There are many restaurants with low rank, less then 3000"
   ]
  },
  {
   "cell_type": "code",
   "execution_count": 9,
   "metadata": {},
   "outputs": [
    {
     "data": {
      "text/plain": [
       "<matplotlib.axes._subplots.AxesSubplot at 0x1e8833fdd00>"
      ]
     },
     "execution_count": 9,
     "metadata": {},
     "output_type": "execute_result"
    },
    {
     "data": {
      "image/png": "[encoded data removed]",
      "text/plain": [
       "<Figure size 720x504 with 1 Axes>"
      ]
     },
     "metadata": {},
     "output_type": "display_data"
    }
   ],
   "source": [
    "df['city'].value_counts(ascending=True).plot(kind='barh')"
   ]
  },
  {
   "cell_type": "markdown",
   "metadata": {},
   "source": [
    "The biggest amount of restaurants in London"
   ]
  },
  {
   "cell_type": "code",
   "execution_count": 10,
   "metadata": {},
   "outputs": [
    {
     "data": {
      "image/png": "[encoded data removed]",
      "text/plain": [
       "<Figure size 720x504 with 1 Axes>"
      ]
     },
     "metadata": {},
     "output_type": "display_data"
    }
   ],
   "source": [
    "for x in (df['city'].value_counts())[0:10].index:\n",
    "    df['ranking'][df['city'] == x].hist(bins=100)\n",
    "plt.title('Distribution of restaurants in top 10 cities')\n",
    "plt.show()"
   ]
  },
  {
   "cell_type": "markdown",
   "metadata": {},
   "source": [
    "Ranking has a normal distribution. Th shift is only dut to more restaurants in big cities."
   ]
  },
  {
   "cell_type": "markdown",
   "metadata": {},
   "source": [
    "It makes sense to create a new feature which put all rankings to the same common value."
   ]
  },
  {
   "cell_type": "markdown",
   "metadata": {},
   "source": [
    "Checking the distribution of target value vs rank of the restaurant"
   ]
  },
  {
   "cell_type": "code",
   "execution_count": 11,
   "metadata": {},
   "outputs": [
    {
     "data": {
      "text/plain": [
       "<matplotlib.axes._subplots.AxesSubplot at 0x1e884f06df0>"
      ]
     },
     "execution_count": 11,
     "metadata": {},
     "output_type": "execute_result"
    },
    {
     "data": {
      "image/png": "[encoded data removed]",
      "text/plain": [
       "<Figure size 720x504 with 1 Axes>"
      ]
     },
     "metadata": {},
     "output_type": "display_data"
    }
   ],
   "source": [
    "df['ranking'][df['rating'] == 5].hist(bins=100)"
   ]
  },
  {
   "cell_type": "code",
   "execution_count": 12,
   "metadata": {},
   "outputs": [
    {
     "data": {
      "text/plain": [
       "<matplotlib.axes._subplots.AxesSubplot at 0x1e88587a550>"
      ]
     },
     "execution_count": 12,
     "metadata": {},
     "output_type": "execute_result"
    },
    {
     "data": {
      "image/png": "[encoded data removed]",
      "text/plain": [
       "<Figure size 720x504 with 1 Axes>"
      ]
     },
     "metadata": {},
     "output_type": "display_data"
    }
   ],
   "source": [
    "df['ranking'][df['rating'] < 4].hist(bins=100)"
   ]
  },
  {
   "cell_type": "markdown",
   "metadata": {},
   "source": [
    "Distribution is assymetrical, rigth shifted. Mostly ranking is lower then 4000 "
   ]
  },
  {
   "cell_type": "markdown",
   "metadata": {},
   "source": [
    "Correlative analysis"
   ]
  },
  {
   "cell_type": "code",
   "execution_count": 13,
   "metadata": {},
   "outputs": [
    {
     "data": {
      "text/plain": [
       "<matplotlib.axes._subplots.AxesSubplot at 0x1e885923df0>"
      ]
     },
     "execution_count": 13,
     "metadata": {},
     "output_type": "execute_result"
    },
    {
     "data": {
      "image/png": "[encoded data removed]",
      "text/plain": [
       "<Figure size 1080x720 with 2 Axes>"
      ]
     },
     "metadata": {},
     "output_type": "display_data"
    }
   ],
   "source": [
    "sns.set()\n",
    "fig, ax = plt.subplots(figsize=(15, 10))\n",
    "sns.heatmap(df.corr(), annot=True, ax=ax, fmt=\".2f\")"
   ]
  },
  {
   "cell_type": "markdown",
   "metadata": {},
   "source": [
    "All features are correlated badly and will be used for model. It is also good to do correlation later, fater feature engineering"
   ]
  },
  {
   "cell_type": "markdown",
   "metadata": {},
   "source": [
    "## Cleaning and Preparing Data"
   ]
  },
  {
   "cell_type": "markdown",
   "metadata": {},
   "source": [
    "Functions"
   ]
  },
  {
   "cell_type": "code",
   "execution_count": 14,
   "metadata": {},
   "outputs": [],
   "source": [
    "def reviews_date(rew, count): # function getting date from string\n",
    "    date = re.findall(r'\\d\\d?/\\d\\d?/\\d+', rew)\n",
    "    if len(date) == 0:\n",
    "        return np.nan\n",
    "    if count == 1:\n",
    "        return pd.to_datetime(date[0])\n",
    "    elif len(date) == 2:\n",
    "        return pd.to_datetime(date[1])\n",
    "    else:\n",
    "        return np.nan\n",
    "\n",
    "#functions calculation of relative restaurant level among all city restaurants\n",
    "def get_Weight_Rank_RK(row):\n",
    "    Weight_Rank = row['ranking'] / row['restaurants_count']  \n",
    "    return Weight_Rank \n",
    "\n",
    "def get_Weight_Rank(row):\n",
    "    i=0\n",
    "    city_min = CityMinMax[CityMinMax['city'] == row.city ]['min'].iloc[0]\n",
    "    city_max = CityMinMax[CityMinMax['city'] == row.city ]['max'].iloc[0]\n",
    "    Weight_Rank = round(1-(row['ranking'] - city_min)/(city_max - city_min),3)\n",
    "    return Weight_Rank\n",
    "\n",
    "def createWordList(line): # function to sreate a word list\n",
    "    wordList2 =[]  \n",
    "    wordList1 = line.split()  \n",
    "    for word in wordList1:  \n",
    "        cleanWord = \"\"  \n",
    "        for char in word:   \n",
    "            if char in '!,.?\":;0123456789':  \n",
    "                char = \"\"  \n",
    "            cleanWord += char  \n",
    "        wordList2.append(cleanWord.lower())  \n",
    "    return wordList2 \n",
    "\n",
    "def count_positive_words_proportion(rew):  # Amount of positive words if reviews   \n",
    "    pos_words_count = 0  \n",
    "    txts=re.findall(r'\\w+\\s*\\w*\\s*\\w*', rew)  \n",
    "    txt = ' '.join(txts)  \n",
    "    #print(type(txt))  \n",
    "    words = createWordList(txt) \n",
    "    \n",
    "    words_count = len(words) if len(words) > 0 else 1 \n",
    "    words_count = 1 \n",
    "    \n",
    "    pos_words_in_review=set(words).intersection(pos_words_list)  \n",
    "    for word in words:  \n",
    "        if word in pos_words_list:  \n",
    "           #print(word)  \n",
    "            pos_words_count +=1  \n",
    "    return np.round(pos_words_count/words_count,2) \n",
    "\n",
    "\n",
    "def list_positive_words(rew): #List of unique positive words in reviews \n",
    "    txts=re.findall(r'\\w+\\s*\\w*\\s*\\w*', rew)\n",
    "    txt = ' '.join(txts)\n",
    "    #print(type(txt))  \n",
    "    words = createWordList(txt)\n",
    "    words_count = len(words) if len(words) > 0 else 1  \n",
    "    words_count = 1  \n",
    "    pos_words_in_review=set(words).intersection(pos_words_list) \n",
    "        #print(len(pos_words_in_review))  \n",
    "    if (len(pos_words_in_review) == 0):  \n",
    "        return np.NAN  \n",
    "    else:  \n",
    "        return list(pos_words_in_review) "
   ]
  },
  {
   "cell_type": "code",
   "execution_count": 15,
   "metadata": {},
   "outputs": [],
   "source": [
    "# replacing of price range to more undestandable names and\n",
    "# filling in NaNs to 2 as it is the most frequent\n",
    "\n",
    "df['price_range'] = df['price_range'].replace({\n",
    "    '$': 'low',\n",
    "    '$$ - $$$': 'middle',\n",
    "    '$$$$': 'high'\n",
    "})\n",
    "\n",
    "df['price_range'] = df['price_range'].fillna('middle')"
   ]
  },
  {
   "cell_type": "code",
   "execution_count": 16,
   "metadata": {},
   "outputs": [],
   "source": [
    "# filling Nan\n",
    "df['num_of_reviews_isNAN'] = pd.isna(df['num_of_reviews']).astype('uint8')\n",
    "\n",
    "df['reviews_txt_NaN'] = pd.isna(df['reviews']).astype('uint8')\n",
    "\n",
    "df['cuisine_style_NAN'] = pd.isna(df['cuisine_style']).astype('uint8') \n",
    "\n",
    "df['price_range_NAN'] = pd.isna(df['price_range']).astype('uint8')  \n",
    "\n",
    "df['num_of_reviews'].fillna(0, inplace=True)\n",
    "df['cuisine_style'] = df['cuisine_style'].fillna('unk')\n",
    "df['reviews'] = df['reviews'].fillna('no review')"
   ]
  },
  {
   "cell_type": "markdown",
   "metadata": {},
   "source": [
    "## Feature engineering"
   ]
  },
  {
   "cell_type": "code",
   "execution_count": 17,
   "metadata": {},
   "outputs": [],
   "source": [
    "# creating a new column to show how many cuisines are in the restaurant, filling nan by 1\n",
    "df['cuisine_count'] = df['cuisine_style'].str.findall(\n",
    "    r'\\w+\\s*\\w*\\s*\\w*').apply(lambda x: 1 if (x == 'unk') else len(x))"
   ]
  },
  {
   "cell_type": "code",
   "execution_count": 18,
   "metadata": {},
   "outputs": [
    {
     "data": {
      "text/plain": [
       "count    40000.000000\n",
       "mean         2.622900\n",
       "std          1.817602\n",
       "min          1.000000\n",
       "25%          1.000000\n",
       "50%          2.000000\n",
       "75%          4.000000\n",
       "max         21.000000\n",
       "Name: cuisine_count, dtype: float64"
      ]
     },
     "execution_count": 18,
     "metadata": {},
     "output_type": "execute_result"
    }
   ],
   "source": [
    "df['cuisine_count'].describe()"
   ]
  },
  {
   "cell_type": "code",
   "execution_count": 19,
   "metadata": {},
   "outputs": [],
   "source": [
    "# Amount of positive words in reviews\n",
    "df['PositiveWords'] = df['reviews'].apply(lambda x: count_positive_words_proportion(x))\n",
    "# List of unique positive words in reviews\n",
    "df['PositiveWordsList'] = df['reviews'].apply(lambda x: list_positive_words(x))"
   ]
  },
  {
   "cell_type": "code",
   "execution_count": 20,
   "metadata": {},
   "outputs": [
    {
     "data": {
      "text/html": [
       "<div>\n",
       "<style scoped>\n",
       "    .dataframe tbody tr th:only-of-type {\n",
       "        vertical-align: middle;\n",
       "    }\n",
       "\n",
       "    .dataframe tbody tr th {\n",
       "        vertical-align: top;\n",
       "    }\n",
       "\n",
       "    .dataframe thead th {\n",
       "        text-align: right;\n",
       "    }\n",
       "</style>\n",
       "<table border=\"1\" class=\"dataframe\">\n",
       "  <thead>\n",
       "    <tr style=\"text-align: right;\">\n",
       "      <th></th>\n",
       "      <th>rest_id</th>\n",
       "      <th>city</th>\n",
       "      <th>cuisine_style</th>\n",
       "      <th>ranking</th>\n",
       "      <th>rating</th>\n",
       "      <th>price_range</th>\n",
       "      <th>num_of_reviews</th>\n",
       "      <th>reviews</th>\n",
       "      <th>URL_TA</th>\n",
       "      <th>ID_TA</th>\n",
       "      <th>num_of_reviews_isNAN</th>\n",
       "      <th>reviews_txt_NaN</th>\n",
       "      <th>cuisine_style_NAN</th>\n",
       "      <th>price_range_NAN</th>\n",
       "      <th>cuisine_count</th>\n",
       "      <th>PositiveWords</th>\n",
       "      <th>PositiveWordsList</th>\n",
       "    </tr>\n",
       "  </thead>\n",
       "  <tbody>\n",
       "    <tr>\n",
       "      <th>27933</th>\n",
       "      <td>id_7528</td>\n",
       "      <td>Paris</td>\n",
       "      <td>['French', 'European']</td>\n",
       "      <td>7529.0</td>\n",
       "      <td>4.0</td>\n",
       "      <td>middle</td>\n",
       "      <td>68.0</td>\n",
       "      <td>[['Visited twice . Dinner and brunch next day'...</td>\n",
       "      <td>/Restaurant_Review-g187147-d2230824-Reviews-Le...</td>\n",
       "      <td>d2230824</td>\n",
       "      <td>0</td>\n",
       "      <td>0</td>\n",
       "      <td>0</td>\n",
       "      <td>0</td>\n",
       "      <td>2</td>\n",
       "      <td>1.0</td>\n",
       "      <td>[good]</td>\n",
       "    </tr>\n",
       "    <tr>\n",
       "      <th>9021</th>\n",
       "      <td>id_7612</td>\n",
       "      <td>Paris</td>\n",
       "      <td>['Bar', 'Pub']</td>\n",
       "      <td>7613.0</td>\n",
       "      <td>4.5</td>\n",
       "      <td>low</td>\n",
       "      <td>7.0</td>\n",
       "      <td>[['Must Visit for Happy Hour Drinks'], ['12/20...</td>\n",
       "      <td>/Restaurant_Review-g187147-d11827928-Reviews-C...</td>\n",
       "      <td>d11827928</td>\n",
       "      <td>0</td>\n",
       "      <td>0</td>\n",
       "      <td>0</td>\n",
       "      <td>0</td>\n",
       "      <td>2</td>\n",
       "      <td>1.0</td>\n",
       "      <td>[happy]</td>\n",
       "    </tr>\n",
       "    <tr>\n",
       "      <th>34998</th>\n",
       "      <td>id_13723</td>\n",
       "      <td>Paris</td>\n",
       "      <td>unk</td>\n",
       "      <td>13725.0</td>\n",
       "      <td>2.0</td>\n",
       "      <td>middle</td>\n",
       "      <td>2.0</td>\n",
       "      <td>[[], []]</td>\n",
       "      <td>/Restaurant_Review-g187147-d5813747-Reviews-Le...</td>\n",
       "      <td>d5813747</td>\n",
       "      <td>0</td>\n",
       "      <td>0</td>\n",
       "      <td>1</td>\n",
       "      <td>0</td>\n",
       "      <td>1</td>\n",
       "      <td>0.0</td>\n",
       "      <td>NaN</td>\n",
       "    </tr>\n",
       "    <tr>\n",
       "      <th>11985</th>\n",
       "      <td>id_1656</td>\n",
       "      <td>Munich</td>\n",
       "      <td>unk</td>\n",
       "      <td>1669.0</td>\n",
       "      <td>4.5</td>\n",
       "      <td>middle</td>\n",
       "      <td>4.0</td>\n",
       "      <td>[['Nice local simple lunch'], ['04/18/2016']]</td>\n",
       "      <td>/Restaurant_Review-g187309-d10034042-Reviews-C...</td>\n",
       "      <td>d10034042</td>\n",
       "      <td>0</td>\n",
       "      <td>0</td>\n",
       "      <td>1</td>\n",
       "      <td>0</td>\n",
       "      <td>1</td>\n",
       "      <td>1.0</td>\n",
       "      <td>[nice]</td>\n",
       "    </tr>\n",
       "    <tr>\n",
       "      <th>7823</th>\n",
       "      <td>id_77</td>\n",
       "      <td>Vienna</td>\n",
       "      <td>['German', 'Austrian', 'European', 'Central Eu...</td>\n",
       "      <td>78.0</td>\n",
       "      <td>4.0</td>\n",
       "      <td>middle</td>\n",
       "      <td>1066.0</td>\n",
       "      <td>[['Good food and good fun', 'The Vienesse equi...</td>\n",
       "      <td>/Restaurant_Review-g190454-d1799525-Reviews-Re...</td>\n",
       "      <td>d1799525</td>\n",
       "      <td>0</td>\n",
       "      <td>0</td>\n",
       "      <td>0</td>\n",
       "      <td>0</td>\n",
       "      <td>5</td>\n",
       "      <td>3.0</td>\n",
       "      <td>[good, fun]</td>\n",
       "    </tr>\n",
       "  </tbody>\n",
       "</table>\n",
       "</div>"
      ],
      "text/plain": [
       "        rest_id    city                                      cuisine_style  \\\n",
       "27933   id_7528   Paris                             ['French', 'European']   \n",
       "9021    id_7612   Paris                                     ['Bar', 'Pub']   \n",
       "34998  id_13723   Paris                                                unk   \n",
       "11985   id_1656  Munich                                                unk   \n",
       "7823      id_77  Vienna  ['German', 'Austrian', 'European', 'Central Eu...   \n",
       "\n",
       "       ranking  rating price_range  num_of_reviews  \\\n",
       "27933   7529.0     4.0      middle            68.0   \n",
       "9021    7613.0     4.5         low             7.0   \n",
       "34998  13725.0     2.0      middle             2.0   \n",
       "11985   1669.0     4.5      middle             4.0   \n",
       "7823      78.0     4.0      middle          1066.0   \n",
       "\n",
       "                                                 reviews  \\\n",
       "27933  [['Visited twice . Dinner and brunch next day'...   \n",
       "9021   [['Must Visit for Happy Hour Drinks'], ['12/20...   \n",
       "34998                                           [[], []]   \n",
       "11985      [['Nice local simple lunch'], ['04/18/2016']]   \n",
       "7823   [['Good food and good fun', 'The Vienesse equi...   \n",
       "\n",
       "                                                  URL_TA      ID_TA  \\\n",
       "27933  /Restaurant_Review-g187147-d2230824-Reviews-Le...   d2230824   \n",
       "9021   /Restaurant_Review-g187147-d11827928-Reviews-C...  d11827928   \n",
       "34998  /Restaurant_Review-g187147-d5813747-Reviews-Le...   d5813747   \n",
       "11985  /Restaurant_Review-g187309-d10034042-Reviews-C...  d10034042   \n",
       "7823   /Restaurant_Review-g190454-d1799525-Reviews-Re...   d1799525   \n",
       "\n",
       "       num_of_reviews_isNAN  reviews_txt_NaN  cuisine_style_NAN  \\\n",
       "27933                     0                0                  0   \n",
       "9021                      0                0                  0   \n",
       "34998                     0                0                  1   \n",
       "11985                     0                0                  1   \n",
       "7823                      0                0                  0   \n",
       "\n",
       "       price_range_NAN  cuisine_count  PositiveWords PositiveWordsList  \n",
       "27933                0              2            1.0            [good]  \n",
       "9021                 0              2            1.0           [happy]  \n",
       "34998                0              1            0.0               NaN  \n",
       "11985                0              1            1.0            [nice]  \n",
       "7823                 0              5            3.0       [good, fun]  "
      ]
     },
     "execution_count": 20,
     "metadata": {},
     "output_type": "execute_result"
    }
   ],
   "source": [
    "df.sample(5)"
   ]
  },
  {
   "cell_type": "code",
   "execution_count": 21,
   "metadata": {},
   "outputs": [],
   "source": [
    "# working with dates from Reviews to create new feature on difference between the dates\n",
    "\n",
    "df['date_first'] = df['reviews'].apply(lambda x: reviews_date(x, 1))\n",
    "df['date_second'] = df['reviews'].apply(lambda x: reviews_date(x, 2))\n",
    "\n",
    "df['rev_date_dif'] = df['date_first'] - df['date_second']\n",
    "\n",
    "df['rev_date_dif'] = df['rev_date_dif'].fillna(df['rev_date_dif'].mean())\n",
    "\n",
    "df['rev_date_dif'] = df['rev_date_dif'].apply(  # new column reflects how many days are between reviews\n",
    "    lambda x: pd.to_timedelta(x).days)"
   ]
  },
  {
   "cell_type": "code",
   "execution_count": 22,
   "metadata": {},
   "outputs": [],
   "source": [
    "# creating a new column which express the rating of restaurant based on mean rating for this city\n",
    "df['ranking_city'] = 0\n",
    "for item in df['city'].unique():\n",
    "    cr_mean = df['ranking'].loc[df['city'] == item].mean()\n",
    "    df['ranking_city'].loc[df['city'] == item] = cr_mean\n",
    "df['ranking_city'] = df['ranking_city'] / df['ranking']"
   ]
  },
  {
   "cell_type": "code",
   "execution_count": 23,
   "metadata": {},
   "outputs": [],
   "source": [
    "# making list of cities available at df with there population taking from cities\n",
    "city_list = {}\n",
    "for city in df.city.unique():\n",
    "    city_list[city] = cities.Population[(cities.AccentCity == city) & (cities.Population.isnull() == False)].max() "
   ]
  },
  {
   "cell_type": "code",
   "execution_count": 24,
   "metadata": {},
   "outputs": [
    {
     "data": {
      "text/plain": [
       "{'Paris': 2110694.0,\n",
       " 'Stockholm': 1253309.0,\n",
       " 'London': 7421228.0,\n",
       " 'Berlin': 3398362.0,\n",
       " 'Munich': 1246133.0,\n",
       " 'Oporto': nan,\n",
       " 'Milan': 1156903.0,\n",
       " 'Bratislava': 423737.0,\n",
       " 'Vienna': 1569315.0,\n",
       " 'Rome': 2643736.0,\n",
       " 'Barcelona': 1570378.0,\n",
       " 'Madrid': 3102644.0,\n",
       " 'Dublin': 1024027.0,\n",
       " 'Brussels': 1019022.0,\n",
       " 'Zurich': 346185.0,\n",
       " 'Warsaw': 1651676.0,\n",
       " 'Budapest': 1708088.0,\n",
       " 'Copenhagen': 1089958.0,\n",
       " 'Amsterdam': 745811.0,\n",
       " 'Lyon': 463700.0,\n",
       " 'Hamburg': 1733846.0,\n",
       " 'Lisbon': 517798.0,\n",
       " 'Prague': 1154508.0,\n",
       " 'Oslo': 808690.0,\n",
       " 'Helsinki': 558457.0,\n",
       " 'Edinburgh': 435794.0,\n",
       " 'Geneva': 181492.0,\n",
       " 'Ljubljana': 255115.0,\n",
       " 'Athens': 729139.0,\n",
       " 'Luxembourg': nan,\n",
       " 'Krakow': nan}"
      ]
     },
     "execution_count": 24,
     "metadata": {},
     "output_type": "execute_result"
    }
   ],
   "source": [
    "city_list"
   ]
  },
  {
   "cell_type": "code",
   "execution_count": 25,
   "metadata": {},
   "outputs": [],
   "source": [
    "# there are 3 nan values which are filled using data from Google\n",
    "city_list['Krakow'] = 766683\n",
    "city_list['Luxembourg'] = 625978\n",
    "city_list['Oporto'] = 1313000"
   ]
  },
  {
   "cell_type": "code",
   "execution_count": null,
   "metadata": {},
   "outputs": [],
   "source": [
    "# making new column in df with population for each city\n",
    "df['population'] = 0\n",
    "for item in df['city'].unique():\n",
    "    df['population'].loc[df['city'] == item] = city_list[item]\n",
    "\n",
    "# new column reflects ratio between amount of population and rankig of the restaurant    \n",
    "df['pop_ranking'] = df['population']/df['ranking']\n",
    "\n",
    "# Amount of restaurants in each city\n",
    "restaurants_in_city = df.groupby('city')['ranking'].count().to_dict()\n",
    "df['restaurants_count'] = df['city'].map(restaurants_in_city)\n",
    "\n",
    "# Amount of restaurants on 1000 humans for each city\n",
    "df['restaurants_population'] = df['restaurants_count']/df['population']\n",
    "\n",
    "# Weight of the restaurant amoung all other restaurants in the city\n",
    "df['weight_rank'] = df.apply(lambda x: get_Weight_Rank_RK(x), axis=1)\n",
    "\n",
    "CityMinMax = df.groupby('city')['ranking'].agg([min,max])\n",
    "CityMinMax =CityMinMax.reset_index()\n",
    "df['weight_rank_min_max'] = df.apply(lambda x: get_Weight_Rank(x), axis=1)\n",
    "\n",
    "df.sample(5)"
   ]
  },
  {
   "cell_type": "code",
   "execution_count": null,
   "metadata": {},
   "outputs": [],
   "source": [
    "# One-Hot Encoding - creating dummies from price range and city\n",
    "for cat in ['price_range','city']:\n",
    "    df = pd.concat([df, pd.get_dummies(df[cat], prefix=cat)], axis=1)\n",
    "    df = df.drop([cat], axis=1)"
   ]
  },
  {
   "cell_type": "code",
   "execution_count": null,
   "metadata": {},
   "outputs": [],
   "source": [
    "object_columns = [s for s in df.columns if df[s].dtypes == 'object']\n",
    "df.drop(object_columns, axis=1, inplace=True)\n",
    "df.drop(['date_first'], axis=1, inplace=True)\n",
    "df.drop(['date_second'], axis=1, inplace=True)"
   ]
  },
  {
   "cell_type": "code",
   "execution_count": null,
   "metadata": {},
   "outputs": [],
   "source": [
    "df.head()"
   ]
  },
  {
   "cell_type": "code",
   "execution_count": null,
   "metadata": {},
   "outputs": [],
   "source": [
    "df.corr()"
   ]
  },
  {
   "cell_type": "code",
   "execution_count": null,
   "metadata": {},
   "outputs": [],
   "source": [
    "# another correlative analysis wiht all features\n",
    "sns.set()\n",
    "fig, ax = plt.subplots(figsize=(15, 10))\n",
    "sns.heatmap(df.corr(), ax=ax, fmt=\".2f\")"
   ]
  },
  {
   "cell_type": "markdown",
   "metadata": {},
   "source": [
    "We may see that all of fatures has low correlation with target value, except some new features like amount of population. "
   ]
  },
  {
   "cell_type": "markdown",
   "metadata": {},
   "source": [
    "# Split dataframe to two parts for model tarining and testing"
   ]
  },
  {
   "cell_type": "code",
   "execution_count": null,
   "metadata": {},
   "outputs": [],
   "source": [
    "# Х - restaurants data, у - target variable (restaurants rating)\n",
    "X = df.drop(['rating'], axis = 1)\n",
    "y = df['rating']"
   ]
  },
  {
   "cell_type": "code",
   "execution_count": null,
   "metadata": {},
   "outputs": [],
   "source": [
    "# import tools:\n",
    "from sklearn.model_selection import train_test_split"
   ]
  },
  {
   "cell_type": "code",
   "execution_count": null,
   "metadata": {},
   "outputs": [],
   "source": [
    "# \"train\" data is for model training, \"test\" - for model testing.\n",
    "# Fo testing is used 25% of origin dataset.\n",
    "X_train, X_test, y_train, y_test = train_test_split(X, y, test_size=0.25)"
   ]
  },
  {
   "cell_type": "markdown",
   "metadata": {},
   "source": [
    "# Create, train and test the model"
   ]
  },
  {
   "cell_type": "code",
   "execution_count": null,
   "metadata": {},
   "outputs": [],
   "source": [
    "# libraries import\n",
    "from sklearn.ensemble import RandomForestRegressor # tool for model training and testing\n",
    "from sklearn import metrics # tool for evaluation of model"
   ]
  },
  {
   "cell_type": "code",
   "execution_count": null,
   "metadata": {},
   "outputs": [],
   "source": [
    "# model creating\n",
    "regr = RandomForestRegressor(n_estimators=100)\n",
    "\n",
    "# model training on test data\n",
    "regr.fit(X_train, y_train)\n",
    "\n",
    "# using of trained model for predication of restaurants rating in test data.\n",
    "# Predicted values put in y_pred\n",
    "y_pred = regr.predict(X_test)"
   ]
  },
  {
   "cell_type": "code",
   "execution_count": null,
   "metadata": {},
   "outputs": [],
   "source": [
    "# Compare predicted values (y_pred) with real (y_test), checking what is the medium difference\n",
    "# Metrics called Mean Absolute Error (MAE) chows mean error for predicted values form real ones.\n",
    "print('MAE:', metrics.mean_absolute_error(y_test, y_pred))"
   ]
  },
  {
   "cell_type": "code",
   "execution_count": null,
   "metadata": {},
   "outputs": [],
   "source": [
    "# lets see the most important features for the model\n",
    "plt.rcParams['figure.figsize'] = (10,10)\n",
    "feat_importances = pd.Series(regr.feature_importances_, index=X.columns)\n",
    "feat_importances.nlargest(15).plot(kind='barh')"
   ]
  },
  {
   "cell_type": "code",
   "execution_count": null,
   "metadata": {},
   "outputs": [],
   "source": []
  }
 ],
 "metadata": {
  "kernelspec": {
   "display_name": "Python 3",
   "language": "python",
   "name": "python3"
  },
  "language_info": {
   "codemirror_mode": {
    "name": "ipython",
    "version": 3
   },
   "file_extension": ".py",
   "mimetype": "text/x-python",
   "name": "python",
   "nbconvert_exporter": "python",
   "pygments_lexer": "ipython3",
   "version": "3.8.3"
  },
  "toc": {
   "base_numbering": 1,
   "nav_menu": {},
   "number_sections": true,
   "sideBar": true,
   "skip_h1_title": false,
   "title_cell": "Table of Contents",
   "title_sidebar": "Contents",
   "toc_cell": false,
   "toc_position": {},
   "toc_section_display": true,
   "toc_window_display": false
  },
  "varInspector": {
   "cols": {
    "lenName": 16,
    "lenType": 16,
    "lenVar": 40
   },
   "kernels_config": {
    "python": {
     "delete_cmd_postfix": "",
     "delete_cmd_prefix": "del ",
     "library": "var_list.py",
     "varRefreshCmd": "print(var_dic_list())"
    },
    "r": {
     "delete_cmd_postfix": ") ",
     "delete_cmd_prefix": "rm(",
     "library": "var_list.r",
     "varRefreshCmd": "cat(var_dic_list()) "
    }
   },
   "types_to_exclude": [
    "module",
    "function",
    "builtin_function_or_method",
    "instance",
    "_Feature"
   ],
   "window_display": false
  }
 },
 "nbformat": 4,
 "nbformat_minor": 2
}
